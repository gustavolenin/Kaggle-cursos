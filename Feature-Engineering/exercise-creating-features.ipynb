{
 "cells": [
  {
   "cell_type": "markdown",
   "id": "d8ed2168",
   "metadata": {
    "papermill": {
     "duration": 0.008958,
     "end_time": "2022-09-27T01:32:45.573007",
     "exception": false,
     "start_time": "2022-09-27T01:32:45.564049",
     "status": "completed"
    },
    "tags": []
   },
   "source": [
    "**This notebook is an exercise in the [Feature Engineering](https://www.kaggle.com/learn/feature-engineering) course.  You can reference the tutorial at [this link](https://www.kaggle.com/ryanholbrook/creating-features).**\n",
    "\n",
    "---\n"
   ]
  },
  {
   "cell_type": "markdown",
   "id": "1c287570",
   "metadata": {
    "papermill": {
     "duration": 0.005679,
     "end_time": "2022-09-27T01:32:45.584948",
     "exception": false,
     "start_time": "2022-09-27T01:32:45.579269",
     "status": "completed"
    },
    "tags": []
   },
   "source": [
    "# Introduction #\n",
    "\n",
    "In this exercise you'll start developing the features you identified in Exercise 2 as having the most potential. As you work through this exercise, you might take a moment to look at the data documentation again and consider whether the features we're creating make sense from a real-world perspective, and whether there are any useful combinations that stand out to you.\n",
    "\n",
    "Run this cell to set everything up!"
   ]
  },
  {
   "cell_type": "code",
   "execution_count": 1,
   "id": "2fc1cad8",
   "metadata": {
    "execution": {
     "iopub.execute_input": "2022-09-27T01:32:45.599581Z",
     "iopub.status.busy": "2022-09-27T01:32:45.598593Z",
     "iopub.status.idle": "2022-09-27T01:32:47.009660Z",
     "shell.execute_reply": "2022-09-27T01:32:47.008595Z"
    },
    "papermill": {
     "duration": 1.42171,
     "end_time": "2022-09-27T01:32:47.012516",
     "exception": false,
     "start_time": "2022-09-27T01:32:45.590806",
     "status": "completed"
    },
    "tags": []
   },
   "outputs": [],
   "source": [
    "# Setup feedback system\n",
    "from learntools.core import binder\n",
    "binder.bind(globals())\n",
    "from learntools.feature_engineering_new.ex3 import *\n",
    "\n",
    "import numpy as np\n",
    "import pandas as pd\n",
    "from sklearn.model_selection import cross_val_score\n",
    "from xgboost import XGBRegressor\n",
    "\n",
    "\n",
    "def score_dataset(X, y, model=XGBRegressor()):\n",
    "    # Label encoding for categoricals\n",
    "    for colname in X.select_dtypes([\"category\", \"object\"]):\n",
    "        X[colname], _ = X[colname].factorize()\n",
    "    # Metric for Housing competition is RMSLE (Root Mean Squared Log Error)\n",
    "    score = cross_val_score(\n",
    "        model, X, y, cv=5, scoring=\"neg_mean_squared_log_error\",\n",
    "    )\n",
    "    score = -1 * score.mean()\n",
    "    score = np.sqrt(score)\n",
    "    return score\n",
    "\n",
    "\n",
    "# Prepare data\n",
    "df = pd.read_csv(\"../input/fe-course-data/ames.csv\")\n",
    "X = df.copy()\n",
    "y = X.pop(\"SalePrice\")"
   ]
  },
  {
   "cell_type": "markdown",
   "id": "2aed8a7a",
   "metadata": {
    "papermill": {
     "duration": 0.00583,
     "end_time": "2022-09-27T01:32:47.024150",
     "exception": false,
     "start_time": "2022-09-27T01:32:47.018320",
     "status": "completed"
    },
    "tags": []
   },
   "source": [
    "-------------------------------------------------------------------------------\n",
    "\n",
    "Let's start with a few mathematical combinations. We'll focus on features describing areas -- having the same units (square-feet) makes it easy to combine them in sensible ways. Since we're using XGBoost (a tree-based model), we'll focus on ratios and sums.\n",
    "\n",
    "# 1) Create Mathematical Transforms\n",
    "\n",
    "Create the following features:\n",
    "\n",
    "- `LivLotRatio`: the ratio of `GrLivArea` to `LotArea`\n",
    "- `Spaciousness`: the sum of `FirstFlrSF` and `SecondFlrSF` divided by `TotRmsAbvGrd`\n",
    "- `TotalOutsideSF`: the sum of `WoodDeckSF`, `OpenPorchSF`, `EnclosedPorch`, `Threeseasonporch`, and `ScreenPorch`"
   ]
  },
  {
   "cell_type": "code",
   "execution_count": 2,
   "id": "e6bd6cfe",
   "metadata": {
    "execution": {
     "iopub.execute_input": "2022-09-27T01:32:47.037677Z",
     "iopub.status.busy": "2022-09-27T01:32:47.037009Z",
     "iopub.status.idle": "2022-09-27T01:32:47.061291Z",
     "shell.execute_reply": "2022-09-27T01:32:47.060138Z"
    },
    "lines_to_next_cell": 0,
    "papermill": {
     "duration": 0.034839,
     "end_time": "2022-09-27T01:32:47.064747",
     "exception": false,
     "start_time": "2022-09-27T01:32:47.029908",
     "status": "completed"
    },
    "tags": []
   },
   "outputs": [
    {
     "data": {
      "application/javascript": [
       "parent.postMessage({\"jupyterEvent\": \"custom.exercise_interaction\", \"data\": {\"outcomeType\": 1, \"valueTowardsCompletion\": 0.2, \"interactionType\": 1, \"questionType\": 2, \"questionId\": \"1_Q1\", \"learnToolsVersion\": \"0.3.4\", \"failureMessage\": \"\", \"exceptionClass\": \"\", \"trace\": \"\"}}, \"*\")"
      ],
      "text/plain": [
       "<IPython.core.display.Javascript object>"
      ]
     },
     "metadata": {},
     "output_type": "display_data"
    },
    {
     "data": {
      "text/markdown": [
       "<span style=\"color:#33cc33\">Correct</span>"
      ],
      "text/plain": [
       "Correct"
      ]
     },
     "metadata": {},
     "output_type": "display_data"
    }
   ],
   "source": [
    "# YOUR CODE HERE\n",
    "X_1 = pd.DataFrame()  # dataframe to hold new features\n",
    "\n",
    "X_1[\"LivLotRatio\"] = df.GrLivArea/df.LotArea\n",
    "X_1[\"Spaciousness\"] = (df.FirstFlrSF + df.SecondFlrSF)/df.TotRmsAbvGrd\n",
    "X_1[\"TotalOutsideSF\"] = df.WoodDeckSF+df.OpenPorchSF+df.EnclosedPorch+df.Threeseasonporch+df.ScreenPorch\n",
    "\n",
    "\n",
    "# Check your answer\n",
    "q_1.check()"
   ]
  },
  {
   "cell_type": "code",
   "execution_count": 3,
   "id": "21458666",
   "metadata": {
    "execution": {
     "iopub.execute_input": "2022-09-27T01:32:47.078671Z",
     "iopub.status.busy": "2022-09-27T01:32:47.077993Z",
     "iopub.status.idle": "2022-09-27T01:32:47.082481Z",
     "shell.execute_reply": "2022-09-27T01:32:47.081592Z"
    },
    "lines_to_next_cell": 0,
    "papermill": {
     "duration": 0.013925,
     "end_time": "2022-09-27T01:32:47.084730",
     "exception": false,
     "start_time": "2022-09-27T01:32:47.070805",
     "status": "completed"
    },
    "tags": []
   },
   "outputs": [],
   "source": [
    "# Lines below will give you a hint or solution code\n",
    "#q_1.hint()\n",
    "#q_1.solution()"
   ]
  },
  {
   "cell_type": "markdown",
   "id": "57ebc64d",
   "metadata": {
    "papermill": {
     "duration": 0.005575,
     "end_time": "2022-09-27T01:32:47.096137",
     "exception": false,
     "start_time": "2022-09-27T01:32:47.090562",
     "status": "completed"
    },
    "tags": []
   },
   "source": [
    "-------------------------------------------------------------------------------\n",
    "\n",
    "If you've discovered an interaction effect between a numeric feature and a categorical feature, you might want to model it explicitly using a one-hot encoding, like so:\n",
    "\n",
    "```\n",
    "# One-hot encode Categorical feature, adding a column prefix \"Cat\"\n",
    "X_new = pd.get_dummies(df.Categorical, prefix=\"Cat\")\n",
    "\n",
    "# Multiply row-by-row\n",
    "X_new = X_new.mul(df.Continuous, axis=0)\n",
    "\n",
    "# Join the new features to the feature set\n",
    "X = X.join(X_new)\n",
    "```\n",
    "\n",
    "# 2) Interaction with a Categorical\n",
    "\n",
    "We discovered an interaction between `BldgType` and `GrLivArea` in Exercise 2. Now create their interaction features."
   ]
  },
  {
   "cell_type": "code",
   "execution_count": 4,
   "id": "e48fc615",
   "metadata": {
    "execution": {
     "iopub.execute_input": "2022-09-27T01:32:47.110052Z",
     "iopub.status.busy": "2022-09-27T01:32:47.109412Z",
     "iopub.status.idle": "2022-09-27T01:32:47.123783Z",
     "shell.execute_reply": "2022-09-27T01:32:47.122589Z"
    },
    "lines_to_next_cell": 0,
    "papermill": {
     "duration": 0.023929,
     "end_time": "2022-09-27T01:32:47.125967",
     "exception": false,
     "start_time": "2022-09-27T01:32:47.102038",
     "status": "completed"
    },
    "tags": []
   },
   "outputs": [
    {
     "data": {
      "application/javascript": [
       "parent.postMessage({\"jupyterEvent\": \"custom.exercise_interaction\", \"data\": {\"outcomeType\": 1, \"valueTowardsCompletion\": 0.2, \"interactionType\": 1, \"questionType\": 2, \"questionId\": \"2_Q2\", \"learnToolsVersion\": \"0.3.4\", \"failureMessage\": \"\", \"exceptionClass\": \"\", \"trace\": \"\"}}, \"*\")"
      ],
      "text/plain": [
       "<IPython.core.display.Javascript object>"
      ]
     },
     "metadata": {},
     "output_type": "display_data"
    },
    {
     "data": {
      "text/markdown": [
       "<span style=\"color:#33cc33\">Correct</span>"
      ],
      "text/plain": [
       "Correct"
      ]
     },
     "metadata": {},
     "output_type": "display_data"
    }
   ],
   "source": [
    "# YOUR CODE HERE\n",
    "# One-hot encode BldgType. Use `prefix=\"Bldg\"` in `get_dummies`\n",
    "X_2 = pd.get_dummies(df.BldgType, prefix=\"Bldg\")\n",
    "# Multiply\n",
    "X_2 = X_2.mul(df.GrLivArea, axis=0)\n",
    "\n",
    "# Check your answer\n",
    "q_2.check()"
   ]
  },
  {
   "cell_type": "code",
   "execution_count": 5,
   "id": "6f1fe593",
   "metadata": {
    "execution": {
     "iopub.execute_input": "2022-09-27T01:32:47.140237Z",
     "iopub.status.busy": "2022-09-27T01:32:47.139818Z",
     "iopub.status.idle": "2022-09-27T01:32:47.144131Z",
     "shell.execute_reply": "2022-09-27T01:32:47.143075Z"
    },
    "lines_to_next_cell": 0,
    "papermill": {
     "duration": 0.014193,
     "end_time": "2022-09-27T01:32:47.146328",
     "exception": false,
     "start_time": "2022-09-27T01:32:47.132135",
     "status": "completed"
    },
    "tags": []
   },
   "outputs": [],
   "source": [
    "# Lines below will give you a hint or solution code\n",
    "#q_2.hint()\n",
    "#q_2.solution()"
   ]
  },
  {
   "cell_type": "markdown",
   "id": "e2cb567d",
   "metadata": {
    "lines_to_next_cell": 0,
    "papermill": {
     "duration": 0.005932,
     "end_time": "2022-09-27T01:32:47.158873",
     "exception": false,
     "start_time": "2022-09-27T01:32:47.152941",
     "status": "completed"
    },
    "tags": []
   },
   "source": [
    "# 3) Count Feature\n",
    "\n",
    "Let's try creating a feature that describes how many kinds of outdoor areas a dwelling has. Create a feature `PorchTypes` that counts how many of the following are greater than 0.0:\n",
    "\n",
    "```\n",
    "WoodDeckSF\n",
    "OpenPorchSF\n",
    "EnclosedPorch\n",
    "Threeseasonporch\n",
    "ScreenPorch\n",
    "```"
   ]
  },
  {
   "cell_type": "code",
   "execution_count": 6,
   "id": "c6512a07",
   "metadata": {
    "execution": {
     "iopub.execute_input": "2022-09-27T01:32:47.172640Z",
     "iopub.status.busy": "2022-09-27T01:32:47.172238Z",
     "iopub.status.idle": "2022-09-27T01:32:47.191476Z",
     "shell.execute_reply": "2022-09-27T01:32:47.190363Z"
    },
    "lines_to_next_cell": 0,
    "papermill": {
     "duration": 0.028947,
     "end_time": "2022-09-27T01:32:47.193886",
     "exception": false,
     "start_time": "2022-09-27T01:32:47.164939",
     "status": "completed"
    },
    "tags": []
   },
   "outputs": [
    {
     "data": {
      "application/javascript": [
       "parent.postMessage({\"jupyterEvent\": \"custom.exercise_interaction\", \"data\": {\"outcomeType\": 1, \"valueTowardsCompletion\": 0.2, \"interactionType\": 1, \"questionType\": 2, \"questionId\": \"3_Q3\", \"learnToolsVersion\": \"0.3.4\", \"failureMessage\": \"\", \"exceptionClass\": \"\", \"trace\": \"\"}}, \"*\")"
      ],
      "text/plain": [
       "<IPython.core.display.Javascript object>"
      ]
     },
     "metadata": {},
     "output_type": "display_data"
    },
    {
     "data": {
      "text/markdown": [
       "<span style=\"color:#33cc33\">Correct</span>"
      ],
      "text/plain": [
       "Correct"
      ]
     },
     "metadata": {},
     "output_type": "display_data"
    }
   ],
   "source": [
    "X_3 = pd.DataFrame()\n",
    "\n",
    "# YOUR CODE HERE\n",
    "components = [ \"WoodDeckSF\", \"OpenPorchSF\", \"EnclosedPorch\", \"Threeseasonporch\",\n",
    "               \"ScreenPorch\"]\n",
    "X_3[\"PorchTypes\"] = df[components].gt(0).sum(axis=1)\n",
    "\n",
    "# Check your answer\n",
    "q_3.check()"
   ]
  },
  {
   "cell_type": "code",
   "execution_count": 7,
   "id": "ac791406",
   "metadata": {
    "execution": {
     "iopub.execute_input": "2022-09-27T01:32:47.209200Z",
     "iopub.status.busy": "2022-09-27T01:32:47.208775Z",
     "iopub.status.idle": "2022-09-27T01:32:47.213549Z",
     "shell.execute_reply": "2022-09-27T01:32:47.212411Z"
    },
    "lines_to_next_cell": 0,
    "papermill": {
     "duration": 0.015856,
     "end_time": "2022-09-27T01:32:47.215976",
     "exception": false,
     "start_time": "2022-09-27T01:32:47.200120",
     "status": "completed"
    },
    "tags": []
   },
   "outputs": [],
   "source": [
    "# Lines below will give you a hint or solution code\n",
    "#q_3.hint()\n",
    "#q_3.solution()"
   ]
  },
  {
   "cell_type": "markdown",
   "id": "0175a3aa",
   "metadata": {
    "papermill": {
     "duration": 0.00607,
     "end_time": "2022-09-27T01:32:47.228440",
     "exception": false,
     "start_time": "2022-09-27T01:32:47.222370",
     "status": "completed"
    },
    "tags": []
   },
   "source": [
    "# 4) Break Down a Categorical Feature\n",
    "\n",
    "`MSSubClass` describes the type of a dwelling:"
   ]
  },
  {
   "cell_type": "code",
   "execution_count": 8,
   "id": "e8ed0afc",
   "metadata": {
    "execution": {
     "iopub.execute_input": "2022-09-27T01:32:47.243691Z",
     "iopub.status.busy": "2022-09-27T01:32:47.243280Z",
     "iopub.status.idle": "2022-09-27T01:32:47.251823Z",
     "shell.execute_reply": "2022-09-27T01:32:47.250519Z"
    },
    "papermill": {
     "duration": 0.020537,
     "end_time": "2022-09-27T01:32:47.255206",
     "exception": false,
     "start_time": "2022-09-27T01:32:47.234669",
     "status": "completed"
    },
    "tags": []
   },
   "outputs": [
    {
     "data": {
      "text/plain": [
       "array(['One_Story_1946_and_Newer_All_Styles', 'Two_Story_1946_and_Newer',\n",
       "       'One_Story_PUD_1946_and_Newer',\n",
       "       'One_and_Half_Story_Finished_All_Ages', 'Split_Foyer',\n",
       "       'Two_Story_PUD_1946_and_Newer', 'Split_or_Multilevel',\n",
       "       'One_Story_1945_and_Older', 'Duplex_All_Styles_and_Ages',\n",
       "       'Two_Family_conversion_All_Styles_and_Ages',\n",
       "       'One_and_Half_Story_Unfinished_All_Ages',\n",
       "       'Two_Story_1945_and_Older', 'Two_and_Half_Story_All_Ages',\n",
       "       'One_Story_with_Finished_Attic_All_Ages',\n",
       "       'PUD_Multilevel_Split_Level_Foyer',\n",
       "       'One_and_Half_Story_PUD_All_Ages'], dtype=object)"
      ]
     },
     "execution_count": 8,
     "metadata": {},
     "output_type": "execute_result"
    }
   ],
   "source": [
    "df.MSSubClass.unique()"
   ]
  },
  {
   "cell_type": "markdown",
   "id": "b5a2ae82",
   "metadata": {
    "papermill": {
     "duration": 0.008465,
     "end_time": "2022-09-27T01:32:47.271357",
     "exception": false,
     "start_time": "2022-09-27T01:32:47.262892",
     "status": "completed"
    },
    "tags": []
   },
   "source": [
    "You can see that there is a more general categorization described (roughly) by the first word of each category. Create a feature containing only these first words by splitting `MSSubClass` at the first underscore `_`. (Hint: In the `split` method use an argument `n=1`.)"
   ]
  },
  {
   "cell_type": "code",
   "execution_count": 9,
   "id": "6c98955f",
   "metadata": {
    "execution": {
     "iopub.execute_input": "2022-09-27T01:32:47.288375Z",
     "iopub.status.busy": "2022-09-27T01:32:47.287754Z",
     "iopub.status.idle": "2022-09-27T01:32:47.322365Z",
     "shell.execute_reply": "2022-09-27T01:32:47.321263Z"
    },
    "lines_to_next_cell": 0,
    "papermill": {
     "duration": 0.046193,
     "end_time": "2022-09-27T01:32:47.324913",
     "exception": false,
     "start_time": "2022-09-27T01:32:47.278720",
     "status": "completed"
    },
    "tags": []
   },
   "outputs": [
    {
     "data": {
      "application/javascript": [
       "parent.postMessage({\"jupyterEvent\": \"custom.exercise_interaction\", \"data\": {\"outcomeType\": 1, \"valueTowardsCompletion\": 0.2, \"interactionType\": 1, \"questionType\": 2, \"questionId\": \"4_Q4\", \"learnToolsVersion\": \"0.3.4\", \"failureMessage\": \"\", \"exceptionClass\": \"\", \"trace\": \"\"}}, \"*\")"
      ],
      "text/plain": [
       "<IPython.core.display.Javascript object>"
      ]
     },
     "metadata": {},
     "output_type": "display_data"
    },
    {
     "data": {
      "text/markdown": [
       "<span style=\"color:#33cc33\">Correct</span>"
      ],
      "text/plain": [
       "Correct"
      ]
     },
     "metadata": {},
     "output_type": "display_data"
    }
   ],
   "source": [
    "X_4 = pd.DataFrame()\n",
    "\n",
    "# YOUR CODE HERE\n",
    "X_4[\"MSClass\"] = df.MSSubClass.str.split('_', n=1, expand=True)[0]\n",
    "\n",
    "# Check your answer\n",
    "q_4.check()"
   ]
  },
  {
   "cell_type": "code",
   "execution_count": 10,
   "id": "3028240b",
   "metadata": {
    "execution": {
     "iopub.execute_input": "2022-09-27T01:32:47.343117Z",
     "iopub.status.busy": "2022-09-27T01:32:47.341932Z",
     "iopub.status.idle": "2022-09-27T01:32:47.346865Z",
     "shell.execute_reply": "2022-09-27T01:32:47.345669Z"
    },
    "lines_to_next_cell": 0,
    "papermill": {
     "duration": 0.017677,
     "end_time": "2022-09-27T01:32:47.349425",
     "exception": false,
     "start_time": "2022-09-27T01:32:47.331748",
     "status": "completed"
    },
    "tags": []
   },
   "outputs": [],
   "source": [
    "# Lines below will give you a hint or solution code\n",
    "#q_4.hint()\n",
    "#q_4.solution()"
   ]
  },
  {
   "cell_type": "markdown",
   "id": "8c290953",
   "metadata": {
    "papermill": {
     "duration": 0.006429,
     "end_time": "2022-09-27T01:32:47.362616",
     "exception": false,
     "start_time": "2022-09-27T01:32:47.356187",
     "status": "completed"
    },
    "tags": []
   },
   "source": [
    "# 5) Use a Grouped Transform\n",
    "\n",
    "The value of a home often depends on how it compares to typical homes in its neighborhood. Create a feature `MedNhbdArea` that describes the *median* of `GrLivArea` grouped on `Neighborhood`."
   ]
  },
  {
   "cell_type": "code",
   "execution_count": 11,
   "id": "2269edfb",
   "metadata": {
    "execution": {
     "iopub.execute_input": "2022-09-27T01:32:47.378196Z",
     "iopub.status.busy": "2022-09-27T01:32:47.377383Z",
     "iopub.status.idle": "2022-09-27T01:32:47.396695Z",
     "shell.execute_reply": "2022-09-27T01:32:47.395540Z"
    },
    "lines_to_next_cell": 0,
    "papermill": {
     "duration": 0.029713,
     "end_time": "2022-09-27T01:32:47.398965",
     "exception": false,
     "start_time": "2022-09-27T01:32:47.369252",
     "status": "completed"
    },
    "tags": []
   },
   "outputs": [
    {
     "data": {
      "application/javascript": [
       "parent.postMessage({\"jupyterEvent\": \"custom.exercise_interaction\", \"data\": {\"outcomeType\": 1, \"valueTowardsCompletion\": 0.2, \"interactionType\": 1, \"questionType\": 2, \"questionId\": \"5_Q5\", \"learnToolsVersion\": \"0.3.4\", \"failureMessage\": \"\", \"exceptionClass\": \"\", \"trace\": \"\"}}, \"*\")"
      ],
      "text/plain": [
       "<IPython.core.display.Javascript object>"
      ]
     },
     "metadata": {},
     "output_type": "display_data"
    },
    {
     "data": {
      "text/markdown": [
       "<span style=\"color:#33cc33\">Correct</span>"
      ],
      "text/plain": [
       "Correct"
      ]
     },
     "metadata": {},
     "output_type": "display_data"
    }
   ],
   "source": [
    "X_5 = pd.DataFrame()\n",
    "\n",
    "# YOUR CODE HERE\n",
    "X_5[\"MedNhbdArea\"] = df.groupby(\"Neighborhood\")[\"GrLivArea\"].transform(\"median\")\n",
    "\n",
    "# Check your answer\n",
    "q_5.check()"
   ]
  },
  {
   "cell_type": "code",
   "execution_count": 12,
   "id": "e7283311",
   "metadata": {
    "execution": {
     "iopub.execute_input": "2022-09-27T01:32:47.414506Z",
     "iopub.status.busy": "2022-09-27T01:32:47.414116Z",
     "iopub.status.idle": "2022-09-27T01:32:47.418663Z",
     "shell.execute_reply": "2022-09-27T01:32:47.417460Z"
    },
    "lines_to_next_cell": 0,
    "papermill": {
     "duration": 0.01527,
     "end_time": "2022-09-27T01:32:47.421154",
     "exception": false,
     "start_time": "2022-09-27T01:32:47.405884",
     "status": "completed"
    },
    "tags": []
   },
   "outputs": [],
   "source": [
    "# Lines below will give you a hint or solution code\n",
    "#q_5.hint()\n",
    "#q_5.solution()"
   ]
  },
  {
   "cell_type": "markdown",
   "id": "d7651240",
   "metadata": {
    "papermill": {
     "duration": 0.006617,
     "end_time": "2022-09-27T01:32:47.434784",
     "exception": false,
     "start_time": "2022-09-27T01:32:47.428167",
     "status": "completed"
    },
    "tags": []
   },
   "source": [
    "Now you've made your first new feature set! If you like, you can run the cell below to score the model with all of your new features added:"
   ]
  },
  {
   "cell_type": "code",
   "execution_count": 13,
   "id": "7a2903cb",
   "metadata": {
    "execution": {
     "iopub.execute_input": "2022-09-27T01:32:47.450333Z",
     "iopub.status.busy": "2022-09-27T01:32:47.449752Z",
     "iopub.status.idle": "2022-09-27T01:32:52.361132Z",
     "shell.execute_reply": "2022-09-27T01:32:52.359965Z"
    },
    "papermill": {
     "duration": 4.921998,
     "end_time": "2022-09-27T01:32:52.363632",
     "exception": false,
     "start_time": "2022-09-27T01:32:47.441634",
     "status": "completed"
    },
    "tags": []
   },
   "outputs": [
    {
     "data": {
      "text/plain": [
       "0.13847331710099203"
      ]
     },
     "execution_count": 13,
     "metadata": {},
     "output_type": "execute_result"
    }
   ],
   "source": [
    "X_new = X.join([X_1, X_2, X_3, X_4, X_5])\n",
    "score_dataset(X_new, y)"
   ]
  },
  {
   "cell_type": "markdown",
   "id": "1073e02f",
   "metadata": {
    "papermill": {
     "duration": 0.006778,
     "end_time": "2022-09-27T01:32:52.377433",
     "exception": false,
     "start_time": "2022-09-27T01:32:52.370655",
     "status": "completed"
    },
    "tags": []
   },
   "source": [
    "# Keep Going #\n",
    "\n",
    "[**Untangle spatial relationships**](https://www.kaggle.com/ryanholbrook/clustering-with-k-means) by adding cluster labels to your dataset."
   ]
  },
  {
   "cell_type": "markdown",
   "id": "23db96d2",
   "metadata": {
    "papermill": {
     "duration": 0.006655,
     "end_time": "2022-09-27T01:32:52.391200",
     "exception": false,
     "start_time": "2022-09-27T01:32:52.384545",
     "status": "completed"
    },
    "tags": []
   },
   "source": [
    "---\n",
    "\n",
    "\n",
    "\n",
    "\n",
    "*Have questions or comments? Visit the [course discussion forum](https://www.kaggle.com/learn/feature-engineering/discussion) to chat with other learners.*"
   ]
  }
 ],
 "metadata": {
  "kernelspec": {
   "display_name": "Python 3",
   "language": "python",
   "name": "python3"
  },
  "language_info": {
   "codemirror_mode": {
    "name": "ipython",
    "version": 3
   },
   "file_extension": ".py",
   "mimetype": "text/x-python",
   "name": "python",
   "nbconvert_exporter": "python",
   "pygments_lexer": "ipython3",
   "version": "3.7.12"
  },
  "papermill": {
   "default_parameters": {},
   "duration": 16.688135,
   "end_time": "2022-09-27T01:32:53.119718",
   "environment_variables": {},
   "exception": null,
   "input_path": "__notebook__.ipynb",
   "output_path": "__notebook__.ipynb",
   "parameters": {},
   "start_time": "2022-09-27T01:32:36.431583",
   "version": "2.3.4"
  }
 },
 "nbformat": 4,
 "nbformat_minor": 5
}
