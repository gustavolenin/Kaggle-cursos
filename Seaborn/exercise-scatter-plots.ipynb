{
 "cells": [
  {
   "cell_type": "markdown",
   "id": "cee29d19",
   "metadata": {
    "papermill": {
     "duration": 0.010665,
     "end_time": "2022-08-11T17:44:11.320548",
     "exception": false,
     "start_time": "2022-08-11T17:44:11.309883",
     "status": "completed"
    },
    "tags": []
   },
   "source": [
    "**This notebook is an exercise in the [Data Visualization](https://www.kaggle.com/learn/data-visualization) course.  You can reference the tutorial at [this link](https://www.kaggle.com/alexisbcook/scatter-plots).**\n",
    "\n",
    "---\n"
   ]
  },
  {
   "cell_type": "markdown",
   "id": "06107b62",
   "metadata": {
    "papermill": {
     "duration": 0.008371,
     "end_time": "2022-08-11T17:44:11.337947",
     "exception": false,
     "start_time": "2022-08-11T17:44:11.329576",
     "status": "completed"
    },
    "tags": []
   },
   "source": [
    "In this exercise, you will use your new knowledge to propose a solution to a real-world scenario.  To succeed, you will need to import data into Python, answer questions using the data, and generate **scatter plots** to understand patterns in the data.\n",
    "\n",
    "## Scenario\n",
    "\n",
    "You work for a major candy producer, and your goal is to write a report that your company can use to guide the design of its next product.  Soon after starting your research, you stumble across this [very interesting dataset](https://fivethirtyeight.com/features/the-ultimate-halloween-candy-power-ranking/) containing results from a fun survey to crowdsource favorite candies.\n",
    "\n",
    "## Setup\n",
    "\n",
    "Run the next cell to import and configure the Python libraries that you need to complete the exercise."
   ]
  },
  {
   "cell_type": "code",
   "execution_count": 1,
   "id": "3276bc76",
   "metadata": {
    "execution": {
     "iopub.execute_input": "2022-08-11T17:44:11.357685Z",
     "iopub.status.busy": "2022-08-11T17:44:11.357099Z",
     "iopub.status.idle": "2022-08-11T17:44:12.443459Z",
     "shell.execute_reply": "2022-08-11T17:44:12.442390Z"
    },
    "papermill": {
     "duration": 1.099592,
     "end_time": "2022-08-11T17:44:12.446219",
     "exception": false,
     "start_time": "2022-08-11T17:44:11.346627",
     "status": "completed"
    },
    "tags": []
   },
   "outputs": [
    {
     "name": "stdout",
     "output_type": "stream",
     "text": [
      "Setup Complete\n"
     ]
    }
   ],
   "source": [
    "import pandas as pd\n",
    "pd.plotting.register_matplotlib_converters()\n",
    "import matplotlib.pyplot as plt\n",
    "%matplotlib inline\n",
    "import seaborn as sns\n",
    "print(\"Setup Complete\")"
   ]
  },
  {
   "cell_type": "markdown",
   "id": "473553e1",
   "metadata": {
    "papermill": {
     "duration": 0.008401,
     "end_time": "2022-08-11T17:44:12.463449",
     "exception": false,
     "start_time": "2022-08-11T17:44:12.455048",
     "status": "completed"
    },
    "tags": []
   },
   "source": [
    "The questions below will give you feedback on your work. Run the following cell to set up our feedback system."
   ]
  },
  {
   "cell_type": "code",
   "execution_count": 2,
   "id": "700e78f0",
   "metadata": {
    "execution": {
     "iopub.execute_input": "2022-08-11T17:44:12.483052Z",
     "iopub.status.busy": "2022-08-11T17:44:12.482088Z",
     "iopub.status.idle": "2022-08-11T17:44:12.546951Z",
     "shell.execute_reply": "2022-08-11T17:44:12.546103Z"
    },
    "papermill": {
     "duration": 0.077217,
     "end_time": "2022-08-11T17:44:12.549174",
     "exception": false,
     "start_time": "2022-08-11T17:44:12.471957",
     "status": "completed"
    },
    "tags": []
   },
   "outputs": [
    {
     "name": "stdout",
     "output_type": "stream",
     "text": [
      "Setup Complete\n"
     ]
    }
   ],
   "source": [
    "# Set up code checking\n",
    "import os\n",
    "if not os.path.exists(\"../input/candy.csv\"):\n",
    "    os.symlink(\"../input/data-for-datavis/candy.csv\", \"../input/candy.csv\") \n",
    "from learntools.core import binder\n",
    "binder.bind(globals())\n",
    "from learntools.data_viz_to_coder.ex4 import *\n",
    "print(\"Setup Complete\")"
   ]
  },
  {
   "cell_type": "markdown",
   "id": "c6042181",
   "metadata": {
    "papermill": {
     "duration": 0.008398,
     "end_time": "2022-08-11T17:44:12.566371",
     "exception": false,
     "start_time": "2022-08-11T17:44:12.557973",
     "status": "completed"
    },
    "tags": []
   },
   "source": [
    "## Step 1: Load the Data\n",
    "\n",
    "Read the candy data file into `candy_data`.  Use the `\"id\"` column to label the rows."
   ]
  },
  {
   "cell_type": "code",
   "execution_count": 3,
   "id": "9c28aa7a",
   "metadata": {
    "execution": {
     "iopub.execute_input": "2022-08-11T17:44:12.585728Z",
     "iopub.status.busy": "2022-08-11T17:44:12.585321Z",
     "iopub.status.idle": "2022-08-11T17:44:12.599860Z",
     "shell.execute_reply": "2022-08-11T17:44:12.598971Z"
    },
    "papermill": {
     "duration": 0.026675,
     "end_time": "2022-08-11T17:44:12.601898",
     "exception": false,
     "start_time": "2022-08-11T17:44:12.575223",
     "status": "completed"
    },
    "tags": []
   },
   "outputs": [
    {
     "data": {
      "application/javascript": [
       "parent.postMessage({\"jupyterEvent\": \"custom.exercise_interaction\", \"data\": {\"outcomeType\": 1, \"valueTowardsCompletion\": 0.3333333333333333, \"interactionType\": 1, \"questionType\": 1, \"questionId\": \"1_LoadData\", \"learnToolsVersion\": \"0.3.4\", \"failureMessage\": \"\", \"exceptionClass\": \"\", \"trace\": \"\"}}, \"*\")"
      ],
      "text/plain": [
       "<IPython.core.display.Javascript object>"
      ]
     },
     "metadata": {},
     "output_type": "display_data"
    },
    {
     "data": {
      "text/markdown": [
       "<span style=\"color:#33cc33\">Correct</span>"
      ],
      "text/plain": [
       "Correct"
      ]
     },
     "metadata": {},
     "output_type": "display_data"
    }
   ],
   "source": [
    "# Path of the file to read\n",
    "candy_filepath = \"../input/candy.csv\"\n",
    "\n",
    "# Fill in the line below to read the file into a variable candy_data\n",
    "candy_data = pd.read_csv(candy_filepath,index_col='id')\n",
    "\n",
    "# Run the line below with no changes to check that you've loaded the data correctly\n",
    "step_1.check()"
   ]
  },
  {
   "cell_type": "code",
   "execution_count": 4,
   "id": "7099824e",
   "metadata": {
    "execution": {
     "iopub.execute_input": "2022-08-11T17:44:12.623096Z",
     "iopub.status.busy": "2022-08-11T17:44:12.622114Z",
     "iopub.status.idle": "2022-08-11T17:44:12.627160Z",
     "shell.execute_reply": "2022-08-11T17:44:12.626369Z"
    },
    "papermill": {
     "duration": 0.017388,
     "end_time": "2022-08-11T17:44:12.629291",
     "exception": false,
     "start_time": "2022-08-11T17:44:12.611903",
     "status": "completed"
    },
    "tags": []
   },
   "outputs": [],
   "source": [
    "# Lines below will give you a hint or solution code\n",
    "#step_1.hint()\n",
    "#step_1.solution()"
   ]
  },
  {
   "cell_type": "markdown",
   "id": "e2b4fcd3",
   "metadata": {
    "papermill": {
     "duration": 0.008728,
     "end_time": "2022-08-11T17:44:12.647266",
     "exception": false,
     "start_time": "2022-08-11T17:44:12.638538",
     "status": "completed"
    },
    "tags": []
   },
   "source": [
    "## Step 2: Review the data\n",
    "\n",
    "Use a Python command to print the first five rows of the data."
   ]
  },
  {
   "cell_type": "code",
   "execution_count": 5,
   "id": "6a364230",
   "metadata": {
    "execution": {
     "iopub.execute_input": "2022-08-11T17:44:12.667435Z",
     "iopub.status.busy": "2022-08-11T17:44:12.666769Z",
     "iopub.status.idle": "2022-08-11T17:44:12.689956Z",
     "shell.execute_reply": "2022-08-11T17:44:12.688765Z"
    },
    "papermill": {
     "duration": 0.036005,
     "end_time": "2022-08-11T17:44:12.692334",
     "exception": false,
     "start_time": "2022-08-11T17:44:12.656329",
     "status": "completed"
    },
    "tags": []
   },
   "outputs": [
    {
     "data": {
      "text/html": [
       "<div>\n",
       "<style scoped>\n",
       "    .dataframe tbody tr th:only-of-type {\n",
       "        vertical-align: middle;\n",
       "    }\n",
       "\n",
       "    .dataframe tbody tr th {\n",
       "        vertical-align: top;\n",
       "    }\n",
       "\n",
       "    .dataframe thead th {\n",
       "        text-align: right;\n",
       "    }\n",
       "</style>\n",
       "<table border=\"1\" class=\"dataframe\">\n",
       "  <thead>\n",
       "    <tr style=\"text-align: right;\">\n",
       "      <th></th>\n",
       "      <th>competitorname</th>\n",
       "      <th>chocolate</th>\n",
       "      <th>fruity</th>\n",
       "      <th>caramel</th>\n",
       "      <th>peanutyalmondy</th>\n",
       "      <th>nougat</th>\n",
       "      <th>crispedricewafer</th>\n",
       "      <th>hard</th>\n",
       "      <th>bar</th>\n",
       "      <th>pluribus</th>\n",
       "      <th>sugarpercent</th>\n",
       "      <th>pricepercent</th>\n",
       "      <th>winpercent</th>\n",
       "    </tr>\n",
       "    <tr>\n",
       "      <th>id</th>\n",
       "      <th></th>\n",
       "      <th></th>\n",
       "      <th></th>\n",
       "      <th></th>\n",
       "      <th></th>\n",
       "      <th></th>\n",
       "      <th></th>\n",
       "      <th></th>\n",
       "      <th></th>\n",
       "      <th></th>\n",
       "      <th></th>\n",
       "      <th></th>\n",
       "      <th></th>\n",
       "    </tr>\n",
       "  </thead>\n",
       "  <tbody>\n",
       "    <tr>\n",
       "      <th>0</th>\n",
       "      <td>100 Grand</td>\n",
       "      <td>Yes</td>\n",
       "      <td>No</td>\n",
       "      <td>Yes</td>\n",
       "      <td>No</td>\n",
       "      <td>No</td>\n",
       "      <td>Yes</td>\n",
       "      <td>No</td>\n",
       "      <td>Yes</td>\n",
       "      <td>No</td>\n",
       "      <td>0.732</td>\n",
       "      <td>0.860</td>\n",
       "      <td>66.971725</td>\n",
       "    </tr>\n",
       "    <tr>\n",
       "      <th>1</th>\n",
       "      <td>3 Musketeers</td>\n",
       "      <td>Yes</td>\n",
       "      <td>No</td>\n",
       "      <td>No</td>\n",
       "      <td>No</td>\n",
       "      <td>Yes</td>\n",
       "      <td>No</td>\n",
       "      <td>No</td>\n",
       "      <td>Yes</td>\n",
       "      <td>No</td>\n",
       "      <td>0.604</td>\n",
       "      <td>0.511</td>\n",
       "      <td>67.602936</td>\n",
       "    </tr>\n",
       "    <tr>\n",
       "      <th>2</th>\n",
       "      <td>Air Heads</td>\n",
       "      <td>No</td>\n",
       "      <td>Yes</td>\n",
       "      <td>No</td>\n",
       "      <td>No</td>\n",
       "      <td>No</td>\n",
       "      <td>No</td>\n",
       "      <td>No</td>\n",
       "      <td>No</td>\n",
       "      <td>No</td>\n",
       "      <td>0.906</td>\n",
       "      <td>0.511</td>\n",
       "      <td>52.341465</td>\n",
       "    </tr>\n",
       "    <tr>\n",
       "      <th>3</th>\n",
       "      <td>Almond Joy</td>\n",
       "      <td>Yes</td>\n",
       "      <td>No</td>\n",
       "      <td>No</td>\n",
       "      <td>Yes</td>\n",
       "      <td>No</td>\n",
       "      <td>No</td>\n",
       "      <td>No</td>\n",
       "      <td>Yes</td>\n",
       "      <td>No</td>\n",
       "      <td>0.465</td>\n",
       "      <td>0.767</td>\n",
       "      <td>50.347546</td>\n",
       "    </tr>\n",
       "    <tr>\n",
       "      <th>4</th>\n",
       "      <td>Baby Ruth</td>\n",
       "      <td>Yes</td>\n",
       "      <td>No</td>\n",
       "      <td>Yes</td>\n",
       "      <td>Yes</td>\n",
       "      <td>Yes</td>\n",
       "      <td>No</td>\n",
       "      <td>No</td>\n",
       "      <td>Yes</td>\n",
       "      <td>No</td>\n",
       "      <td>0.604</td>\n",
       "      <td>0.767</td>\n",
       "      <td>56.914547</td>\n",
       "    </tr>\n",
       "  </tbody>\n",
       "</table>\n",
       "</div>"
      ],
      "text/plain": [
       "   competitorname chocolate fruity caramel peanutyalmondy nougat  \\\n",
       "id                                                                 \n",
       "0       100 Grand       Yes     No     Yes             No     No   \n",
       "1    3 Musketeers       Yes     No      No             No    Yes   \n",
       "2       Air Heads        No    Yes      No             No     No   \n",
       "3      Almond Joy       Yes     No      No            Yes     No   \n",
       "4       Baby Ruth       Yes     No     Yes            Yes    Yes   \n",
       "\n",
       "   crispedricewafer hard  bar pluribus  sugarpercent  pricepercent  winpercent  \n",
       "id                                                                              \n",
       "0               Yes   No  Yes       No         0.732         0.860   66.971725  \n",
       "1                No   No  Yes       No         0.604         0.511   67.602936  \n",
       "2                No   No   No       No         0.906         0.511   52.341465  \n",
       "3                No   No  Yes       No         0.465         0.767   50.347546  \n",
       "4                No   No  Yes       No         0.604         0.767   56.914547  "
      ]
     },
     "execution_count": 5,
     "metadata": {},
     "output_type": "execute_result"
    }
   ],
   "source": [
    "# Print the first five rows of the data\n",
    "candy_data.head() # Your code here"
   ]
  },
  {
   "cell_type": "markdown",
   "id": "d68f6bb6",
   "metadata": {
    "papermill": {
     "duration": 0.008912,
     "end_time": "2022-08-11T17:44:12.710620",
     "exception": false,
     "start_time": "2022-08-11T17:44:12.701708",
     "status": "completed"
    },
    "tags": []
   },
   "source": [
    "The dataset contains 83 rows, where each corresponds to a different candy bar.  There are 13 columns:\n",
    "- `'competitorname'` contains the name of the candy bar. \n",
    "- the next **9** columns (from `'chocolate'` to `'pluribus'`) describe the candy.  For instance, rows with chocolate candies have `\"Yes\"` in the `'chocolate'` column (and candies without chocolate have `\"No\"` in the same column).\n",
    "- `'sugarpercent'` provides some indication of the amount of sugar, where higher values signify higher sugar content.\n",
    "- `'pricepercent'` shows the price per unit, relative to the other candies in the dataset.\n",
    "- `'winpercent'` is calculated from the survey results; higher values indicate that the candy was more popular with survey respondents.\n",
    "\n",
    "Use the first five rows of the data to answer the questions below."
   ]
  },
  {
   "cell_type": "code",
   "execution_count": 6,
   "id": "b9b20a88",
   "metadata": {
    "execution": {
     "iopub.execute_input": "2022-08-11T17:44:12.731143Z",
     "iopub.status.busy": "2022-08-11T17:44:12.730544Z",
     "iopub.status.idle": "2022-08-11T17:44:12.738375Z",
     "shell.execute_reply": "2022-08-11T17:44:12.737570Z"
    },
    "papermill": {
     "duration": 0.020592,
     "end_time": "2022-08-11T17:44:12.740411",
     "exception": false,
     "start_time": "2022-08-11T17:44:12.719819",
     "status": "completed"
    },
    "tags": []
   },
   "outputs": [
    {
     "data": {
      "application/javascript": [
       "parent.postMessage({\"jupyterEvent\": \"custom.exercise_interaction\", \"data\": {\"outcomeType\": 1, \"valueTowardsCompletion\": 0.3333333333333333, \"interactionType\": 1, \"questionType\": 1, \"questionId\": \"2_ReviewData\", \"learnToolsVersion\": \"0.3.4\", \"failureMessage\": \"\", \"exceptionClass\": \"\", \"trace\": \"\"}}, \"*\")"
      ],
      "text/plain": [
       "<IPython.core.display.Javascript object>"
      ]
     },
     "metadata": {},
     "output_type": "display_data"
    },
    {
     "data": {
      "text/markdown": [
       "<span style=\"color:#33cc33\">Correct</span>"
      ],
      "text/plain": [
       "Correct"
      ]
     },
     "metadata": {},
     "output_type": "display_data"
    }
   ],
   "source": [
    "# Fill in the line below: Which candy was more popular with survey respondents:\n",
    "# '3 Musketeers' or 'Almond Joy'?  (Please enclose your answer in single quotes.)\n",
    "more_popular = '3 Musketeers'\n",
    "\n",
    "# Fill in the line below: Which candy has higher sugar content: 'Air Heads'\n",
    "# or 'Baby Ruth'? (Please enclose your answer in single quotes.)\n",
    "more_sugar = 'Air Heads'\n",
    "\n",
    "# Check your answers\n",
    "step_2.check()"
   ]
  },
  {
   "cell_type": "code",
   "execution_count": 7,
   "id": "a388753e",
   "metadata": {
    "execution": {
     "iopub.execute_input": "2022-08-11T17:44:12.762613Z",
     "iopub.status.busy": "2022-08-11T17:44:12.762176Z",
     "iopub.status.idle": "2022-08-11T17:44:12.766500Z",
     "shell.execute_reply": "2022-08-11T17:44:12.765355Z"
    },
    "papermill": {
     "duration": 0.017921,
     "end_time": "2022-08-11T17:44:12.768691",
     "exception": false,
     "start_time": "2022-08-11T17:44:12.750770",
     "status": "completed"
    },
    "tags": []
   },
   "outputs": [],
   "source": [
    "# Lines below will give you a hint or solution code\n",
    "#step_2.hint()\n",
    "#step_2.solution()"
   ]
  },
  {
   "cell_type": "markdown",
   "id": "0fb6df94",
   "metadata": {
    "papermill": {
     "duration": 0.009536,
     "end_time": "2022-08-11T17:44:12.787961",
     "exception": false,
     "start_time": "2022-08-11T17:44:12.778425",
     "status": "completed"
    },
    "tags": []
   },
   "source": [
    "## Step 3: The role of sugar\n",
    "\n",
    "Do people tend to prefer candies with higher sugar content?  \n",
    "\n",
    "#### Part A\n",
    "\n",
    "Create a scatter plot that shows the relationship between `'sugarpercent'` (on the horizontal x-axis) and `'winpercent'` (on the vertical y-axis).  _Don't add a regression line just yet -- you'll do that in the next step!_"
   ]
  },
  {
   "cell_type": "code",
   "execution_count": 8,
   "id": "7bca89cd",
   "metadata": {
    "execution": {
     "iopub.execute_input": "2022-08-11T17:44:12.812686Z",
     "iopub.status.busy": "2022-08-11T17:44:12.811557Z",
     "iopub.status.idle": "2022-08-11T17:44:13.057741Z",
     "shell.execute_reply": "2022-08-11T17:44:13.056551Z"
    },
    "papermill": {
     "duration": 0.263146,
     "end_time": "2022-08-11T17:44:13.060517",
     "exception": false,
     "start_time": "2022-08-11T17:44:12.797371",
     "status": "completed"
    },
    "tags": []
   },
   "outputs": [
    {
     "data": {
      "application/javascript": [
       "parent.postMessage({\"jupyterEvent\": \"custom.exercise_interaction\", \"data\": {\"outcomeType\": 1, \"valueTowardsCompletion\": 0.3333333333333333, \"interactionType\": 1, \"questionType\": 2, \"questionId\": \"3.1_PlotBlueScatter\", \"learnToolsVersion\": \"0.3.4\", \"failureMessage\": \"\", \"exceptionClass\": \"\", \"trace\": \"\"}}, \"*\")"
      ],
      "text/plain": [
       "<IPython.core.display.Javascript object>"
      ]
     },
     "metadata": {},
     "output_type": "display_data"
    },
    {
     "data": {
      "text/markdown": [
       "<span style=\"color:#33cc33\">Correct</span>"
      ],
      "text/plain": [
       "Correct"
      ]
     },
     "metadata": {},
     "output_type": "display_data"
    },
    {
     "data": {
      "image/png": "[encoded data removed]",
      "text/plain": [
       "<Figure size 432x288 with 1 Axes>"
      ]
     },
     "metadata": {
      "needs_background": "light"
     },
     "output_type": "display_data"
    }
   ],
   "source": [
    "# Scatter plot showing the relationship between 'sugarpercent' and 'winpercent'\n",
    "sns.scatterplot(x=candy_data.sugarpercent,y=candy_data.winpercent) # Your code here\n",
    "\n",
    "# Check your answer\n",
    "step_3.a.check()"
   ]
  },
  {
   "cell_type": "code",
   "execution_count": 9,
   "id": "fa442d1f",
   "metadata": {
    "execution": {
     "iopub.execute_input": "2022-08-11T17:44:13.084806Z",
     "iopub.status.busy": "2022-08-11T17:44:13.084405Z",
     "iopub.status.idle": "2022-08-11T17:44:13.089531Z",
     "shell.execute_reply": "2022-08-11T17:44:13.088368Z"
    },
    "papermill": {
     "duration": 0.020204,
     "end_time": "2022-08-11T17:44:13.092204",
     "exception": false,
     "start_time": "2022-08-11T17:44:13.072000",
     "status": "completed"
    },
    "tags": []
   },
   "outputs": [],
   "source": [
    "# Lines below will give you a hint or solution code\n",
    "#step_3.a.hint()\n",
    "#step_3.a.solution_plot()"
   ]
  },
  {
   "cell_type": "markdown",
   "id": "bde02abe",
   "metadata": {
    "papermill": {
     "duration": 0.01023,
     "end_time": "2022-08-11T17:44:13.113544",
     "exception": false,
     "start_time": "2022-08-11T17:44:13.103314",
     "status": "completed"
    },
    "tags": []
   },
   "source": [
    "#### Part B\n",
    "\n",
    "Does the scatter plot show a **strong** correlation between the two variables?  If so, are candies with more sugar relatively more or less popular with the survey respondents?"
   ]
  },
  {
   "cell_type": "code",
   "execution_count": 10,
   "id": "e8755e49",
   "metadata": {
    "execution": {
     "iopub.execute_input": "2022-08-11T17:44:13.136442Z",
     "iopub.status.busy": "2022-08-11T17:44:13.136006Z",
     "iopub.status.idle": "2022-08-11T17:44:13.140707Z",
     "shell.execute_reply": "2022-08-11T17:44:13.139710Z"
    },
    "papermill": {
     "duration": 0.01921,
     "end_time": "2022-08-11T17:44:13.143325",
     "exception": false,
     "start_time": "2022-08-11T17:44:13.124115",
     "status": "completed"
    },
    "tags": []
   },
   "outputs": [],
   "source": [
    "#step_3.b.hint()"
   ]
  },
  {
   "cell_type": "code",
   "execution_count": 11,
   "id": "4b9e492d",
   "metadata": {
    "execution": {
     "iopub.execute_input": "2022-08-11T17:44:13.170680Z",
     "iopub.status.busy": "2022-08-11T17:44:13.169973Z",
     "iopub.status.idle": "2022-08-11T17:44:13.179527Z",
     "shell.execute_reply": "2022-08-11T17:44:13.178430Z"
    },
    "papermill": {
     "duration": 0.025691,
     "end_time": "2022-08-11T17:44:13.181759",
     "exception": false,
     "start_time": "2022-08-11T17:44:13.156068",
     "status": "completed"
    },
    "tags": []
   },
   "outputs": [
    {
     "data": {
      "application/javascript": [
       "parent.postMessage({\"jupyterEvent\": \"custom.exercise_interaction\", \"data\": {\"interactionType\": 3, \"questionType\": 4, \"questionId\": \"3.2_ThinkBlueScatter\", \"learnToolsVersion\": \"0.3.4\", \"valueTowardsCompletion\": 0.0, \"failureMessage\": \"\", \"exceptionClass\": \"\", \"trace\": \"\", \"outcomeType\": 4}}, \"*\")"
      ],
      "text/plain": [
       "<IPython.core.display.Javascript object>"
      ]
     },
     "metadata": {},
     "output_type": "display_data"
    },
    {
     "data": {
      "text/markdown": [
       "<span style=\"color:#33cc99\">Solution:</span> The scatter plot does not show a strong correlation between the two variables. Since there is no clear relationship between the two variables, this tells us that sugar content does not play a strong role in candy popularity."
      ],
      "text/plain": [
       "Solution: The scatter plot does not show a strong correlation between the two variables. Since there is no clear relationship between the two variables, this tells us that sugar content does not play a strong role in candy popularity."
      ]
     },
     "metadata": {},
     "output_type": "display_data"
    }
   ],
   "source": [
    "# Check your answer (Run this code cell to receive credit!)\n",
    "step_3.b.solution()"
   ]
  },
  {
   "cell_type": "markdown",
   "id": "b6a27589",
   "metadata": {
    "papermill": {
     "duration": 0.010186,
     "end_time": "2022-08-11T17:44:13.202325",
     "exception": false,
     "start_time": "2022-08-11T17:44:13.192139",
     "status": "completed"
    },
    "tags": []
   },
   "source": [
    "## Step 4: Take a closer look\n",
    "\n",
    "#### Part A\n",
    "\n",
    "Create the same scatter plot you created in **Step 3**, but now with a regression line!"
   ]
  },
  {
   "cell_type": "code",
   "execution_count": 12,
   "id": "9b509372",
   "metadata": {
    "execution": {
     "iopub.execute_input": "2022-08-11T17:44:13.226204Z",
     "iopub.status.busy": "2022-08-11T17:44:13.225494Z",
     "iopub.status.idle": "2022-08-11T17:44:13.521936Z",
     "shell.execute_reply": "2022-08-11T17:44:13.520751Z"
    },
    "papermill": {
     "duration": 0.311302,
     "end_time": "2022-08-11T17:44:13.524528",
     "exception": false,
     "start_time": "2022-08-11T17:44:13.213226",
     "status": "completed"
    },
    "tags": []
   },
   "outputs": [
    {
     "data": {
      "application/javascript": [
       "parent.postMessage({\"jupyterEvent\": \"custom.exercise_interaction\", \"data\": {\"outcomeType\": 1, \"valueTowardsCompletion\": 0.3333333333333333, \"interactionType\": 1, \"questionType\": 2, \"questionId\": \"4.1_PlotBlueReg\", \"learnToolsVersion\": \"0.3.4\", \"failureMessage\": \"\", \"exceptionClass\": \"\", \"trace\": \"\"}}, \"*\")"
      ],
      "text/plain": [
       "<IPython.core.display.Javascript object>"
      ]
     },
     "metadata": {},
     "output_type": "display_data"
    },
    {
     "data": {
      "text/markdown": [
       "<span style=\"color:#33cc33\">Correct</span>"
      ],
      "text/plain": [
       "Correct"
      ]
     },
     "metadata": {},
     "output_type": "display_data"
    },
    {
     "data": {
      "image/png": "[encoded data removed]",
      "text/plain": [
       "<Figure size 432x288 with 1 Axes>"
      ]
     },
     "metadata": {
      "needs_background": "light"
     },
     "output_type": "display_data"
    }
   ],
   "source": [
    "# Scatter plot w/ regression line showing the relationship between 'sugarpercent' and 'winpercent'\n",
    "sns.regplot(x=candy_data.sugarpercent,y=candy_data.winpercent) # Your code here\n",
    "\n",
    "# Check your answer\n",
    "step_4.a.check()"
   ]
  },
  {
   "cell_type": "code",
   "execution_count": 13,
   "id": "c0f70b7f",
   "metadata": {
    "execution": {
     "iopub.execute_input": "2022-08-11T17:44:13.550028Z",
     "iopub.status.busy": "2022-08-11T17:44:13.549621Z",
     "iopub.status.idle": "2022-08-11T17:44:13.554587Z",
     "shell.execute_reply": "2022-08-11T17:44:13.553394Z"
    },
    "papermill": {
     "duration": 0.020642,
     "end_time": "2022-08-11T17:44:13.557070",
     "exception": false,
     "start_time": "2022-08-11T17:44:13.536428",
     "status": "completed"
    },
    "tags": []
   },
   "outputs": [],
   "source": [
    "# Lines below will give you a hint or solution code\n",
    "#step_4.a.hint()\n",
    "#step_4.a.solution_plot()"
   ]
  },
  {
   "cell_type": "markdown",
   "id": "28ad5014",
   "metadata": {
    "papermill": {
     "duration": 0.011628,
     "end_time": "2022-08-11T17:44:13.580769",
     "exception": false,
     "start_time": "2022-08-11T17:44:13.569141",
     "status": "completed"
    },
    "tags": []
   },
   "source": [
    "#### Part B\n",
    "\n",
    "According to the plot above, is there a **slight** correlation between `'winpercent'` and `'sugarpercent'`?  What does this tell you about the candy that people tend to prefer?"
   ]
  },
  {
   "cell_type": "code",
   "execution_count": 14,
   "id": "a90a5315",
   "metadata": {
    "execution": {
     "iopub.execute_input": "2022-08-11T17:44:13.606678Z",
     "iopub.status.busy": "2022-08-11T17:44:13.605646Z",
     "iopub.status.idle": "2022-08-11T17:44:13.611149Z",
     "shell.execute_reply": "2022-08-11T17:44:13.609910Z"
    },
    "papermill": {
     "duration": 0.020578,
     "end_time": "2022-08-11T17:44:13.613322",
     "exception": false,
     "start_time": "2022-08-11T17:44:13.592744",
     "status": "completed"
    },
    "tags": []
   },
   "outputs": [],
   "source": [
    "#step_4.b.hint()"
   ]
  },
  {
   "cell_type": "code",
   "execution_count": 15,
   "id": "ee8954c9",
   "metadata": {
    "execution": {
     "iopub.execute_input": "2022-08-11T17:44:13.636818Z",
     "iopub.status.busy": "2022-08-11T17:44:13.636419Z",
     "iopub.status.idle": "2022-08-11T17:44:13.644547Z",
     "shell.execute_reply": "2022-08-11T17:44:13.643707Z"
    },
    "papermill": {
     "duration": 0.022324,
     "end_time": "2022-08-11T17:44:13.646735",
     "exception": false,
     "start_time": "2022-08-11T17:44:13.624411",
     "status": "completed"
    },
    "tags": []
   },
   "outputs": [
    {
     "data": {
      "application/javascript": [
       "parent.postMessage({\"jupyterEvent\": \"custom.exercise_interaction\", \"data\": {\"interactionType\": 3, \"questionType\": 4, \"questionId\": \"4.2_ThinkBlueReg\", \"learnToolsVersion\": \"0.3.4\", \"valueTowardsCompletion\": 0.0, \"failureMessage\": \"\", \"exceptionClass\": \"\", \"trace\": \"\", \"outcomeType\": 4}}, \"*\")"
      ],
      "text/plain": [
       "<IPython.core.display.Javascript object>"
      ]
     },
     "metadata": {},
     "output_type": "display_data"
    },
    {
     "data": {
      "text/markdown": [
       "<span style=\"color:#33cc99\">Solution:</span> Since the regression line has a slightly positive slope, this tells us that there is a slightly positive correlation between `'winpercent'` and `'sugarpercent'`. Thus, people have a slight preference for candies containing relatively more sugar."
      ],
      "text/plain": [
       "Solution: Since the regression line has a slightly positive slope, this tells us that there is a slightly positive correlation between `'winpercent'` and `'sugarpercent'`. Thus, people have a slight preference for candies containing relatively more sugar."
      ]
     },
     "metadata": {},
     "output_type": "display_data"
    }
   ],
   "source": [
    "# Check your answer (Run this code cell to receive credit!)\n",
    "step_4.b.solution()"
   ]
  },
  {
   "cell_type": "markdown",
   "id": "dba3faf7",
   "metadata": {
    "papermill": {
     "duration": 0.010906,
     "end_time": "2022-08-11T17:44:13.668887",
     "exception": false,
     "start_time": "2022-08-11T17:44:13.657981",
     "status": "completed"
    },
    "tags": []
   },
   "source": [
    "## Step 5: Chocolate!\n",
    "\n",
    "In the code cell below, create a scatter plot to show the relationship between `'pricepercent'` (on the horizontal x-axis) and `'winpercent'` (on the vertical y-axis). Use the `'chocolate'` column to color-code the points.  _Don't add any regression lines just yet -- you'll do that in the next step!_"
   ]
  },
  {
   "cell_type": "code",
   "execution_count": 16,
   "id": "8098f0c0",
   "metadata": {
    "execution": {
     "iopub.execute_input": "2022-08-11T17:44:13.692659Z",
     "iopub.status.busy": "2022-08-11T17:44:13.692227Z",
     "iopub.status.idle": "2022-08-11T17:44:13.939966Z",
     "shell.execute_reply": "2022-08-11T17:44:13.938809Z"
    },
    "papermill": {
     "duration": 0.262797,
     "end_time": "2022-08-11T17:44:13.942765",
     "exception": false,
     "start_time": "2022-08-11T17:44:13.679968",
     "status": "completed"
    },
    "tags": []
   },
   "outputs": [
    {
     "data": {
      "application/javascript": [
       "parent.postMessage({\"jupyterEvent\": \"custom.exercise_interaction\", \"data\": {\"outcomeType\": 1, \"valueTowardsCompletion\": 0.3333333333333333, \"interactionType\": 1, \"questionType\": 2, \"questionId\": \"5_ColorScatter\", \"learnToolsVersion\": \"0.3.4\", \"failureMessage\": \"\", \"exceptionClass\": \"\", \"trace\": \"\"}}, \"*\")"
      ],
      "text/plain": [
       "<IPython.core.display.Javascript object>"
      ]
     },
     "metadata": {},
     "output_type": "display_data"
    },
    {
     "data": {
      "text/markdown": [
       "<span style=\"color:#33cc33\">Correct</span>"
      ],
      "text/plain": [
       "Correct"
      ]
     },
     "metadata": {},
     "output_type": "display_data"
    },
    {
     "data": {
      "image/png": "[encoded data removed]",
      "text/plain": [
       "<Figure size 432x288 with 1 Axes>"
      ]
     },
     "metadata": {
      "needs_background": "light"
     },
     "output_type": "display_data"
    }
   ],
   "source": [
    "# Scatter plot showing the relationship between 'pricepercent', 'winpercent', and 'chocolate'\n",
    "sns.scatterplot(x=candy_data.pricepercent,y=candy_data.winpercent,hue=candy_data.chocolate) # Your code here\n",
    "\n",
    "# Check your answer\n",
    "step_5.check()"
   ]
  },
  {
   "cell_type": "code",
   "execution_count": 17,
   "id": "d8ae9e4f",
   "metadata": {
    "execution": {
     "iopub.execute_input": "2022-08-11T17:44:13.969329Z",
     "iopub.status.busy": "2022-08-11T17:44:13.968933Z",
     "iopub.status.idle": "2022-08-11T17:44:13.973629Z",
     "shell.execute_reply": "2022-08-11T17:44:13.972320Z"
    },
    "papermill": {
     "duration": 0.020851,
     "end_time": "2022-08-11T17:44:13.975930",
     "exception": false,
     "start_time": "2022-08-11T17:44:13.955079",
     "status": "completed"
    },
    "tags": []
   },
   "outputs": [],
   "source": [
    "# Lines below will give you a hint or solution code\n",
    "#step_5.hint()\n",
    "#step_5.solution_plot()"
   ]
  },
  {
   "cell_type": "markdown",
   "id": "175536e8",
   "metadata": {
    "papermill": {
     "duration": 0.01224,
     "end_time": "2022-08-11T17:44:14.001173",
     "exception": false,
     "start_time": "2022-08-11T17:44:13.988933",
     "status": "completed"
    },
    "tags": []
   },
   "source": [
    "Can you see any interesting patterns in the scatter plot?  We'll investigate this plot further  by adding regression lines in the next step!\n",
    "\n",
    "## Step 6: Investigate chocolate\n",
    "\n",
    "#### Part A\n",
    "\n",
    "Create the same scatter plot you created in **Step 5**, but now with two regression lines, corresponding to (1) chocolate candies and (2) candies without chocolate."
   ]
  },
  {
   "cell_type": "code",
   "execution_count": 18,
   "id": "64ded6a0",
   "metadata": {
    "execution": {
     "iopub.execute_input": "2022-08-11T17:44:14.027814Z",
     "iopub.status.busy": "2022-08-11T17:44:14.027395Z",
     "iopub.status.idle": "2022-08-11T17:44:14.616368Z",
     "shell.execute_reply": "2022-08-11T17:44:14.615189Z"
    },
    "papermill": {
     "duration": 0.605287,
     "end_time": "2022-08-11T17:44:14.618821",
     "exception": false,
     "start_time": "2022-08-11T17:44:14.013534",
     "status": "completed"
    },
    "tags": []
   },
   "outputs": [
    {
     "data": {
      "application/javascript": [
       "parent.postMessage({\"jupyterEvent\": \"custom.exercise_interaction\", \"data\": {\"outcomeType\": 1, \"valueTowardsCompletion\": 0.3333333333333333, \"interactionType\": 1, \"questionType\": 2, \"questionId\": \"6.1_PlotColorReg\", \"learnToolsVersion\": \"0.3.4\", \"failureMessage\": \"\", \"exceptionClass\": \"\", \"trace\": \"\"}}, \"*\")"
      ],
      "text/plain": [
       "<IPython.core.display.Javascript object>"
      ]
     },
     "metadata": {},
     "output_type": "display_data"
    },
    {
     "data": {
      "text/markdown": [
       "<span style=\"color:#33cc33\">Correct</span>"
      ],
      "text/plain": [
       "Correct"
      ]
     },
     "metadata": {},
     "output_type": "display_data"
    },
    {
     "data": {
      "image/png": "[encoded data removed]",
      "text/plain": [
       "<Figure size 416.375x360 with 1 Axes>"
      ]
     },
     "metadata": {
      "needs_background": "light"
     },
     "output_type": "display_data"
    }
   ],
   "source": [
    "# Color-coded scatter plot w/ regression lines\n",
    "sns.lmplot(x='pricepercent',y='winpercent',hue='chocolate',data=candy_data) # Your code here\n",
    "\n",
    "# Check your answer\n",
    "step_6.a.check()"
   ]
  },
  {
   "cell_type": "code",
   "execution_count": 19,
   "id": "3a46951d",
   "metadata": {
    "execution": {
     "iopub.execute_input": "2022-08-11T17:44:14.646884Z",
     "iopub.status.busy": "2022-08-11T17:44:14.646495Z",
     "iopub.status.idle": "2022-08-11T17:44:14.650788Z",
     "shell.execute_reply": "2022-08-11T17:44:14.649706Z"
    },
    "papermill": {
     "duration": 0.021357,
     "end_time": "2022-08-11T17:44:14.653216",
     "exception": false,
     "start_time": "2022-08-11T17:44:14.631859",
     "status": "completed"
    },
    "tags": []
   },
   "outputs": [],
   "source": [
    "# Lines below will give you a hint or solution code\n",
    "#step_6.a.hint()\n",
    "#step_6.a.solution_plot()"
   ]
  },
  {
   "cell_type": "markdown",
   "id": "5f580801",
   "metadata": {
    "papermill": {
     "duration": 0.012261,
     "end_time": "2022-08-11T17:44:14.678786",
     "exception": false,
     "start_time": "2022-08-11T17:44:14.666525",
     "status": "completed"
    },
    "tags": []
   },
   "source": [
    "#### Part B\n",
    "\n",
    "Using the regression lines, what conclusions can you draw about the effects of chocolate and price on candy popularity?"
   ]
  },
  {
   "cell_type": "code",
   "execution_count": 20,
   "id": "bdb544a2",
   "metadata": {
    "execution": {
     "iopub.execute_input": "2022-08-11T17:44:14.706320Z",
     "iopub.status.busy": "2022-08-11T17:44:14.705080Z",
     "iopub.status.idle": "2022-08-11T17:44:14.709848Z",
     "shell.execute_reply": "2022-08-11T17:44:14.708878Z"
    },
    "papermill": {
     "duration": 0.02068,
     "end_time": "2022-08-11T17:44:14.711955",
     "exception": false,
     "start_time": "2022-08-11T17:44:14.691275",
     "status": "completed"
    },
    "tags": []
   },
   "outputs": [],
   "source": [
    "#step_6.b.hint()"
   ]
  },
  {
   "cell_type": "code",
   "execution_count": 21,
   "id": "d021a9a7",
   "metadata": {
    "execution": {
     "iopub.execute_input": "2022-08-11T17:44:14.740926Z",
     "iopub.status.busy": "2022-08-11T17:44:14.739913Z",
     "iopub.status.idle": "2022-08-11T17:44:14.750332Z",
     "shell.execute_reply": "2022-08-11T17:44:14.749360Z"
    },
    "papermill": {
     "duration": 0.027108,
     "end_time": "2022-08-11T17:44:14.752594",
     "exception": false,
     "start_time": "2022-08-11T17:44:14.725486",
     "status": "completed"
    },
    "tags": []
   },
   "outputs": [
    {
     "data": {
      "application/javascript": [
       "parent.postMessage({\"jupyterEvent\": \"custom.exercise_interaction\", \"data\": {\"interactionType\": 3, \"questionType\": 4, \"questionId\": \"6.2_ThinkColorReg\", \"learnToolsVersion\": \"0.3.4\", \"valueTowardsCompletion\": 0.0, \"failureMessage\": \"\", \"exceptionClass\": \"\", \"trace\": \"\", \"outcomeType\": 4}}, \"*\")"
      ],
      "text/plain": [
       "<IPython.core.display.Javascript object>"
      ]
     },
     "metadata": {},
     "output_type": "display_data"
    },
    {
     "data": {
      "text/markdown": [
       "<span style=\"color:#33cc99\">Solution:</span> We'll begin with the regression line for chocolate candies. Since this line has a slightly positive slope, we can say that more expensive chocolate candies tend to be more popular (than relatively cheaper chocolate candies).  Likewise, since the regression line for candies without chocolate has a negative slope, we can say that if candies don't contain chocolate, they tend to be more popular when they are cheaper.  One important note, however, is that the dataset is quite small -- so we shouldn't invest too much trust in these patterns!  To inspire more confidence in the results, we should add more candies to the dataset."
      ],
      "text/plain": [
       "Solution: We'll begin with the regression line for chocolate candies. Since this line has a slightly positive slope, we can say that more expensive chocolate candies tend to be more popular (than relatively cheaper chocolate candies).  Likewise, since the regression line for candies without chocolate has a negative slope, we can say that if candies don't contain chocolate, they tend to be more popular when they are cheaper.  One important note, however, is that the dataset is quite small -- so we shouldn't invest too much trust in these patterns!  To inspire more confidence in the results, we should add more candies to the dataset."
      ]
     },
     "metadata": {},
     "output_type": "display_data"
    }
   ],
   "source": [
    "# Check your answer (Run this code cell to receive credit!)\n",
    "step_6.b.solution()"
   ]
  },
  {
   "cell_type": "markdown",
   "id": "357a95e4",
   "metadata": {
    "papermill": {
     "duration": 0.012946,
     "end_time": "2022-08-11T17:44:14.778709",
     "exception": false,
     "start_time": "2022-08-11T17:44:14.765763",
     "status": "completed"
    },
    "tags": []
   },
   "source": [
    "## Step 7: Everybody loves chocolate.\n",
    "\n",
    "#### Part A\n",
    "\n",
    "Create a categorical scatter plot to highlight the relationship between `'chocolate'` and `'winpercent'`.  Put `'chocolate'` on the (horizontal) x-axis, and `'winpercent'` on the (vertical) y-axis."
   ]
  },
  {
   "cell_type": "code",
   "execution_count": 22,
   "id": "f85c9c0a",
   "metadata": {
    "execution": {
     "iopub.execute_input": "2022-08-11T17:44:14.805675Z",
     "iopub.status.busy": "2022-08-11T17:44:14.805202Z",
     "iopub.status.idle": "2022-08-11T17:44:14.981170Z",
     "shell.execute_reply": "2022-08-11T17:44:14.980156Z"
    },
    "papermill": {
     "duration": 0.192118,
     "end_time": "2022-08-11T17:44:14.983569",
     "exception": false,
     "start_time": "2022-08-11T17:44:14.791451",
     "status": "completed"
    },
    "tags": []
   },
   "outputs": [
    {
     "data": {
      "application/javascript": [
       "parent.postMessage({\"jupyterEvent\": \"custom.exercise_interaction\", \"data\": {\"outcomeType\": 1, \"valueTowardsCompletion\": 0.3333333333333333, \"interactionType\": 1, \"questionType\": 2, \"questionId\": \"7.1_PlotSwarm\", \"learnToolsVersion\": \"0.3.4\", \"failureMessage\": \"\", \"exceptionClass\": \"\", \"trace\": \"\"}}, \"*\")"
      ],
      "text/plain": [
       "<IPython.core.display.Javascript object>"
      ]
     },
     "metadata": {},
     "output_type": "display_data"
    },
    {
     "data": {
      "text/markdown": [
       "<span style=\"color:#33cc33\">Correct</span>"
      ],
      "text/plain": [
       "Correct"
      ]
     },
     "metadata": {},
     "output_type": "display_data"
    },
    {
     "data": {
      "image/png": "[encoded data removed]",
      "text/plain": [
       "<Figure size 432x288 with 1 Axes>"
      ]
     },
     "metadata": {
      "needs_background": "light"
     },
     "output_type": "display_data"
    }
   ],
   "source": [
    "# Scatter plot showing the relationship between 'chocolate' and 'winpercent'\n",
    "sns.swarmplot(x='chocolate',y='winpercent',data=candy_data) # Your code here\n",
    "\n",
    "# Check your answer\n",
    "step_7.a.check()"
   ]
  },
  {
   "cell_type": "code",
   "execution_count": 23,
   "id": "67b26eb7",
   "metadata": {
    "execution": {
     "iopub.execute_input": "2022-08-11T17:44:15.014007Z",
     "iopub.status.busy": "2022-08-11T17:44:15.013552Z",
     "iopub.status.idle": "2022-08-11T17:44:15.018057Z",
     "shell.execute_reply": "2022-08-11T17:44:15.017125Z"
    },
    "papermill": {
     "duration": 0.02224,
     "end_time": "2022-08-11T17:44:15.020054",
     "exception": false,
     "start_time": "2022-08-11T17:44:14.997814",
     "status": "completed"
    },
    "tags": []
   },
   "outputs": [],
   "source": [
    "# Lines below will give you a hint or solution code\n",
    "#step_7.a.hint()\n",
    "#step_7.a.solution_plot()"
   ]
  },
  {
   "cell_type": "markdown",
   "id": "d5045bd2",
   "metadata": {
    "papermill": {
     "duration": 0.014184,
     "end_time": "2022-08-11T17:44:15.047732",
     "exception": false,
     "start_time": "2022-08-11T17:44:15.033548",
     "status": "completed"
    },
    "tags": []
   },
   "source": [
    "#### Part B\n",
    "\n",
    "You decide to dedicate a section of your report to the fact that chocolate candies tend to be more popular than candies without chocolate.  Which plot is more appropriate to tell this story: the plot from **Step 6**, or the plot from **Step 7**?"
   ]
  },
  {
   "cell_type": "code",
   "execution_count": 24,
   "id": "05fa1fbc",
   "metadata": {
    "execution": {
     "iopub.execute_input": "2022-08-11T17:44:15.077536Z",
     "iopub.status.busy": "2022-08-11T17:44:15.076601Z",
     "iopub.status.idle": "2022-08-11T17:44:15.081820Z",
     "shell.execute_reply": "2022-08-11T17:44:15.080679Z"
    },
    "papermill": {
     "duration": 0.022798,
     "end_time": "2022-08-11T17:44:15.084260",
     "exception": false,
     "start_time": "2022-08-11T17:44:15.061462",
     "status": "completed"
    },
    "tags": []
   },
   "outputs": [],
   "source": [
    "#step_7.b.hint()"
   ]
  },
  {
   "cell_type": "code",
   "execution_count": 25,
   "id": "b1a24b8e",
   "metadata": {
    "execution": {
     "iopub.execute_input": "2022-08-11T17:44:15.113951Z",
     "iopub.status.busy": "2022-08-11T17:44:15.112970Z",
     "iopub.status.idle": "2022-08-11T17:44:15.121225Z",
     "shell.execute_reply": "2022-08-11T17:44:15.120408Z"
    },
    "papermill": {
     "duration": 0.02578,
     "end_time": "2022-08-11T17:44:15.123644",
     "exception": false,
     "start_time": "2022-08-11T17:44:15.097864",
     "status": "completed"
    },
    "tags": []
   },
   "outputs": [
    {
     "data": {
      "application/javascript": [
       "parent.postMessage({\"jupyterEvent\": \"custom.exercise_interaction\", \"data\": {\"interactionType\": 3, \"questionType\": 4, \"questionId\": \"7.2_ThinkSwarm\", \"learnToolsVersion\": \"0.3.4\", \"valueTowardsCompletion\": 0.0, \"failureMessage\": \"\", \"exceptionClass\": \"\", \"trace\": \"\", \"outcomeType\": 4}}, \"*\")"
      ],
      "text/plain": [
       "<IPython.core.display.Javascript object>"
      ]
     },
     "metadata": {},
     "output_type": "display_data"
    },
    {
     "data": {
      "text/markdown": [
       "<span style=\"color:#33cc99\">Solution:</span> In this case, the categorical scatter plot from **Step 7** is the more appropriate plot. While both plots tell the desired story, the plot from **Step 6** conveys far more information that could distract from the main point."
      ],
      "text/plain": [
       "Solution: In this case, the categorical scatter plot from **Step 7** is the more appropriate plot. While both plots tell the desired story, the plot from **Step 6** conveys far more information that could distract from the main point."
      ]
     },
     "metadata": {},
     "output_type": "display_data"
    }
   ],
   "source": [
    "# Check your answer (Run this code cell to receive credit!)\n",
    "step_7.b.solution()"
   ]
  },
  {
   "cell_type": "markdown",
   "id": "ffa802d3",
   "metadata": {
    "papermill": {
     "duration": 0.013343,
     "end_time": "2022-08-11T17:44:15.150769",
     "exception": false,
     "start_time": "2022-08-11T17:44:15.137426",
     "status": "completed"
    },
    "tags": []
   },
   "source": [
    "## Keep going\n",
    "\n",
    "Explore **[histograms and density plots](https://www.kaggle.com/alexisbcook/distributions)**."
   ]
  },
  {
   "cell_type": "markdown",
   "id": "be1f05c7",
   "metadata": {
    "papermill": {
     "duration": 0.013463,
     "end_time": "2022-08-11T17:44:15.178405",
     "exception": false,
     "start_time": "2022-08-11T17:44:15.164942",
     "status": "completed"
    },
    "tags": []
   },
   "source": [
    "---\n",
    "\n",
    "\n",
    "\n",
    "\n",
    "*Have questions or comments? Visit the [course discussion forum](https://www.kaggle.com/learn/data-visualization/discussion) to chat with other learners.*"
   ]
  }
 ],
 "metadata": {
  "kernelspec": {
   "display_name": "Python 3",
   "language": "python",
   "name": "python3"
  },
  "language_info": {
   "codemirror_mode": {
    "name": "ipython",
    "version": 3
   },
   "file_extension": ".py",
   "mimetype": "text/x-python",
   "name": "python",
   "nbconvert_exporter": "python",
   "pygments_lexer": "ipython3",
   "version": "3.7.12"
  },
  "papermill": {
   "default_parameters": {},
   "duration": 13.481012,
   "end_time": "2022-08-11T17:44:15.914599",
   "environment_variables": {},
   "exception": null,
   "input_path": "__notebook__.ipynb",
   "output_path": "__notebook__.ipynb",
   "parameters": {},
   "start_time": "2022-08-11T17:44:02.433587",
   "version": "2.3.4"
  }
 },
 "nbformat": 4,
 "nbformat_minor": 5
}
