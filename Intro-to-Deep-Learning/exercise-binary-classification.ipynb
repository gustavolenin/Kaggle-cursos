{
 "cells": [
  {
   "cell_type": "markdown",
   "id": "2bc2e7fa",
   "metadata": {
    "papermill": {
     "duration": 0.004289,
     "end_time": "2022-11-01T02:38:42.465490",
     "exception": false,
     "start_time": "2022-11-01T02:38:42.461201",
     "status": "completed"
    },
    "tags": []
   },
   "source": [
    "**This notebook is an exercise in the [Intro to Deep Learning](https://www.kaggle.com/learn/intro-to-deep-learning) course.  You can reference the tutorial at [this link](https://www.kaggle.com/ryanholbrook/binary-classification).**\n",
    "\n",
    "---\n"
   ]
  },
  {
   "cell_type": "markdown",
   "id": "031c6973",
   "metadata": {
    "papermill": {
     "duration": 0.003108,
     "end_time": "2022-11-01T02:38:42.472007",
     "exception": false,
     "start_time": "2022-11-01T02:38:42.468899",
     "status": "completed"
    },
    "tags": []
   },
   "source": [
    "# Introduction #\n",
    "\n",
    "In this exercise, you'll build a model to predict hotel cancellations with a binary classifier."
   ]
  },
  {
   "cell_type": "code",
   "execution_count": 1,
   "id": "d8ce3205",
   "metadata": {
    "execution": {
     "iopub.execute_input": "2022-11-01T02:38:42.480741Z",
     "iopub.status.busy": "2022-11-01T02:38:42.479923Z",
     "iopub.status.idle": "2022-11-01T02:38:42.511470Z",
     "shell.execute_reply": "2022-11-01T02:38:42.510646Z"
    },
    "lines_to_next_cell": 0,
    "papermill": {
     "duration": 0.038481,
     "end_time": "2022-11-01T02:38:42.513629",
     "exception": false,
     "start_time": "2022-11-01T02:38:42.475148",
     "status": "completed"
    },
    "tags": []
   },
   "outputs": [],
   "source": [
    "# Setup plotting\n",
    "import matplotlib.pyplot as plt\n",
    "plt.style.use('seaborn-whitegrid')\n",
    "# Set Matplotlib defaults\n",
    "plt.rc('figure', autolayout=True)\n",
    "plt.rc('axes', labelweight='bold', labelsize='large',\n",
    "       titleweight='bold', titlesize=18, titlepad=10)\n",
    "plt.rc('animation', html='html5')\n",
    "\n",
    "# Setup feedback system\n",
    "from learntools.core import binder\n",
    "binder.bind(globals())\n",
    "from learntools.deep_learning_intro.ex6 import *"
   ]
  },
  {
   "cell_type": "markdown",
   "id": "04891a37",
   "metadata": {
    "papermill": {
     "duration": 0.002922,
     "end_time": "2022-11-01T02:38:42.519797",
     "exception": false,
     "start_time": "2022-11-01T02:38:42.516875",
     "status": "completed"
    },
    "tags": []
   },
   "source": [
    "First, load the *Hotel Cancellations* dataset."
   ]
  },
  {
   "cell_type": "code",
   "execution_count": 2,
   "id": "877386e3",
   "metadata": {
    "execution": {
     "iopub.execute_input": "2022-11-01T02:38:42.527310Z",
     "iopub.status.busy": "2022-11-01T02:38:42.527048Z",
     "iopub.status.idle": "2022-11-01T02:38:44.786183Z",
     "shell.execute_reply": "2022-11-01T02:38:44.785144Z"
    },
    "lines_to_next_cell": 2,
    "papermill": {
     "duration": 2.265711,
     "end_time": "2022-11-01T02:38:44.788639",
     "exception": false,
     "start_time": "2022-11-01T02:38:42.522928",
     "status": "completed"
    },
    "tags": []
   },
   "outputs": [],
   "source": [
    "import pandas as pd\n",
    "\n",
    "from sklearn.model_selection import train_test_split\n",
    "from sklearn.preprocessing import StandardScaler, OneHotEncoder\n",
    "from sklearn.impute import SimpleImputer\n",
    "from sklearn.pipeline import make_pipeline\n",
    "from sklearn.compose import make_column_transformer\n",
    "\n",
    "hotel = pd.read_csv('../input/dl-course-data/hotel.csv')\n",
    "\n",
    "X = hotel.copy()\n",
    "y = X.pop('is_canceled')\n",
    "\n",
    "X['arrival_date_month'] = \\\n",
    "    X['arrival_date_month'].map(\n",
    "        {'January':1, 'February': 2, 'March':3,\n",
    "         'April':4, 'May':5, 'June':6, 'July':7,\n",
    "         'August':8, 'September':9, 'October':10,\n",
    "         'November':11, 'December':12}\n",
    "    )\n",
    "\n",
    "features_num = [\n",
    "    \"lead_time\", \"arrival_date_week_number\",\n",
    "    \"arrival_date_day_of_month\", \"stays_in_weekend_nights\",\n",
    "    \"stays_in_week_nights\", \"adults\", \"children\", \"babies\",\n",
    "    \"is_repeated_guest\", \"previous_cancellations\",\n",
    "    \"previous_bookings_not_canceled\", \"required_car_parking_spaces\",\n",
    "    \"total_of_special_requests\", \"adr\",\n",
    "]\n",
    "features_cat = [\n",
    "    \"hotel\", \"arrival_date_month\", \"meal\",\n",
    "    \"market_segment\", \"distribution_channel\",\n",
    "    \"reserved_room_type\", \"deposit_type\", \"customer_type\",\n",
    "]\n",
    "\n",
    "transformer_num = make_pipeline(\n",
    "    SimpleImputer(strategy=\"constant\"), # there are a few missing values\n",
    "    StandardScaler(),\n",
    ")\n",
    "transformer_cat = make_pipeline(\n",
    "    SimpleImputer(strategy=\"constant\", fill_value=\"NA\"),\n",
    "    OneHotEncoder(handle_unknown='ignore'),\n",
    ")\n",
    "\n",
    "preprocessor = make_column_transformer(\n",
    "    (transformer_num, features_num),\n",
    "    (transformer_cat, features_cat),\n",
    ")\n",
    "\n",
    "# stratify - make sure classes are evenlly represented across splits\n",
    "X_train, X_valid, y_train, y_valid = \\\n",
    "    train_test_split(X, y, stratify=y, train_size=0.75)\n",
    "\n",
    "X_train = preprocessor.fit_transform(X_train)\n",
    "X_valid = preprocessor.transform(X_valid)\n",
    "\n",
    "input_shape = [X_train.shape[1]]"
   ]
  },
  {
   "cell_type": "markdown",
   "id": "a70b43f7",
   "metadata": {
    "papermill": {
     "duration": 0.003071,
     "end_time": "2022-11-01T02:38:44.795188",
     "exception": false,
     "start_time": "2022-11-01T02:38:44.792117",
     "status": "completed"
    },
    "tags": []
   },
   "source": [
    "# 1) Define Model #\n",
    "\n",
    "The model we'll use this time will have both batch normalization and dropout layers. To ease reading we've broken the diagram into blocks, but you can define it layer by layer as usual.\n",
    "\n",
    "Define a model with an architecture given by this diagram:\n",
    "\n",
    "<figure style=\"padding: 1em;\">\n",
    "<img src=\"https://i.imgur.com/V04o59Z.png\" width=\"400\" alt=\"Diagram of network architecture: BatchNorm, Dense, BatchNorm, Dropout, Dense, BatchNorm, Dropout, Dense.\">\n",
    "<figcaption style=\"textalign: center; font-style: italic\"><center>Diagram of a binary classifier.</center></figcaption>\n",
    "</figure>\n"
   ]
  },
  {
   "cell_type": "code",
   "execution_count": 3,
   "id": "3deaefeb",
   "metadata": {
    "execution": {
     "iopub.execute_input": "2022-11-01T02:38:44.804344Z",
     "iopub.status.busy": "2022-11-01T02:38:44.802744Z",
     "iopub.status.idle": "2022-11-01T02:38:52.602795Z",
     "shell.execute_reply": "2022-11-01T02:38:52.601785Z"
    },
    "lines_to_next_cell": 2,
    "papermill": {
     "duration": 7.80637,
     "end_time": "2022-11-01T02:38:52.604865",
     "exception": false,
     "start_time": "2022-11-01T02:38:44.798495",
     "status": "completed"
    },
    "tags": []
   },
   "outputs": [
    {
     "name": "stderr",
     "output_type": "stream",
     "text": [
      "2022-11-01 02:38:49.947036: I tensorflow/stream_executor/cuda/cuda_gpu_executor.cc:937] successful NUMA node read from SysFS had negative value (-1), but there must be at least one NUMA node, so returning NUMA node zero\n",
      "2022-11-01 02:38:50.048756: I tensorflow/stream_executor/cuda/cuda_gpu_executor.cc:937] successful NUMA node read from SysFS had negative value (-1), but there must be at least one NUMA node, so returning NUMA node zero\n",
      "2022-11-01 02:38:50.049529: I tensorflow/stream_executor/cuda/cuda_gpu_executor.cc:937] successful NUMA node read from SysFS had negative value (-1), but there must be at least one NUMA node, so returning NUMA node zero\n",
      "2022-11-01 02:38:50.051629: I tensorflow/core/platform/cpu_feature_guard.cc:142] This TensorFlow binary is optimized with oneAPI Deep Neural Network Library (oneDNN) to use the following CPU instructions in performance-critical operations:  AVX2 AVX512F FMA\n",
      "To enable them in other operations, rebuild TensorFlow with the appropriate compiler flags.\n",
      "2022-11-01 02:38:50.055706: I tensorflow/stream_executor/cuda/cuda_gpu_executor.cc:937] successful NUMA node read from SysFS had negative value (-1), but there must be at least one NUMA node, so returning NUMA node zero\n",
      "2022-11-01 02:38:50.056440: I tensorflow/stream_executor/cuda/cuda_gpu_executor.cc:937] successful NUMA node read from SysFS had negative value (-1), but there must be at least one NUMA node, so returning NUMA node zero\n",
      "2022-11-01 02:38:50.057153: I tensorflow/stream_executor/cuda/cuda_gpu_executor.cc:937] successful NUMA node read from SysFS had negative value (-1), but there must be at least one NUMA node, so returning NUMA node zero\n",
      "2022-11-01 02:38:52.159441: I tensorflow/stream_executor/cuda/cuda_gpu_executor.cc:937] successful NUMA node read from SysFS had negative value (-1), but there must be at least one NUMA node, so returning NUMA node zero\n",
      "2022-11-01 02:38:52.160359: I tensorflow/stream_executor/cuda/cuda_gpu_executor.cc:937] successful NUMA node read from SysFS had negative value (-1), but there must be at least one NUMA node, so returning NUMA node zero\n",
      "2022-11-01 02:38:52.161029: I tensorflow/stream_executor/cuda/cuda_gpu_executor.cc:937] successful NUMA node read from SysFS had negative value (-1), but there must be at least one NUMA node, so returning NUMA node zero\n",
      "2022-11-01 02:38:52.161607: I tensorflow/core/common_runtime/gpu/gpu_device.cc:1510] Created device /job:localhost/replica:0/task:0/device:GPU:0 with 15401 MB memory:  -> device: 0, name: Tesla P100-PCIE-16GB, pci bus id: 0000:00:04.0, compute capability: 6.0\n"
     ]
    },
    {
     "data": {
      "application/javascript": [
       "parent.postMessage({\"jupyterEvent\": \"custom.exercise_interaction\", \"data\": {\"outcomeType\": 1, \"valueTowardsCompletion\": 0.3333333333333333, \"interactionType\": 1, \"questionType\": 2, \"questionId\": \"1_Q1\", \"learnToolsVersion\": \"0.3.4\", \"failureMessage\": \"\", \"exceptionClass\": \"\", \"trace\": \"\"}}, \"*\")"
      ],
      "text/plain": [
       "<IPython.core.display.Javascript object>"
      ]
     },
     "metadata": {},
     "output_type": "display_data"
    },
    {
     "data": {
      "text/markdown": [
       "<span style=\"color:#33cc33\">Correct</span>"
      ],
      "text/plain": [
       "Correct"
      ]
     },
     "metadata": {},
     "output_type": "display_data"
    }
   ],
   "source": [
    "from tensorflow import keras\n",
    "from tensorflow.keras import layers\n",
    "\n",
    "# YOUR CODE HERE: define the model given in the diagram\n",
    "model = keras.Sequential([\n",
    "    layers.BatchNormalization(input_shape=input_shape),\n",
    "    layers.Dense(256, activation='relu'),\n",
    "    layers.BatchNormalization(),\n",
    "    layers.Dropout(0.3),\n",
    "    layers.Dense(256, activation='relu'),    \n",
    "    layers.BatchNormalization(),\n",
    "    layers.Dropout(0.3),\n",
    "    layers.Dense(1, activation='sigmoid'),\n",
    "])\n",
    "\n",
    "# Check your answer\n",
    "q_1.check()"
   ]
  },
  {
   "cell_type": "markdown",
   "id": "0790bf72",
   "metadata": {
    "papermill": {
     "duration": 0.003416,
     "end_time": "2022-11-01T02:38:52.612020",
     "exception": false,
     "start_time": "2022-11-01T02:38:52.608604",
     "status": "completed"
    },
    "tags": []
   },
   "source": [
    "# 2) Add Optimizer, Loss, and Metric #\n",
    "\n",
    "Now compile the model with the Adam optimizer and binary versions of the cross-entropy loss and accuracy metric."
   ]
  },
  {
   "cell_type": "code",
   "execution_count": 4,
   "id": "618e334e",
   "metadata": {
    "execution": {
     "iopub.execute_input": "2022-11-01T02:38:52.620782Z",
     "iopub.status.busy": "2022-11-01T02:38:52.619977Z",
     "iopub.status.idle": "2022-11-01T02:38:52.635975Z",
     "shell.execute_reply": "2022-11-01T02:38:52.635125Z"
    },
    "lines_to_next_cell": 0,
    "papermill": {
     "duration": 0.022239,
     "end_time": "2022-11-01T02:38:52.637778",
     "exception": false,
     "start_time": "2022-11-01T02:38:52.615539",
     "status": "completed"
    },
    "tags": []
   },
   "outputs": [
    {
     "data": {
      "application/javascript": [
       "parent.postMessage({\"jupyterEvent\": \"custom.exercise_interaction\", \"data\": {\"outcomeType\": 1, \"valueTowardsCompletion\": 0.3333333333333333, \"interactionType\": 1, \"questionType\": 2, \"questionId\": \"2_Q2\", \"learnToolsVersion\": \"0.3.4\", \"failureMessage\": \"\", \"exceptionClass\": \"\", \"trace\": \"\"}}, \"*\")"
      ],
      "text/plain": [
       "<IPython.core.display.Javascript object>"
      ]
     },
     "metadata": {},
     "output_type": "display_data"
    },
    {
     "data": {
      "text/markdown": [
       "<span style=\"color:#33cc33\">Correct</span>"
      ],
      "text/plain": [
       "Correct"
      ]
     },
     "metadata": {},
     "output_type": "display_data"
    }
   ],
   "source": [
    "# YOUR CODE HERE\n",
    "model.compile(\n",
    "    optimizer='adam',\n",
    "    loss='binary_crossentropy',\n",
    "    metrics=['binary_accuracy'],\n",
    ")\n",
    "\n",
    "# Check your answer\n",
    "q_2.check()"
   ]
  },
  {
   "cell_type": "code",
   "execution_count": 5,
   "id": "04145cfd",
   "metadata": {
    "execution": {
     "iopub.execute_input": "2022-11-01T02:38:52.646948Z",
     "iopub.status.busy": "2022-11-01T02:38:52.646183Z",
     "iopub.status.idle": "2022-11-01T02:38:52.650378Z",
     "shell.execute_reply": "2022-11-01T02:38:52.649498Z"
    },
    "lines_to_next_cell": 0,
    "papermill": {
     "duration": 0.010843,
     "end_time": "2022-11-01T02:38:52.652336",
     "exception": false,
     "start_time": "2022-11-01T02:38:52.641493",
     "status": "completed"
    },
    "tags": []
   },
   "outputs": [],
   "source": [
    "# Lines below will give you a hint or solution code\n",
    "#q_2.hint()\n",
    "#q_2.solution()"
   ]
  },
  {
   "cell_type": "markdown",
   "id": "b10a1990",
   "metadata": {
    "papermill": {
     "duration": 0.003588,
     "end_time": "2022-11-01T02:38:52.659636",
     "exception": false,
     "start_time": "2022-11-01T02:38:52.656048",
     "status": "completed"
    },
    "tags": []
   },
   "source": [
    "Finally, run this cell to train the model and view the learning curves. It may run for around 60 to 70 epochs, which could take a minute or two."
   ]
  },
  {
   "cell_type": "code",
   "execution_count": 6,
   "id": "e4affd32",
   "metadata": {
    "execution": {
     "iopub.execute_input": "2022-11-01T02:38:52.668534Z",
     "iopub.status.busy": "2022-11-01T02:38:52.668286Z",
     "iopub.status.idle": "2022-11-01T02:39:32.081619Z",
     "shell.execute_reply": "2022-11-01T02:39:32.080711Z"
    },
    "papermill": {
     "duration": 39.42016,
     "end_time": "2022-11-01T02:39:32.083671",
     "exception": false,
     "start_time": "2022-11-01T02:38:52.663511",
     "status": "completed"
    },
    "tags": []
   },
   "outputs": [
    {
     "name": "stderr",
     "output_type": "stream",
     "text": [
      "2022-11-01 02:38:52.785273: I tensorflow/compiler/mlir/mlir_graph_optimization_pass.cc:185] None of the MLIR Optimization Passes are enabled (registered 2)\n"
     ]
    },
    {
     "name": "stdout",
     "output_type": "stream",
     "text": [
      "Epoch 1/200\n",
      "175/175 [==============================] - 3s 7ms/step - loss: 0.4889 - binary_accuracy: 0.7670 - val_loss: 0.4320 - val_binary_accuracy: 0.8055\n",
      "Epoch 2/200\n",
      "175/175 [==============================] - 1s 4ms/step - loss: 0.4255 - binary_accuracy: 0.7987 - val_loss: 0.4024 - val_binary_accuracy: 0.8123\n",
      "Epoch 3/200\n",
      "175/175 [==============================] - 1s 4ms/step - loss: 0.4110 - binary_accuracy: 0.8076 - val_loss: 0.3965 - val_binary_accuracy: 0.8154\n",
      "Epoch 4/200\n",
      "175/175 [==============================] - 1s 4ms/step - loss: 0.4031 - binary_accuracy: 0.8121 - val_loss: 0.3903 - val_binary_accuracy: 0.8193\n",
      "Epoch 5/200\n",
      "175/175 [==============================] - 1s 4ms/step - loss: 0.3991 - binary_accuracy: 0.8130 - val_loss: 0.3877 - val_binary_accuracy: 0.8181\n",
      "Epoch 6/200\n",
      "175/175 [==============================] - 1s 4ms/step - loss: 0.3948 - binary_accuracy: 0.8156 - val_loss: 0.3833 - val_binary_accuracy: 0.8204\n",
      "Epoch 7/200\n",
      "175/175 [==============================] - 1s 4ms/step - loss: 0.3901 - binary_accuracy: 0.8188 - val_loss: 0.3847 - val_binary_accuracy: 0.8229\n",
      "Epoch 8/200\n",
      "175/175 [==============================] - 1s 4ms/step - loss: 0.3861 - binary_accuracy: 0.8200 - val_loss: 0.3789 - val_binary_accuracy: 0.8265\n",
      "Epoch 9/200\n",
      "175/175 [==============================] - 1s 4ms/step - loss: 0.3843 - binary_accuracy: 0.8212 - val_loss: 0.3758 - val_binary_accuracy: 0.8298\n",
      "Epoch 10/200\n",
      "175/175 [==============================] - 1s 5ms/step - loss: 0.3801 - binary_accuracy: 0.8225 - val_loss: 0.3770 - val_binary_accuracy: 0.8290\n",
      "Epoch 11/200\n",
      "175/175 [==============================] - 1s 4ms/step - loss: 0.3790 - binary_accuracy: 0.8243 - val_loss: 0.3725 - val_binary_accuracy: 0.8288\n",
      "Epoch 12/200\n",
      "175/175 [==============================] - 1s 4ms/step - loss: 0.3762 - binary_accuracy: 0.8263 - val_loss: 0.3682 - val_binary_accuracy: 0.8306\n",
      "Epoch 13/200\n",
      "175/175 [==============================] - 1s 4ms/step - loss: 0.3743 - binary_accuracy: 0.8267 - val_loss: 0.3674 - val_binary_accuracy: 0.8330\n",
      "Epoch 14/200\n",
      "175/175 [==============================] - 1s 4ms/step - loss: 0.3718 - binary_accuracy: 0.8281 - val_loss: 0.3682 - val_binary_accuracy: 0.8325\n",
      "Epoch 15/200\n",
      "175/175 [==============================] - 1s 6ms/step - loss: 0.3702 - binary_accuracy: 0.8294 - val_loss: 0.3658 - val_binary_accuracy: 0.8331\n",
      "Epoch 16/200\n",
      "175/175 [==============================] - 1s 4ms/step - loss: 0.3681 - binary_accuracy: 0.8291 - val_loss: 0.3647 - val_binary_accuracy: 0.8357\n",
      "Epoch 17/200\n",
      "175/175 [==============================] - 1s 4ms/step - loss: 0.3654 - binary_accuracy: 0.8309 - val_loss: 0.3618 - val_binary_accuracy: 0.8357\n",
      "Epoch 18/200\n",
      "175/175 [==============================] - 1s 4ms/step - loss: 0.3641 - binary_accuracy: 0.8322 - val_loss: 0.3624 - val_binary_accuracy: 0.8361\n",
      "Epoch 19/200\n",
      "175/175 [==============================] - 1s 5ms/step - loss: 0.3632 - binary_accuracy: 0.8324 - val_loss: 0.3601 - val_binary_accuracy: 0.8358\n",
      "Epoch 20/200\n",
      "175/175 [==============================] - 1s 5ms/step - loss: 0.3623 - binary_accuracy: 0.8325 - val_loss: 0.3624 - val_binary_accuracy: 0.8355\n",
      "Epoch 21/200\n",
      "175/175 [==============================] - 1s 7ms/step - loss: 0.3612 - binary_accuracy: 0.8324 - val_loss: 0.3624 - val_binary_accuracy: 0.8360\n",
      "Epoch 22/200\n",
      "175/175 [==============================] - 1s 4ms/step - loss: 0.3586 - binary_accuracy: 0.8345 - val_loss: 0.3592 - val_binary_accuracy: 0.8355\n",
      "Epoch 23/200\n",
      "175/175 [==============================] - 1s 5ms/step - loss: 0.3573 - binary_accuracy: 0.8344 - val_loss: 0.3582 - val_binary_accuracy: 0.8362\n",
      "Epoch 24/200\n",
      "175/175 [==============================] - 1s 4ms/step - loss: 0.3563 - binary_accuracy: 0.8348 - val_loss: 0.3581 - val_binary_accuracy: 0.8379\n",
      "Epoch 25/200\n",
      "175/175 [==============================] - 1s 5ms/step - loss: 0.3553 - binary_accuracy: 0.8355 - val_loss: 0.3622 - val_binary_accuracy: 0.8337\n",
      "Epoch 26/200\n",
      "175/175 [==============================] - 1s 5ms/step - loss: 0.3540 - binary_accuracy: 0.8357 - val_loss: 0.3570 - val_binary_accuracy: 0.8366\n",
      "Epoch 27/200\n",
      "175/175 [==============================] - 1s 4ms/step - loss: 0.3527 - binary_accuracy: 0.8360 - val_loss: 0.3541 - val_binary_accuracy: 0.8367\n",
      "Epoch 28/200\n",
      "175/175 [==============================] - 1s 5ms/step - loss: 0.3514 - binary_accuracy: 0.8369 - val_loss: 0.3544 - val_binary_accuracy: 0.8397\n",
      "Epoch 29/200\n",
      "175/175 [==============================] - 1s 5ms/step - loss: 0.3502 - binary_accuracy: 0.8374 - val_loss: 0.3547 - val_binary_accuracy: 0.8384\n",
      "Epoch 30/200\n",
      "175/175 [==============================] - 1s 4ms/step - loss: 0.3492 - binary_accuracy: 0.8386 - val_loss: 0.3537 - val_binary_accuracy: 0.8376\n",
      "Epoch 31/200\n",
      "175/175 [==============================] - 1s 4ms/step - loss: 0.3479 - binary_accuracy: 0.8399 - val_loss: 0.3529 - val_binary_accuracy: 0.8365\n",
      "Epoch 32/200\n",
      "175/175 [==============================] - 1s 4ms/step - loss: 0.3478 - binary_accuracy: 0.8397 - val_loss: 0.3522 - val_binary_accuracy: 0.8396\n",
      "Epoch 33/200\n",
      "175/175 [==============================] - 1s 4ms/step - loss: 0.3458 - binary_accuracy: 0.8402 - val_loss: 0.3520 - val_binary_accuracy: 0.8382\n",
      "Epoch 34/200\n",
      "175/175 [==============================] - 1s 4ms/step - loss: 0.3453 - binary_accuracy: 0.8396 - val_loss: 0.3523 - val_binary_accuracy: 0.8384\n",
      "Epoch 35/200\n",
      "175/175 [==============================] - 1s 5ms/step - loss: 0.3430 - binary_accuracy: 0.8412 - val_loss: 0.3516 - val_binary_accuracy: 0.8400\n",
      "Epoch 36/200\n",
      "175/175 [==============================] - 1s 4ms/step - loss: 0.3449 - binary_accuracy: 0.8409 - val_loss: 0.3493 - val_binary_accuracy: 0.8409\n",
      "Epoch 37/200\n",
      "175/175 [==============================] - 1s 5ms/step - loss: 0.3427 - binary_accuracy: 0.8417 - val_loss: 0.3500 - val_binary_accuracy: 0.8390\n",
      "Epoch 38/200\n",
      "175/175 [==============================] - 1s 4ms/step - loss: 0.3413 - binary_accuracy: 0.8418 - val_loss: 0.3499 - val_binary_accuracy: 0.8404\n",
      "Epoch 39/200\n",
      "175/175 [==============================] - 1s 5ms/step - loss: 0.3413 - binary_accuracy: 0.8415 - val_loss: 0.3493 - val_binary_accuracy: 0.8396\n",
      "Epoch 40/200\n",
      "175/175 [==============================] - 1s 4ms/step - loss: 0.3398 - binary_accuracy: 0.8421 - val_loss: 0.3505 - val_binary_accuracy: 0.8398\n",
      "Epoch 41/200\n",
      "175/175 [==============================] - 1s 5ms/step - loss: 0.3398 - binary_accuracy: 0.8433 - val_loss: 0.3475 - val_binary_accuracy: 0.8413\n",
      "Epoch 42/200\n",
      "175/175 [==============================] - 1s 5ms/step - loss: 0.3386 - binary_accuracy: 0.8453 - val_loss: 0.3480 - val_binary_accuracy: 0.8415\n",
      "Epoch 43/200\n",
      "175/175 [==============================] - 1s 4ms/step - loss: 0.3387 - binary_accuracy: 0.8447 - val_loss: 0.3475 - val_binary_accuracy: 0.8417\n",
      "Epoch 44/200\n",
      "175/175 [==============================] - 1s 4ms/step - loss: 0.3368 - binary_accuracy: 0.8446 - val_loss: 0.3499 - val_binary_accuracy: 0.8404\n",
      "Epoch 45/200\n",
      "175/175 [==============================] - 1s 4ms/step - loss: 0.3385 - binary_accuracy: 0.8428 - val_loss: 0.3494 - val_binary_accuracy: 0.8426\n",
      "Epoch 46/200\n",
      "175/175 [==============================] - 1s 4ms/step - loss: 0.3371 - binary_accuracy: 0.8446 - val_loss: 0.3476 - val_binary_accuracy: 0.8412\n"
     ]
    },
    {
     "data": {
      "text/plain": [
       "<AxesSubplot:title={'center':'Accuracy'}>"
      ]
     },
     "execution_count": 6,
     "metadata": {},
     "output_type": "execute_result"
    },
    {
     "data": {
      "image/png": "[encoded data removed]",
      "text/plain": [
       "<Figure size 432x288 with 1 Axes>"
      ]
     },
     "metadata": {},
     "output_type": "display_data"
    },
    {
     "data": {
      "image/png": "[encoded data removed]",
      "text/plain": [
       "<Figure size 432x288 with 1 Axes>"
      ]
     },
     "metadata": {},
     "output_type": "display_data"
    }
   ],
   "source": [
    "early_stopping = keras.callbacks.EarlyStopping(\n",
    "    patience=5,\n",
    "    min_delta=0.001,\n",
    "    restore_best_weights=True,\n",
    ")\n",
    "history = model.fit(\n",
    "    X_train, y_train,\n",
    "    validation_data=(X_valid, y_valid),\n",
    "    batch_size=512,\n",
    "    epochs=200,\n",
    "    callbacks=[early_stopping],\n",
    ")\n",
    "\n",
    "history_df = pd.DataFrame(history.history)\n",
    "history_df.loc[:, ['loss', 'val_loss']].plot(title=\"Cross-entropy\")\n",
    "history_df.loc[:, ['binary_accuracy', 'val_binary_accuracy']].plot(title=\"Accuracy\")"
   ]
  },
  {
   "cell_type": "markdown",
   "id": "e5e29af4",
   "metadata": {
    "papermill": {
     "duration": 0.039397,
     "end_time": "2022-11-01T02:39:32.161352",
     "exception": false,
     "start_time": "2022-11-01T02:39:32.121955",
     "status": "completed"
    },
    "tags": []
   },
   "source": [
    "# 3) Train and Evaluate #\n",
    "\n",
    "\n",
    "What do you think about the learning curves? Does it look like the model underfit or overfit? Was the cross-entropy loss a good stand-in for accuracy?"
   ]
  },
  {
   "cell_type": "code",
   "execution_count": 7,
   "id": "88684d07",
   "metadata": {
    "execution": {
     "iopub.execute_input": "2022-11-01T02:39:32.242130Z",
     "iopub.status.busy": "2022-11-01T02:39:32.241767Z",
     "iopub.status.idle": "2022-11-01T02:39:32.252779Z",
     "shell.execute_reply": "2022-11-01T02:39:32.251899Z"
    },
    "papermill": {
     "duration": 0.05375,
     "end_time": "2022-11-01T02:39:32.254599",
     "exception": false,
     "start_time": "2022-11-01T02:39:32.200849",
     "status": "completed"
    },
    "tags": []
   },
   "outputs": [
    {
     "data": {
      "application/javascript": [
       "parent.postMessage({\"jupyterEvent\": \"custom.exercise_interaction\", \"data\": {\"outcomeType\": 1, \"valueTowardsCompletion\": 0.3333333333333333, \"interactionType\": 1, \"questionType\": 4, \"questionId\": \"3_Q3\", \"learnToolsVersion\": \"0.3.4\", \"failureMessage\": \"\", \"exceptionClass\": \"\", \"trace\": \"\"}}, \"*\")"
      ],
      "text/plain": [
       "<IPython.core.display.Javascript object>"
      ]
     },
     "metadata": {},
     "output_type": "display_data"
    },
    {
     "data": {
      "text/markdown": [
       "<span style=\"color:#33cc33\">Correct:</span> \n",
       "\n",
       "Though we can see the training loss continuing to fall, the early stopping callback prevented any overfitting. Moreover, the accuracy rose at the same rate as the cross-entropy fell, so it appears that minimizing cross-entropy was a good stand-in. All in all, it looks like this training was a success!"
      ],
      "text/plain": [
       "Correct: \n",
       "\n",
       "Though we can see the training loss continuing to fall, the early stopping callback prevented any overfitting. Moreover, the accuracy rose at the same rate as the cross-entropy fell, so it appears that minimizing cross-entropy was a good stand-in. All in all, it looks like this training was a success!"
      ]
     },
     "metadata": {},
     "output_type": "display_data"
    }
   ],
   "source": [
    "# View the solution (Run this cell to receive credit!)\n",
    "q_3.check()"
   ]
  },
  {
   "cell_type": "markdown",
   "id": "60efb4c4",
   "metadata": {
    "papermill": {
     "duration": 0.037226,
     "end_time": "2022-11-01T02:39:32.329621",
     "exception": false,
     "start_time": "2022-11-01T02:39:32.292395",
     "status": "completed"
    },
    "tags": []
   },
   "source": [
    "# Conclusion #\n",
    "\n",
    "Congratulations! You've completed Kaggle's *Introduction to Deep Learning* course!\n",
    "\n",
    "With your new skills you're ready to take on more advanced applications like computer vision and sentiment classification. What would you like to do next?\n",
    "\n",
    "Why not try one of our *Getting Started* competitions?\n",
    "\n",
    "- Classify images with TPUs in [**Petals to the Metal**](https://www.kaggle.com/c/tpu-getting-started)\n",
    "- Create art with GANs in [**I'm Something of a Painter Myself**](https://www.kaggle.com/c/gan-getting-started)\n",
    "- Classify Tweets in [**Real or Not? NLP with Disaster Tweets**](https://www.kaggle.com/c/nlp-getting-started)\n",
    "- Detect contradiction and entailment in [**Contradictory, My Dear Watson**](https://www.kaggle.com/c/contradictory-my-dear-watson)\n",
    "\n",
    "Until next time, Kagglers!"
   ]
  },
  {
   "cell_type": "markdown",
   "id": "ccbca448",
   "metadata": {
    "papermill": {
     "duration": 0.037266,
     "end_time": "2022-11-01T02:39:32.405155",
     "exception": false,
     "start_time": "2022-11-01T02:39:32.367889",
     "status": "completed"
    },
    "tags": []
   },
   "source": [
    "---\n",
    "\n",
    "\n",
    "\n",
    "\n",
    "*Have questions or comments? Visit the [course discussion forum](https://www.kaggle.com/learn/intro-to-deep-learning/discussion) to chat with other learners.*"
   ]
  }
 ],
 "metadata": {
  "kernelspec": {
   "display_name": "Python 3",
   "language": "python",
   "name": "python3"
  },
  "language_info": {
   "codemirror_mode": {
    "name": "ipython",
    "version": 3
   },
   "file_extension": ".py",
   "mimetype": "text/x-python",
   "name": "python",
   "nbconvert_exporter": "python",
   "pygments_lexer": "ipython3",
   "version": "3.7.12"
  },
  "papermill": {
   "default_parameters": {},
   "duration": 61.299073,
   "end_time": "2022-11-01T02:39:35.608410",
   "environment_variables": {},
   "exception": null,
   "input_path": "__notebook__.ipynb",
   "output_path": "__notebook__.ipynb",
   "parameters": {},
   "start_time": "2022-11-01T02:38:34.309337",
   "version": "2.3.4"
  }
 },
 "nbformat": 4,
 "nbformat_minor": 5
}
