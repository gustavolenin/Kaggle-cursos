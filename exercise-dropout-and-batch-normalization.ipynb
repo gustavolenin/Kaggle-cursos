{
 "cells": [
  {
   "cell_type": "markdown",
   "id": "690ce1fe",
   "metadata": {
    "papermill": {
     "duration": 0.006174,
     "end_time": "2022-11-01T02:01:39.235976",
     "exception": false,
     "start_time": "2022-11-01T02:01:39.229802",
     "status": "completed"
    },
    "tags": []
   },
   "source": [
    "**This notebook is an exercise in the [Intro to Deep Learning](https://www.kaggle.com/learn/intro-to-deep-learning) course.  You can reference the tutorial at [this link](https://www.kaggle.com/ryanholbrook/dropout-and-batch-normalization).**\n",
    "\n",
    "---\n"
   ]
  },
  {
   "cell_type": "markdown",
   "id": "92572a5e",
   "metadata": {
    "papermill": {
     "duration": 0.004371,
     "end_time": "2022-11-01T02:01:39.245018",
     "exception": false,
     "start_time": "2022-11-01T02:01:39.240647",
     "status": "completed"
    },
    "tags": []
   },
   "source": [
    "# Introduction #\n",
    "\n",
    "In this exercise, you'll add dropout to the *Spotify* model from Exercise 4 and see how batch normalization can let you successfully train models on difficult datasets.\n",
    "\n",
    "Run the next cell to get started!"
   ]
  },
  {
   "cell_type": "code",
   "execution_count": 1,
   "id": "0391a0b5",
   "metadata": {
    "execution": {
     "iopub.execute_input": "2022-11-01T02:01:39.256810Z",
     "iopub.status.busy": "2022-11-01T02:01:39.256299Z",
     "iopub.status.idle": "2022-11-01T02:01:39.290725Z",
     "shell.execute_reply": "2022-11-01T02:01:39.289795Z"
    },
    "papermill": {
     "duration": 0.042892,
     "end_time": "2022-11-01T02:01:39.292854",
     "exception": false,
     "start_time": "2022-11-01T02:01:39.249962",
     "status": "completed"
    },
    "tags": []
   },
   "outputs": [],
   "source": [
    "# Setup plotting\n",
    "import matplotlib.pyplot as plt\n",
    "plt.style.use('seaborn-whitegrid')\n",
    "# Set Matplotlib defaults\n",
    "plt.rc('figure', autolayout=True)\n",
    "plt.rc('axes', labelweight='bold', labelsize='large',\n",
    "       titleweight='bold', titlesize=18, titlepad=10)\n",
    "plt.rc('animation', html='html5')\n",
    "\n",
    "# Setup feedback system\n",
    "from learntools.core import binder\n",
    "binder.bind(globals())\n",
    "from learntools.deep_learning_intro.ex5 import *"
   ]
  },
  {
   "cell_type": "markdown",
   "id": "0b01a421",
   "metadata": {
    "papermill": {
     "duration": 0.004442,
     "end_time": "2022-11-01T02:01:39.301820",
     "exception": false,
     "start_time": "2022-11-01T02:01:39.297378",
     "status": "completed"
    },
    "tags": []
   },
   "source": [
    "First load the *Spotify* dataset."
   ]
  },
  {
   "cell_type": "code",
   "execution_count": 2,
   "id": "4e27920f",
   "metadata": {
    "execution": {
     "iopub.execute_input": "2022-11-01T02:01:39.312191Z",
     "iopub.status.busy": "2022-11-01T02:01:39.311915Z",
     "iopub.status.idle": "2022-11-01T02:01:45.030460Z",
     "shell.execute_reply": "2022-11-01T02:01:45.029100Z"
    },
    "papermill": {
     "duration": 5.727287,
     "end_time": "2022-11-01T02:01:45.033529",
     "exception": false,
     "start_time": "2022-11-01T02:01:39.306242",
     "status": "completed"
    },
    "tags": []
   },
   "outputs": [
    {
     "name": "stdout",
     "output_type": "stream",
     "text": [
      "Input shape: [18]\n"
     ]
    }
   ],
   "source": [
    "import pandas as pd\n",
    "from sklearn.preprocessing import StandardScaler, OneHotEncoder\n",
    "from sklearn.compose import make_column_transformer\n",
    "from sklearn.model_selection import GroupShuffleSplit\n",
    "\n",
    "from tensorflow import keras\n",
    "from tensorflow.keras import layers\n",
    "from tensorflow.keras import callbacks\n",
    "\n",
    "spotify = pd.read_csv('../input/dl-course-data/spotify.csv')\n",
    "\n",
    "X = spotify.copy().dropna()\n",
    "y = X.pop('track_popularity')\n",
    "artists = X['track_artist']\n",
    "\n",
    "features_num = ['danceability', 'energy', 'key', 'loudness', 'mode',\n",
    "                'speechiness', 'acousticness', 'instrumentalness',\n",
    "                'liveness', 'valence', 'tempo', 'duration_ms']\n",
    "features_cat = ['playlist_genre']\n",
    "\n",
    "preprocessor = make_column_transformer(\n",
    "    (StandardScaler(), features_num),\n",
    "    (OneHotEncoder(), features_cat),\n",
    ")\n",
    "\n",
    "def group_split(X, y, group, train_size=0.75):\n",
    "    splitter = GroupShuffleSplit(train_size=train_size)\n",
    "    train, test = next(splitter.split(X, y, groups=group))\n",
    "    return (X.iloc[train], X.iloc[test], y.iloc[train], y.iloc[test])\n",
    "\n",
    "X_train, X_valid, y_train, y_valid = group_split(X, y, artists)\n",
    "\n",
    "X_train = preprocessor.fit_transform(X_train)\n",
    "X_valid = preprocessor.transform(X_valid)\n",
    "y_train = y_train / 100\n",
    "y_valid = y_valid / 100\n",
    "\n",
    "input_shape = [X_train.shape[1]]\n",
    "print(\"Input shape: {}\".format(input_shape))"
   ]
  },
  {
   "cell_type": "markdown",
   "id": "b508cf57",
   "metadata": {
    "papermill": {
     "duration": 0.005476,
     "end_time": "2022-11-01T02:01:45.045302",
     "exception": false,
     "start_time": "2022-11-01T02:01:45.039826",
     "status": "completed"
    },
    "tags": []
   },
   "source": [
    "# 1) Add Dropout to Spotify Model\n",
    "\n",
    "Here is the last model from Exercise 4. Add two dropout layers, one after the `Dense` layer with 128 units, and one after the `Dense` layer with 64 units. Set the dropout rate on both to `0.3`."
   ]
  },
  {
   "cell_type": "code",
   "execution_count": 3,
   "id": "3f0c1b41",
   "metadata": {
    "execution": {
     "iopub.execute_input": "2022-11-01T02:01:45.056375Z",
     "iopub.status.busy": "2022-11-01T02:01:45.056050Z",
     "iopub.status.idle": "2022-11-01T02:01:47.715257Z",
     "shell.execute_reply": "2022-11-01T02:01:47.714148Z"
    },
    "lines_to_next_cell": 2,
    "papermill": {
     "duration": 2.667235,
     "end_time": "2022-11-01T02:01:47.717515",
     "exception": false,
     "start_time": "2022-11-01T02:01:45.050280",
     "status": "completed"
    },
    "tags": []
   },
   "outputs": [
    {
     "name": "stderr",
     "output_type": "stream",
     "text": [
      "2022-11-01 02:01:45.149229: I tensorflow/stream_executor/cuda/cuda_gpu_executor.cc:937] successful NUMA node read from SysFS had negative value (-1), but there must be at least one NUMA node, so returning NUMA node zero\n",
      "2022-11-01 02:01:45.240847: I tensorflow/stream_executor/cuda/cuda_gpu_executor.cc:937] successful NUMA node read from SysFS had negative value (-1), but there must be at least one NUMA node, so returning NUMA node zero\n",
      "2022-11-01 02:01:45.241684: I tensorflow/stream_executor/cuda/cuda_gpu_executor.cc:937] successful NUMA node read from SysFS had negative value (-1), but there must be at least one NUMA node, so returning NUMA node zero\n",
      "2022-11-01 02:01:45.242962: I tensorflow/core/platform/cpu_feature_guard.cc:142] This TensorFlow binary is optimized with oneAPI Deep Neural Network Library (oneDNN) to use the following CPU instructions in performance-critical operations:  AVX2 AVX512F FMA\n",
      "To enable them in other operations, rebuild TensorFlow with the appropriate compiler flags.\n",
      "2022-11-01 02:01:45.243291: I tensorflow/stream_executor/cuda/cuda_gpu_executor.cc:937] successful NUMA node read from SysFS had negative value (-1), but there must be at least one NUMA node, so returning NUMA node zero\n",
      "2022-11-01 02:01:45.243982: I tensorflow/stream_executor/cuda/cuda_gpu_executor.cc:937] successful NUMA node read from SysFS had negative value (-1), but there must be at least one NUMA node, so returning NUMA node zero\n",
      "2022-11-01 02:01:45.244659: I tensorflow/stream_executor/cuda/cuda_gpu_executor.cc:937] successful NUMA node read from SysFS had negative value (-1), but there must be at least one NUMA node, so returning NUMA node zero\n",
      "2022-11-01 02:01:47.284892: I tensorflow/stream_executor/cuda/cuda_gpu_executor.cc:937] successful NUMA node read from SysFS had negative value (-1), but there must be at least one NUMA node, so returning NUMA node zero\n",
      "2022-11-01 02:01:47.285758: I tensorflow/stream_executor/cuda/cuda_gpu_executor.cc:937] successful NUMA node read from SysFS had negative value (-1), but there must be at least one NUMA node, so returning NUMA node zero\n",
      "2022-11-01 02:01:47.286433: I tensorflow/stream_executor/cuda/cuda_gpu_executor.cc:937] successful NUMA node read from SysFS had negative value (-1), but there must be at least one NUMA node, so returning NUMA node zero\n",
      "2022-11-01 02:01:47.287013: I tensorflow/core/common_runtime/gpu/gpu_device.cc:1510] Created device /job:localhost/replica:0/task:0/device:GPU:0 with 15401 MB memory:  -> device: 0, name: Tesla P100-PCIE-16GB, pci bus id: 0000:00:04.0, compute capability: 6.0\n"
     ]
    },
    {
     "data": {
      "application/javascript": [
       "parent.postMessage({\"jupyterEvent\": \"custom.exercise_interaction\", \"data\": {\"outcomeType\": 2, \"failureMessage\": \"Your model doesn't have the correct kinds of layers. You should have five layers with classes: ['Dense', 'Dropout', 'Dense', 'Dropout', 'Dense'].\", \"interactionType\": 1, \"questionType\": 2, \"questionId\": \"1_Q1\", \"learnToolsVersion\": \"0.3.4\", \"valueTowardsCompletion\": 0.0, \"exceptionClass\": \"\", \"trace\": \"\"}}, \"*\")"
      ],
      "text/plain": [
       "<IPython.core.display.Javascript object>"
      ]
     },
     "metadata": {},
     "output_type": "display_data"
    },
    {
     "data": {
      "text/markdown": [
       "<span style=\"color:#cc3333\">Incorrect:</span> Your model doesn't have the correct kinds of layers. You should have five layers with classes: ['Dense', 'Dropout', 'Dense', 'Dropout', 'Dense']."
      ],
      "text/plain": [
       "Incorrect: Your model doesn't have the correct kinds of layers. You should have five layers with classes: ['Dense', 'Dropout', 'Dense', 'Dropout', 'Dense']."
      ]
     },
     "metadata": {},
     "output_type": "display_data"
    }
   ],
   "source": [
    "# YOUR CODE HERE: Add two 30% dropout layers, one after 128 and one after 64\n",
    "model = keras.Sequential([\n",
    "    layers.Dense(128, activation='relu', input_shape=input_shape),\n",
    "    layers.Dense(64, activation='relu'),\n",
    "    layers.Dense(1)\n",
    "])\n",
    "\n",
    "# Check your answer\n",
    "q_1.check()"
   ]
  },
  {
   "cell_type": "code",
   "execution_count": 4,
   "id": "5d3f938f",
   "metadata": {
    "execution": {
     "iopub.execute_input": "2022-11-01T02:01:47.730333Z",
     "iopub.status.busy": "2022-11-01T02:01:47.728741Z",
     "iopub.status.idle": "2022-11-01T02:01:47.734055Z",
     "shell.execute_reply": "2022-11-01T02:01:47.733191Z"
    },
    "papermill": {
     "duration": 0.013166,
     "end_time": "2022-11-01T02:01:47.735966",
     "exception": false,
     "start_time": "2022-11-01T02:01:47.722800",
     "status": "completed"
    },
    "tags": []
   },
   "outputs": [],
   "source": [
    "# Lines below will give you a hint or solution code\n",
    "#q_1.hint()\n",
    "#q_1.solution()"
   ]
  },
  {
   "cell_type": "markdown",
   "id": "49e95137",
   "metadata": {
    "papermill": {
     "duration": 0.004628,
     "end_time": "2022-11-01T02:01:47.746621",
     "exception": false,
     "start_time": "2022-11-01T02:01:47.741993",
     "status": "completed"
    },
    "tags": []
   },
   "source": [
    "Now run this next cell to train the model see the effect of adding dropout."
   ]
  },
  {
   "cell_type": "code",
   "execution_count": 5,
   "id": "fb21329d",
   "metadata": {
    "execution": {
     "iopub.execute_input": "2022-11-01T02:01:47.758253Z",
     "iopub.status.busy": "2022-11-01T02:01:47.757423Z",
     "iopub.status.idle": "2022-11-01T02:01:58.803097Z",
     "shell.execute_reply": "2022-11-01T02:01:58.802095Z"
    },
    "papermill": {
     "duration": 11.053703,
     "end_time": "2022-11-01T02:01:58.805341",
     "exception": false,
     "start_time": "2022-11-01T02:01:47.751638",
     "status": "completed"
    },
    "tags": []
   },
   "outputs": [
    {
     "name": "stderr",
     "output_type": "stream",
     "text": [
      "2022-11-01 02:01:47.838489: I tensorflow/compiler/mlir/mlir_graph_optimization_pass.cc:185] None of the MLIR Optimization Passes are enabled (registered 2)\n"
     ]
    },
    {
     "name": "stdout",
     "output_type": "stream",
     "text": [
      "Minimum Validation Loss: 0.1955\n"
     ]
    },
    {
     "data": {
      "image/png": "[encoded data removed]",
      "text/plain": [
       "<Figure size 432x288 with 1 Axes>"
      ]
     },
     "metadata": {},
     "output_type": "display_data"
    }
   ],
   "source": [
    "model.compile(\n",
    "    optimizer='adam',\n",
    "    loss='mae',\n",
    ")\n",
    "history = model.fit(\n",
    "    X_train, y_train,\n",
    "    validation_data=(X_valid, y_valid),\n",
    "    batch_size=512,\n",
    "    epochs=50,\n",
    "    verbose=0,\n",
    ")\n",
    "history_df = pd.DataFrame(history.history)\n",
    "history_df.loc[:, ['loss', 'val_loss']].plot()\n",
    "print(\"Minimum Validation Loss: {:0.4f}\".format(history_df['val_loss'].min()))"
   ]
  },
  {
   "cell_type": "markdown",
   "id": "bc7be90b",
   "metadata": {
    "papermill": {
     "duration": 0.005271,
     "end_time": "2022-11-01T02:01:58.816453",
     "exception": false,
     "start_time": "2022-11-01T02:01:58.811182",
     "status": "completed"
    },
    "tags": []
   },
   "source": [
    "# 2) Evaluate Dropout\n",
    "\n",
    "Recall from Exercise 4 that this model tended to overfit the data around epoch 5. Did adding dropout seem to help prevent overfitting this time?"
   ]
  },
  {
   "cell_type": "code",
   "execution_count": 6,
   "id": "5a903402",
   "metadata": {
    "execution": {
     "iopub.execute_input": "2022-11-01T02:01:58.829549Z",
     "iopub.status.busy": "2022-11-01T02:01:58.827982Z",
     "iopub.status.idle": "2022-11-01T02:01:58.837285Z",
     "shell.execute_reply": "2022-11-01T02:01:58.836313Z"
    },
    "papermill": {
     "duration": 0.017526,
     "end_time": "2022-11-01T02:01:58.839254",
     "exception": false,
     "start_time": "2022-11-01T02:01:58.821728",
     "status": "completed"
    },
    "tags": []
   },
   "outputs": [
    {
     "data": {
      "application/javascript": [
       "parent.postMessage({\"jupyterEvent\": \"custom.exercise_interaction\", \"data\": {\"outcomeType\": 1, \"valueTowardsCompletion\": 0.25, \"interactionType\": 1, \"questionType\": 4, \"questionId\": \"2_Q2\", \"learnToolsVersion\": \"0.3.4\", \"failureMessage\": \"\", \"exceptionClass\": \"\", \"trace\": \"\"}}, \"*\")"
      ],
      "text/plain": [
       "<IPython.core.display.Javascript object>"
      ]
     },
     "metadata": {},
     "output_type": "display_data"
    },
    {
     "data": {
      "text/markdown": [
       "<span style=\"color:#33cc33\">Correct:</span> \n",
       "\n",
       "\n",
       "From the learning curves, you can see that the validation loss remains near a constant minimum even though the training loss continues to decrease. So we can see that adding dropout did prevent overfitting this time. Moreover, by making it harder for the network to fit spurious patterns, dropout may have encouraged the network to seek out more of the true patterns, possibly improving the validation loss some as well).\n"
      ],
      "text/plain": [
       "Correct: \n",
       "\n",
       "\n",
       "From the learning curves, you can see that the validation loss remains near a constant minimum even though the training loss continues to decrease. So we can see that adding dropout did prevent overfitting this time. Moreover, by making it harder for the network to fit spurious patterns, dropout may have encouraged the network to seek out more of the true patterns, possibly improving the validation loss some as well)."
      ]
     },
     "metadata": {},
     "output_type": "display_data"
    }
   ],
   "source": [
    "# View the solution (Run this cell to receive credit!)\n",
    "q_2.check()"
   ]
  },
  {
   "cell_type": "markdown",
   "id": "b176ceb9",
   "metadata": {
    "papermill": {
     "duration": 0.005307,
     "end_time": "2022-11-01T02:01:58.849956",
     "exception": false,
     "start_time": "2022-11-01T02:01:58.844649",
     "status": "completed"
    },
    "tags": []
   },
   "source": [
    "Now, we'll switch topics to explore how batch normalization can fix problems in training.\n",
    "\n",
    "Load the *Concrete* dataset. We won't do any standardization this time. This will make the effect of batch normalization much more apparent."
   ]
  },
  {
   "cell_type": "code",
   "execution_count": 7,
   "id": "2c5df45f",
   "metadata": {
    "execution": {
     "iopub.execute_input": "2022-11-01T02:01:58.862736Z",
     "iopub.status.busy": "2022-11-01T02:01:58.862454Z",
     "iopub.status.idle": "2022-11-01T02:01:58.882195Z",
     "shell.execute_reply": "2022-11-01T02:01:58.881294Z"
    },
    "papermill": {
     "duration": 0.028704,
     "end_time": "2022-11-01T02:01:58.884783",
     "exception": false,
     "start_time": "2022-11-01T02:01:58.856079",
     "status": "completed"
    },
    "tags": []
   },
   "outputs": [],
   "source": [
    "import pandas as pd\n",
    "\n",
    "concrete = pd.read_csv('../input/dl-course-data/concrete.csv')\n",
    "df = concrete.copy()\n",
    "\n",
    "df_train = df.sample(frac=0.7, random_state=0)\n",
    "df_valid = df.drop(df_train.index)\n",
    "\n",
    "X_train = df_train.drop('CompressiveStrength', axis=1)\n",
    "X_valid = df_valid.drop('CompressiveStrength', axis=1)\n",
    "y_train = df_train['CompressiveStrength']\n",
    "y_valid = df_valid['CompressiveStrength']\n",
    "\n",
    "input_shape = [X_train.shape[1]]"
   ]
  },
  {
   "cell_type": "markdown",
   "id": "80575a12",
   "metadata": {
    "papermill": {
     "duration": 0.005667,
     "end_time": "2022-11-01T02:01:58.896429",
     "exception": false,
     "start_time": "2022-11-01T02:01:58.890762",
     "status": "completed"
    },
    "tags": []
   },
   "source": [
    "Run the following cell to train the network on the unstandardized *Concrete* data."
   ]
  },
  {
   "cell_type": "code",
   "execution_count": 8,
   "id": "f4449633",
   "metadata": {
    "execution": {
     "iopub.execute_input": "2022-11-01T02:01:58.908713Z",
     "iopub.status.busy": "2022-11-01T02:01:58.908450Z",
     "iopub.status.idle": "2022-11-01T02:02:04.632001Z",
     "shell.execute_reply": "2022-11-01T02:02:04.631029Z"
    },
    "papermill": {
     "duration": 5.732765,
     "end_time": "2022-11-01T02:02:04.634603",
     "exception": false,
     "start_time": "2022-11-01T02:01:58.901838",
     "status": "completed"
    },
    "tags": []
   },
   "outputs": [
    {
     "name": "stdout",
     "output_type": "stream",
     "text": [
      "Minimum Validation Loss: nan\n"
     ]
    },
    {
     "data": {
      "image/png": "[encoded data removed]",
      "text/plain": [
       "<Figure size 432x288 with 1 Axes>"
      ]
     },
     "metadata": {},
     "output_type": "display_data"
    }
   ],
   "source": [
    "model = keras.Sequential([\n",
    "    layers.Dense(512, activation='relu', input_shape=input_shape),\n",
    "    layers.Dense(512, activation='relu'),    \n",
    "    layers.Dense(512, activation='relu'),\n",
    "    layers.Dense(1),\n",
    "])\n",
    "model.compile(\n",
    "    optimizer='sgd', # SGD is more sensitive to differences of scale\n",
    "    loss='mae',\n",
    "    metrics=['mae'],\n",
    ")\n",
    "history = model.fit(\n",
    "    X_train, y_train,\n",
    "    validation_data=(X_valid, y_valid),\n",
    "    batch_size=64,\n",
    "    epochs=100,\n",
    "    verbose=0,\n",
    ")\n",
    "\n",
    "history_df = pd.DataFrame(history.history)\n",
    "history_df.loc[0:, ['loss', 'val_loss']].plot()\n",
    "print((\"Minimum Validation Loss: {:0.4f}\").format(history_df['val_loss'].min()))"
   ]
  },
  {
   "cell_type": "markdown",
   "id": "2860a39f",
   "metadata": {
    "papermill": {
     "duration": 0.006311,
     "end_time": "2022-11-01T02:02:04.647278",
     "exception": false,
     "start_time": "2022-11-01T02:02:04.640967",
     "status": "completed"
    },
    "tags": []
   },
   "source": [
    "Did you end up with a blank graph? Trying to train this network on this dataset will usually fail. Even when it does converge (due to a lucky weight initialization), it tends to converge to a very large number.\n",
    "\n",
    "# 3) Add Batch Normalization Layers\n",
    "\n",
    "Batch normalization can help correct problems like this.\n",
    "\n",
    "Add four `BatchNormalization` layers, one before each of the dense layers. (Remember to move the `input_shape` argument to the new first layer.)"
   ]
  },
  {
   "cell_type": "code",
   "execution_count": 9,
   "id": "b79d695a",
   "metadata": {
    "execution": {
     "iopub.execute_input": "2022-11-01T02:02:04.659825Z",
     "iopub.status.busy": "2022-11-01T02:02:04.659529Z",
     "iopub.status.idle": "2022-11-01T02:02:04.678908Z",
     "shell.execute_reply": "2022-11-01T02:02:04.678001Z"
    },
    "lines_to_next_cell": 0,
    "papermill": {
     "duration": 0.027863,
     "end_time": "2022-11-01T02:02:04.680797",
     "exception": false,
     "start_time": "2022-11-01T02:02:04.652934",
     "status": "completed"
    },
    "tags": []
   },
   "outputs": [
    {
     "data": {
      "application/javascript": [
       "parent.postMessage({\"jupyterEvent\": \"custom.exercise_interaction\", \"data\": {\"outcomeType\": 1, \"valueTowardsCompletion\": 0.25, \"interactionType\": 1, \"questionType\": 2, \"questionId\": \"3_Q3\", \"learnToolsVersion\": \"0.3.4\", \"failureMessage\": \"\", \"exceptionClass\": \"\", \"trace\": \"\"}}, \"*\")"
      ],
      "text/plain": [
       "<IPython.core.display.Javascript object>"
      ]
     },
     "metadata": {},
     "output_type": "display_data"
    },
    {
     "data": {
      "text/markdown": [
       "<span style=\"color:#33cc33\">Correct</span>"
      ],
      "text/plain": [
       "Correct"
      ]
     },
     "metadata": {},
     "output_type": "display_data"
    }
   ],
   "source": [
    "# YOUR CODE HERE: Add a BatchNormalization layer before each Dense layer\n",
    "model = keras.Sequential([\n",
    "    layers.BatchNormalization(),\n",
    "    layers.Dense(512, activation='relu', input_shape=input_shape),\n",
    "    layers.BatchNormalization(),\n",
    "    layers.Dense(512, activation='relu'),\n",
    "    layers.BatchNormalization(),\n",
    "    layers.Dense(512, activation='relu'),\n",
    "    layers.BatchNormalization(),\n",
    "    layers.Dense(1),\n",
    "])\n",
    "\n",
    "# Check your answer\n",
    "q_3.check()"
   ]
  },
  {
   "cell_type": "code",
   "execution_count": 10,
   "id": "adc7a284",
   "metadata": {
    "execution": {
     "iopub.execute_input": "2022-11-01T02:02:04.694101Z",
     "iopub.status.busy": "2022-11-01T02:02:04.693231Z",
     "iopub.status.idle": "2022-11-01T02:02:04.697483Z",
     "shell.execute_reply": "2022-11-01T02:02:04.696606Z"
    },
    "papermill": {
     "duration": 0.012891,
     "end_time": "2022-11-01T02:02:04.699480",
     "exception": false,
     "start_time": "2022-11-01T02:02:04.686589",
     "status": "completed"
    },
    "tags": []
   },
   "outputs": [],
   "source": [
    "# Lines below will give you a hint or solution code\n",
    "#q_3.hint()\n",
    "#q_3.solution()"
   ]
  },
  {
   "cell_type": "markdown",
   "id": "d93a8012",
   "metadata": {
    "papermill": {
     "duration": 0.005694,
     "end_time": "2022-11-01T02:02:04.710930",
     "exception": false,
     "start_time": "2022-11-01T02:02:04.705236",
     "status": "completed"
    },
    "tags": []
   },
   "source": [
    "Run the next cell to see if batch normalization will let us train the model."
   ]
  },
  {
   "cell_type": "code",
   "execution_count": 11,
   "id": "4f227acb",
   "metadata": {
    "execution": {
     "iopub.execute_input": "2022-11-01T02:02:04.723514Z",
     "iopub.status.busy": "2022-11-01T02:02:04.723238Z",
     "iopub.status.idle": "2022-11-01T02:02:12.675508Z",
     "shell.execute_reply": "2022-11-01T02:02:12.674619Z"
    },
    "papermill": {
     "duration": 7.960964,
     "end_time": "2022-11-01T02:02:12.677644",
     "exception": false,
     "start_time": "2022-11-01T02:02:04.716680",
     "status": "completed"
    },
    "tags": []
   },
   "outputs": [
    {
     "name": "stdout",
     "output_type": "stream",
     "text": [
      "Minimum Validation Loss: 4.2434\n"
     ]
    },
    {
     "data": {
      "image/png": "[encoded data removed]",
      "text/plain": [
       "<Figure size 432x288 with 1 Axes>"
      ]
     },
     "metadata": {},
     "output_type": "display_data"
    }
   ],
   "source": [
    "model.compile(\n",
    "    optimizer='sgd',\n",
    "    loss='mae',\n",
    "    metrics=['mae'],\n",
    ")\n",
    "EPOCHS = 100\n",
    "history = model.fit(\n",
    "    X_train, y_train,\n",
    "    validation_data=(X_valid, y_valid),\n",
    "    batch_size=64,\n",
    "    epochs=EPOCHS,\n",
    "    verbose=0,\n",
    ")\n",
    "\n",
    "history_df = pd.DataFrame(history.history)\n",
    "history_df.loc[0:, ['loss', 'val_loss']].plot()\n",
    "print((\"Minimum Validation Loss: {:0.4f}\").format(history_df['val_loss'].min()))"
   ]
  },
  {
   "cell_type": "markdown",
   "id": "c1dc4d1f",
   "metadata": {
    "papermill": {
     "duration": 0.006176,
     "end_time": "2022-11-01T02:02:12.690306",
     "exception": false,
     "start_time": "2022-11-01T02:02:12.684130",
     "status": "completed"
    },
    "tags": []
   },
   "source": [
    "# 4) Evaluate Batch Normalization\n",
    "\n",
    "Did adding batch normalization help?"
   ]
  },
  {
   "cell_type": "code",
   "execution_count": 12,
   "id": "e8303851",
   "metadata": {
    "execution": {
     "iopub.execute_input": "2022-11-01T02:02:12.704092Z",
     "iopub.status.busy": "2022-11-01T02:02:12.703799Z",
     "iopub.status.idle": "2022-11-01T02:02:12.712262Z",
     "shell.execute_reply": "2022-11-01T02:02:12.711312Z"
    },
    "lines_to_next_cell": 0,
    "papermill": {
     "duration": 0.017489,
     "end_time": "2022-11-01T02:02:12.714234",
     "exception": false,
     "start_time": "2022-11-01T02:02:12.696745",
     "status": "completed"
    },
    "tags": []
   },
   "outputs": [
    {
     "data": {
      "application/javascript": [
       "parent.postMessage({\"jupyterEvent\": \"custom.exercise_interaction\", \"data\": {\"outcomeType\": 1, \"valueTowardsCompletion\": 0.25, \"interactionType\": 1, \"questionType\": 4, \"questionId\": \"4_Q4\", \"learnToolsVersion\": \"0.3.4\", \"failureMessage\": \"\", \"exceptionClass\": \"\", \"trace\": \"\"}}, \"*\")"
      ],
      "text/plain": [
       "<IPython.core.display.Javascript object>"
      ]
     },
     "metadata": {},
     "output_type": "display_data"
    },
    {
     "data": {
      "text/markdown": [
       "<span style=\"color:#33cc33\">Correct:</span> \n",
       "\n",
       "\n",
       "You can see that adding batch normalization was a big improvement on the first attempt! By adaptively scaling the data as it passes through the network, batch normalization can let you train models on difficult datasets.\n"
      ],
      "text/plain": [
       "Correct: \n",
       "\n",
       "\n",
       "You can see that adding batch normalization was a big improvement on the first attempt! By adaptively scaling the data as it passes through the network, batch normalization can let you train models on difficult datasets."
      ]
     },
     "metadata": {},
     "output_type": "display_data"
    }
   ],
   "source": [
    "# View the solution (Run this cell to receive credit!)\n",
    "q_4.check()"
   ]
  },
  {
   "cell_type": "markdown",
   "id": "04b5691c",
   "metadata": {
    "papermill": {
     "duration": 0.006208,
     "end_time": "2022-11-01T02:02:12.726739",
     "exception": false,
     "start_time": "2022-11-01T02:02:12.720531",
     "status": "completed"
    },
    "tags": []
   },
   "source": [
    "# Keep Going #\n",
    "\n",
    "[**Create neural networks**](https://www.kaggle.com/ryanholbrook/binary-classification) for binary classification."
   ]
  },
  {
   "cell_type": "markdown",
   "id": "72777030",
   "metadata": {
    "papermill": {
     "duration": 0.006127,
     "end_time": "2022-11-01T02:02:12.739217",
     "exception": false,
     "start_time": "2022-11-01T02:02:12.733090",
     "status": "completed"
    },
    "tags": []
   },
   "source": [
    "---\n",
    "\n",
    "\n",
    "\n",
    "\n",
    "*Have questions or comments? Visit the [course discussion forum](https://www.kaggle.com/learn/intro-to-deep-learning/discussion) to chat with other learners.*"
   ]
  }
 ],
 "metadata": {
  "kernelspec": {
   "display_name": "Python 3",
   "language": "python",
   "name": "python3"
  },
  "language_info": {
   "codemirror_mode": {
    "name": "ipython",
    "version": 3
   },
   "file_extension": ".py",
   "mimetype": "text/x-python",
   "name": "python",
   "nbconvert_exporter": "python",
   "pygments_lexer": "ipython3",
   "version": "3.7.12"
  },
  "papermill": {
   "default_parameters": {},
   "duration": 45.250451,
   "end_time": "2022-11-01T02:02:16.652782",
   "environment_variables": {},
   "exception": null,
   "input_path": "__notebook__.ipynb",
   "output_path": "__notebook__.ipynb",
   "parameters": {},
   "start_time": "2022-11-01T02:01:31.402331",
   "version": "2.3.4"
  }
 },
 "nbformat": 4,
 "nbformat_minor": 5
}
