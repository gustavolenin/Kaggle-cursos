{
 "cells": [
  {
   "cell_type": "markdown",
   "id": "6c9d7483",
   "metadata": {
    "papermill": {
     "duration": 0.005705,
     "end_time": "2022-11-01T02:45:52.976819",
     "exception": false,
     "start_time": "2022-11-01T02:45:52.971114",
     "status": "completed"
    },
    "tags": []
   },
   "source": [
    "**This notebook is an exercise in the [Intro to Deep Learning](https://www.kaggle.com/learn/intro-to-deep-learning) course.  You can reference the tutorial at [this link](https://www.kaggle.com/ryanholbrook/dropout-and-batch-normalization).**\n",
    "\n",
    "---\n"
   ]
  },
  {
   "cell_type": "markdown",
   "id": "14c4c60a",
   "metadata": {
    "papermill": {
     "duration": 0.004299,
     "end_time": "2022-11-01T02:45:52.985926",
     "exception": false,
     "start_time": "2022-11-01T02:45:52.981627",
     "status": "completed"
    },
    "tags": []
   },
   "source": [
    "# Introduction #\n",
    "\n",
    "In this exercise, you'll add dropout to the *Spotify* model from Exercise 4 and see how batch normalization can let you successfully train models on difficult datasets.\n",
    "\n",
    "Run the next cell to get started!"
   ]
  },
  {
   "cell_type": "code",
   "execution_count": 1,
   "id": "171f6954",
   "metadata": {
    "execution": {
     "iopub.execute_input": "2022-11-01T02:45:52.996914Z",
     "iopub.status.busy": "2022-11-01T02:45:52.996370Z",
     "iopub.status.idle": "2022-11-01T02:45:53.031571Z",
     "shell.execute_reply": "2022-11-01T02:45:53.030666Z"
    },
    "papermill": {
     "duration": 0.043172,
     "end_time": "2022-11-01T02:45:53.033587",
     "exception": false,
     "start_time": "2022-11-01T02:45:52.990415",
     "status": "completed"
    },
    "tags": []
   },
   "outputs": [],
   "source": [
    "# Setup plotting\n",
    "import matplotlib.pyplot as plt\n",
    "plt.style.use('seaborn-whitegrid')\n",
    "# Set Matplotlib defaults\n",
    "plt.rc('figure', autolayout=True)\n",
    "plt.rc('axes', labelweight='bold', labelsize='large',\n",
    "       titleweight='bold', titlesize=18, titlepad=10)\n",
    "plt.rc('animation', html='html5')\n",
    "\n",
    "# Setup feedback system\n",
    "from learntools.core import binder\n",
    "binder.bind(globals())\n",
    "from learntools.deep_learning_intro.ex5 import *"
   ]
  },
  {
   "cell_type": "markdown",
   "id": "cc194523",
   "metadata": {
    "papermill": {
     "duration": 0.004366,
     "end_time": "2022-11-01T02:45:53.042593",
     "exception": false,
     "start_time": "2022-11-01T02:45:53.038227",
     "status": "completed"
    },
    "tags": []
   },
   "source": [
    "First load the *Spotify* dataset."
   ]
  },
  {
   "cell_type": "code",
   "execution_count": 2,
   "id": "3964ab2e",
   "metadata": {
    "execution": {
     "iopub.execute_input": "2022-11-01T02:45:53.053522Z",
     "iopub.status.busy": "2022-11-01T02:45:53.052601Z",
     "iopub.status.idle": "2022-11-01T02:45:59.182218Z",
     "shell.execute_reply": "2022-11-01T02:45:59.180987Z"
    },
    "papermill": {
     "duration": 6.138448,
     "end_time": "2022-11-01T02:45:59.185458",
     "exception": false,
     "start_time": "2022-11-01T02:45:53.047010",
     "status": "completed"
    },
    "tags": []
   },
   "outputs": [
    {
     "name": "stdout",
     "output_type": "stream",
     "text": [
      "Input shape: [18]\n"
     ]
    }
   ],
   "source": [
    "import pandas as pd\n",
    "from sklearn.preprocessing import StandardScaler, OneHotEncoder\n",
    "from sklearn.compose import make_column_transformer\n",
    "from sklearn.model_selection import GroupShuffleSplit\n",
    "\n",
    "from tensorflow import keras\n",
    "from tensorflow.keras import layers\n",
    "from tensorflow.keras import callbacks\n",
    "\n",
    "spotify = pd.read_csv('../input/dl-course-data/spotify.csv')\n",
    "\n",
    "X = spotify.copy().dropna()\n",
    "y = X.pop('track_popularity')\n",
    "artists = X['track_artist']\n",
    "\n",
    "features_num = ['danceability', 'energy', 'key', 'loudness', 'mode',\n",
    "                'speechiness', 'acousticness', 'instrumentalness',\n",
    "                'liveness', 'valence', 'tempo', 'duration_ms']\n",
    "features_cat = ['playlist_genre']\n",
    "\n",
    "preprocessor = make_column_transformer(\n",
    "    (StandardScaler(), features_num),\n",
    "    (OneHotEncoder(), features_cat),\n",
    ")\n",
    "\n",
    "def group_split(X, y, group, train_size=0.75):\n",
    "    splitter = GroupShuffleSplit(train_size=train_size)\n",
    "    train, test = next(splitter.split(X, y, groups=group))\n",
    "    return (X.iloc[train], X.iloc[test], y.iloc[train], y.iloc[test])\n",
    "\n",
    "X_train, X_valid, y_train, y_valid = group_split(X, y, artists)\n",
    "\n",
    "X_train = preprocessor.fit_transform(X_train)\n",
    "X_valid = preprocessor.transform(X_valid)\n",
    "y_train = y_train / 100\n",
    "y_valid = y_valid / 100\n",
    "\n",
    "input_shape = [X_train.shape[1]]\n",
    "print(\"Input shape: {}\".format(input_shape))"
   ]
  },
  {
   "cell_type": "markdown",
   "id": "4d2ed8b4",
   "metadata": {
    "papermill": {
     "duration": 0.004655,
     "end_time": "2022-11-01T02:45:59.195270",
     "exception": false,
     "start_time": "2022-11-01T02:45:59.190615",
     "status": "completed"
    },
    "tags": []
   },
   "source": [
    "# 1) Add Dropout to Spotify Model\n",
    "\n",
    "Here is the last model from Exercise 4. Add two dropout layers, one after the `Dense` layer with 128 units, and one after the `Dense` layer with 64 units. Set the dropout rate on both to `0.3`."
   ]
  },
  {
   "cell_type": "code",
   "execution_count": 3,
   "id": "58667a10",
   "metadata": {
    "execution": {
     "iopub.execute_input": "2022-11-01T02:45:59.206690Z",
     "iopub.status.busy": "2022-11-01T02:45:59.206370Z",
     "iopub.status.idle": "2022-11-01T02:46:01.950276Z",
     "shell.execute_reply": "2022-11-01T02:46:01.949413Z"
    },
    "lines_to_next_cell": 2,
    "papermill": {
     "duration": 2.752664,
     "end_time": "2022-11-01T02:46:01.952845",
     "exception": false,
     "start_time": "2022-11-01T02:45:59.200181",
     "status": "completed"
    },
    "tags": []
   },
   "outputs": [
    {
     "name": "stderr",
     "output_type": "stream",
     "text": [
      "2022-11-01 02:45:59.309325: I tensorflow/stream_executor/cuda/cuda_gpu_executor.cc:937] successful NUMA node read from SysFS had negative value (-1), but there must be at least one NUMA node, so returning NUMA node zero\n",
      "2022-11-01 02:45:59.393574: I tensorflow/stream_executor/cuda/cuda_gpu_executor.cc:937] successful NUMA node read from SysFS had negative value (-1), but there must be at least one NUMA node, so returning NUMA node zero\n",
      "2022-11-01 02:45:59.394404: I tensorflow/stream_executor/cuda/cuda_gpu_executor.cc:937] successful NUMA node read from SysFS had negative value (-1), but there must be at least one NUMA node, so returning NUMA node zero\n",
      "2022-11-01 02:45:59.395757: I tensorflow/core/platform/cpu_feature_guard.cc:142] This TensorFlow binary is optimized with oneAPI Deep Neural Network Library (oneDNN) to use the following CPU instructions in performance-critical operations:  AVX2 AVX512F FMA\n",
      "To enable them in other operations, rebuild TensorFlow with the appropriate compiler flags.\n",
      "2022-11-01 02:45:59.396197: I tensorflow/stream_executor/cuda/cuda_gpu_executor.cc:937] successful NUMA node read from SysFS had negative value (-1), but there must be at least one NUMA node, so returning NUMA node zero\n",
      "2022-11-01 02:45:59.396958: I tensorflow/stream_executor/cuda/cuda_gpu_executor.cc:937] successful NUMA node read from SysFS had negative value (-1), but there must be at least one NUMA node, so returning NUMA node zero\n",
      "2022-11-01 02:45:59.397662: I tensorflow/stream_executor/cuda/cuda_gpu_executor.cc:937] successful NUMA node read from SysFS had negative value (-1), but there must be at least one NUMA node, so returning NUMA node zero\n",
      "2022-11-01 02:46:01.370257: I tensorflow/stream_executor/cuda/cuda_gpu_executor.cc:937] successful NUMA node read from SysFS had negative value (-1), but there must be at least one NUMA node, so returning NUMA node zero\n",
      "2022-11-01 02:46:01.371204: I tensorflow/stream_executor/cuda/cuda_gpu_executor.cc:937] successful NUMA node read from SysFS had negative value (-1), but there must be at least one NUMA node, so returning NUMA node zero\n",
      "2022-11-01 02:46:01.372045: I tensorflow/stream_executor/cuda/cuda_gpu_executor.cc:937] successful NUMA node read from SysFS had negative value (-1), but there must be at least one NUMA node, so returning NUMA node zero\n",
      "2022-11-01 02:46:01.372782: I tensorflow/core/common_runtime/gpu/gpu_device.cc:1510] Created device /job:localhost/replica:0/task:0/device:GPU:0 with 15401 MB memory:  -> device: 0, name: Tesla P100-PCIE-16GB, pci bus id: 0000:00:04.0, compute capability: 6.0\n"
     ]
    },
    {
     "data": {
      "application/javascript": [
       "parent.postMessage({\"jupyterEvent\": \"custom.exercise_interaction\", \"data\": {\"outcomeType\": 2, \"failureMessage\": \"Your model doesn't have the correct kinds of layers. You should have five layers with classes: ['Dense', 'Dropout', 'Dense', 'Dropout', 'Dense'].\", \"interactionType\": 1, \"questionType\": 2, \"questionId\": \"1_Q1\", \"learnToolsVersion\": \"0.3.4\", \"valueTowardsCompletion\": 0.0, \"exceptionClass\": \"\", \"trace\": \"\"}}, \"*\")"
      ],
      "text/plain": [
       "<IPython.core.display.Javascript object>"
      ]
     },
     "metadata": {},
     "output_type": "display_data"
    },
    {
     "data": {
      "text/markdown": [
       "<span style=\"color:#cc3333\">Incorrect:</span> Your model doesn't have the correct kinds of layers. You should have five layers with classes: ['Dense', 'Dropout', 'Dense', 'Dropout', 'Dense']."
      ],
      "text/plain": [
       "Incorrect: Your model doesn't have the correct kinds of layers. You should have five layers with classes: ['Dense', 'Dropout', 'Dense', 'Dropout', 'Dense']."
      ]
     },
     "metadata": {},
     "output_type": "display_data"
    }
   ],
   "source": [
    "# YOUR CODE HERE: Add two 30% dropout layers, one after 128 and one after 64\n",
    "model = keras.Sequential([\n",
    "    layers.Dense(128, activation='relu', input_shape=input_shape),\n",
    "    layers.Dense(64, activation='relu'),\n",
    "    layers.Dense(1)\n",
    "])\n",
    "\n",
    "# Check your answer\n",
    "q_1.check()"
   ]
  },
  {
   "cell_type": "code",
   "execution_count": 4,
   "id": "89b4c148",
   "metadata": {
    "execution": {
     "iopub.execute_input": "2022-11-01T02:46:01.970007Z",
     "iopub.status.busy": "2022-11-01T02:46:01.969627Z",
     "iopub.status.idle": "2022-11-01T02:46:01.973649Z",
     "shell.execute_reply": "2022-11-01T02:46:01.972766Z"
    },
    "papermill": {
     "duration": 0.016774,
     "end_time": "2022-11-01T02:46:01.977635",
     "exception": false,
     "start_time": "2022-11-01T02:46:01.960861",
     "status": "completed"
    },
    "tags": []
   },
   "outputs": [],
   "source": [
    "# Lines below will give you a hint or solution code\n",
    "#q_1.hint()\n",
    "#q_1.solution()"
   ]
  },
  {
   "cell_type": "markdown",
   "id": "a560a488",
   "metadata": {
    "papermill": {
     "duration": 0.006954,
     "end_time": "2022-11-01T02:46:01.993399",
     "exception": false,
     "start_time": "2022-11-01T02:46:01.986445",
     "status": "completed"
    },
    "tags": []
   },
   "source": [
    "Now run this next cell to train the model see the effect of adding dropout."
   ]
  },
  {
   "cell_type": "code",
   "execution_count": 5,
   "id": "cd166684",
   "metadata": {
    "execution": {
     "iopub.execute_input": "2022-11-01T02:46:02.009084Z",
     "iopub.status.busy": "2022-11-01T02:46:02.008737Z",
     "iopub.status.idle": "2022-11-01T02:46:13.124180Z",
     "shell.execute_reply": "2022-11-01T02:46:13.123199Z"
    },
    "papermill": {
     "duration": 11.125657,
     "end_time": "2022-11-01T02:46:13.126311",
     "exception": false,
     "start_time": "2022-11-01T02:46:02.000654",
     "status": "completed"
    },
    "tags": []
   },
   "outputs": [
    {
     "name": "stderr",
     "output_type": "stream",
     "text": [
      "2022-11-01 02:46:02.116217: I tensorflow/compiler/mlir/mlir_graph_optimization_pass.cc:185] None of the MLIR Optimization Passes are enabled (registered 2)\n"
     ]
    },
    {
     "name": "stdout",
     "output_type": "stream",
     "text": [
      "Minimum Validation Loss: 0.1934\n"
     ]
    },
    {
     "data": {
      "image/png": "[encoded data removed]",
      "text/plain": [
       "<Figure size 432x288 with 1 Axes>"
      ]
     },
     "metadata": {},
     "output_type": "display_data"
    }
   ],
   "source": [
    "model.compile(\n",
    "    optimizer='adam',\n",
    "    loss='mae',\n",
    ")\n",
    "history = model.fit(\n",
    "    X_train, y_train,\n",
    "    validation_data=(X_valid, y_valid),\n",
    "    batch_size=512,\n",
    "    epochs=50,\n",
    "    verbose=0,\n",
    ")\n",
    "history_df = pd.DataFrame(history.history)\n",
    "history_df.loc[:, ['loss', 'val_loss']].plot()\n",
    "print(\"Minimum Validation Loss: {:0.4f}\".format(history_df['val_loss'].min()))"
   ]
  },
  {
   "cell_type": "markdown",
   "id": "93f8a7db",
   "metadata": {
    "papermill": {
     "duration": 0.005645,
     "end_time": "2022-11-01T02:46:13.137447",
     "exception": false,
     "start_time": "2022-11-01T02:46:13.131802",
     "status": "completed"
    },
    "tags": []
   },
   "source": [
    "# 2) Evaluate Dropout\n",
    "\n",
    "Recall from Exercise 4 that this model tended to overfit the data around epoch 5. Did adding dropout seem to help prevent overfitting this time?"
   ]
  },
  {
   "cell_type": "code",
   "execution_count": 6,
   "id": "6e0ff967",
   "metadata": {
    "execution": {
     "iopub.execute_input": "2022-11-01T02:46:13.149630Z",
     "iopub.status.busy": "2022-11-01T02:46:13.149270Z",
     "iopub.status.idle": "2022-11-01T02:46:13.159963Z",
     "shell.execute_reply": "2022-11-01T02:46:13.159093Z"
    },
    "papermill": {
     "duration": 0.019122,
     "end_time": "2022-11-01T02:46:13.161965",
     "exception": false,
     "start_time": "2022-11-01T02:46:13.142843",
     "status": "completed"
    },
    "tags": []
   },
   "outputs": [
    {
     "data": {
      "application/javascript": [
       "parent.postMessage({\"jupyterEvent\": \"custom.exercise_interaction\", \"data\": {\"outcomeType\": 1, \"valueTowardsCompletion\": 0.25, \"interactionType\": 1, \"questionType\": 4, \"questionId\": \"2_Q2\", \"learnToolsVersion\": \"0.3.4\", \"failureMessage\": \"\", \"exceptionClass\": \"\", \"trace\": \"\"}}, \"*\")"
      ],
      "text/plain": [
       "<IPython.core.display.Javascript object>"
      ]
     },
     "metadata": {},
     "output_type": "display_data"
    },
    {
     "data": {
      "text/markdown": [
       "<span style=\"color:#33cc33\">Correct:</span> \n",
       "\n",
       "\n",
       "From the learning curves, you can see that the validation loss remains near a constant minimum even though the training loss continues to decrease. So we can see that adding dropout did prevent overfitting this time. Moreover, by making it harder for the network to fit spurious patterns, dropout may have encouraged the network to seek out more of the true patterns, possibly improving the validation loss some as well).\n"
      ],
      "text/plain": [
       "Correct: \n",
       "\n",
       "\n",
       "From the learning curves, you can see that the validation loss remains near a constant minimum even though the training loss continues to decrease. So we can see that adding dropout did prevent overfitting this time. Moreover, by making it harder for the network to fit spurious patterns, dropout may have encouraged the network to seek out more of the true patterns, possibly improving the validation loss some as well)."
      ]
     },
     "metadata": {},
     "output_type": "display_data"
    }
   ],
   "source": [
    "# View the solution (Run this cell to receive credit!)\n",
    "q_2.check()"
   ]
  },
  {
   "cell_type": "markdown",
   "id": "f8ecd0a2",
   "metadata": {
    "papermill": {
     "duration": 0.005284,
     "end_time": "2022-11-01T02:46:13.173199",
     "exception": false,
     "start_time": "2022-11-01T02:46:13.167915",
     "status": "completed"
    },
    "tags": []
   },
   "source": [
    "Now, we'll switch topics to explore how batch normalization can fix problems in training.\n",
    "\n",
    "Load the *Concrete* dataset. We won't do any standardization this time. This will make the effect of batch normalization much more apparent."
   ]
  },
  {
   "cell_type": "code",
   "execution_count": 7,
   "id": "d06322b4",
   "metadata": {
    "execution": {
     "iopub.execute_input": "2022-11-01T02:46:13.187126Z",
     "iopub.status.busy": "2022-11-01T02:46:13.185341Z",
     "iopub.status.idle": "2022-11-01T02:46:13.205223Z",
     "shell.execute_reply": "2022-11-01T02:46:13.204232Z"
    },
    "papermill": {
     "duration": 0.028686,
     "end_time": "2022-11-01T02:46:13.207552",
     "exception": false,
     "start_time": "2022-11-01T02:46:13.178866",
     "status": "completed"
    },
    "tags": []
   },
   "outputs": [],
   "source": [
    "import pandas as pd\n",
    "\n",
    "concrete = pd.read_csv('../input/dl-course-data/concrete.csv')\n",
    "df = concrete.copy()\n",
    "\n",
    "df_train = df.sample(frac=0.7, random_state=0)\n",
    "df_valid = df.drop(df_train.index)\n",
    "\n",
    "X_train = df_train.drop('CompressiveStrength', axis=1)\n",
    "X_valid = df_valid.drop('CompressiveStrength', axis=1)\n",
    "y_train = df_train['CompressiveStrength']\n",
    "y_valid = df_valid['CompressiveStrength']\n",
    "\n",
    "input_shape = [X_train.shape[1]]"
   ]
  },
  {
   "cell_type": "markdown",
   "id": "7caa35a3",
   "metadata": {
    "papermill": {
     "duration": 0.005262,
     "end_time": "2022-11-01T02:46:13.218698",
     "exception": false,
     "start_time": "2022-11-01T02:46:13.213436",
     "status": "completed"
    },
    "tags": []
   },
   "source": [
    "Run the following cell to train the network on the unstandardized *Concrete* data."
   ]
  },
  {
   "cell_type": "code",
   "execution_count": 8,
   "id": "ce5c61ad",
   "metadata": {
    "execution": {
     "iopub.execute_input": "2022-11-01T02:46:13.232448Z",
     "iopub.status.busy": "2022-11-01T02:46:13.230798Z",
     "iopub.status.idle": "2022-11-01T02:46:18.489078Z",
     "shell.execute_reply": "2022-11-01T02:46:18.488406Z"
    },
    "papermill": {
     "duration": 5.267287,
     "end_time": "2022-11-01T02:46:18.491457",
     "exception": false,
     "start_time": "2022-11-01T02:46:13.224170",
     "status": "completed"
    },
    "tags": []
   },
   "outputs": [
    {
     "name": "stdout",
     "output_type": "stream",
     "text": [
      "Minimum Validation Loss: nan\n"
     ]
    },
    {
     "data": {
      "image/png": "[encoded data removed]",
      "text/plain": [
       "<Figure size 432x288 with 1 Axes>"
      ]
     },
     "metadata": {},
     "output_type": "display_data"
    }
   ],
   "source": [
    "model = keras.Sequential([\n",
    "    layers.Dense(512, activation='relu', input_shape=input_shape),\n",
    "    layers.Dense(512, activation='relu'),    \n",
    "    layers.Dense(512, activation='relu'),\n",
    "    layers.Dense(1),\n",
    "])\n",
    "model.compile(\n",
    "    optimizer='sgd', # SGD is more sensitive to differences of scale\n",
    "    loss='mae',\n",
    "    metrics=['mae'],\n",
    ")\n",
    "history = model.fit(\n",
    "    X_train, y_train,\n",
    "    validation_data=(X_valid, y_valid),\n",
    "    batch_size=64,\n",
    "    epochs=100,\n",
    "    verbose=0,\n",
    ")\n",
    "\n",
    "history_df = pd.DataFrame(history.history)\n",
    "history_df.loc[0:, ['loss', 'val_loss']].plot()\n",
    "print((\"Minimum Validation Loss: {:0.4f}\").format(history_df['val_loss'].min()))"
   ]
  },
  {
   "cell_type": "markdown",
   "id": "f0677068",
   "metadata": {
    "papermill": {
     "duration": 0.006281,
     "end_time": "2022-11-01T02:46:18.503830",
     "exception": false,
     "start_time": "2022-11-01T02:46:18.497549",
     "status": "completed"
    },
    "tags": []
   },
   "source": [
    "Did you end up with a blank graph? Trying to train this network on this dataset will usually fail. Even when it does converge (due to a lucky weight initialization), it tends to converge to a very large number.\n",
    "\n",
    "# 3) Add Batch Normalization Layers\n",
    "\n",
    "Batch normalization can help correct problems like this.\n",
    "\n",
    "Add four `BatchNormalization` layers, one before each of the dense layers. (Remember to move the `input_shape` argument to the new first layer.)"
   ]
  },
  {
   "cell_type": "code",
   "execution_count": 9,
   "id": "3a51ad74",
   "metadata": {
    "execution": {
     "iopub.execute_input": "2022-11-01T02:46:18.516426Z",
     "iopub.status.busy": "2022-11-01T02:46:18.516105Z",
     "iopub.status.idle": "2022-11-01T02:46:18.535917Z",
     "shell.execute_reply": "2022-11-01T02:46:18.534850Z"
    },
    "lines_to_next_cell": 0,
    "papermill": {
     "duration": 0.029187,
     "end_time": "2022-11-01T02:46:18.538658",
     "exception": false,
     "start_time": "2022-11-01T02:46:18.509471",
     "status": "completed"
    },
    "tags": []
   },
   "outputs": [
    {
     "data": {
      "application/javascript": [
       "parent.postMessage({\"jupyterEvent\": \"custom.exercise_interaction\", \"data\": {\"outcomeType\": 1, \"valueTowardsCompletion\": 0.25, \"interactionType\": 1, \"questionType\": 2, \"questionId\": \"3_Q3\", \"learnToolsVersion\": \"0.3.4\", \"failureMessage\": \"\", \"exceptionClass\": \"\", \"trace\": \"\"}}, \"*\")"
      ],
      "text/plain": [
       "<IPython.core.display.Javascript object>"
      ]
     },
     "metadata": {},
     "output_type": "display_data"
    },
    {
     "data": {
      "text/markdown": [
       "<span style=\"color:#33cc33\">Correct</span>"
      ],
      "text/plain": [
       "Correct"
      ]
     },
     "metadata": {},
     "output_type": "display_data"
    }
   ],
   "source": [
    "# YOUR CODE HERE: Add a BatchNormalization layer before each Dense layer\n",
    "model = keras.Sequential([\n",
    "    layers.BatchNormalization(),\n",
    "    layers.Dense(512, activation='relu', input_shape=input_shape),\n",
    "    layers.BatchNormalization(),\n",
    "    layers.Dense(512, activation='relu'),\n",
    "    layers.BatchNormalization(),\n",
    "    layers.Dense(512, activation='relu'),\n",
    "    layers.BatchNormalization(),\n",
    "    layers.Dense(1),\n",
    "])\n",
    "\n",
    "# Check your answer\n",
    "q_3.check()"
   ]
  },
  {
   "cell_type": "code",
   "execution_count": 10,
   "id": "933aace9",
   "metadata": {
    "execution": {
     "iopub.execute_input": "2022-11-01T02:46:18.552704Z",
     "iopub.status.busy": "2022-11-01T02:46:18.551827Z",
     "iopub.status.idle": "2022-11-01T02:46:18.556118Z",
     "shell.execute_reply": "2022-11-01T02:46:18.555187Z"
    },
    "papermill": {
     "duration": 0.013504,
     "end_time": "2022-11-01T02:46:18.558197",
     "exception": false,
     "start_time": "2022-11-01T02:46:18.544693",
     "status": "completed"
    },
    "tags": []
   },
   "outputs": [],
   "source": [
    "# Lines below will give you a hint or solution code\n",
    "#q_3.hint()\n",
    "#q_3.solution()"
   ]
  },
  {
   "cell_type": "markdown",
   "id": "39a6af76",
   "metadata": {
    "papermill": {
     "duration": 0.005648,
     "end_time": "2022-11-01T02:46:18.569607",
     "exception": false,
     "start_time": "2022-11-01T02:46:18.563959",
     "status": "completed"
    },
    "tags": []
   },
   "source": [
    "Run the next cell to see if batch normalization will let us train the model."
   ]
  },
  {
   "cell_type": "code",
   "execution_count": 11,
   "id": "f67f1605",
   "metadata": {
    "execution": {
     "iopub.execute_input": "2022-11-01T02:46:18.582517Z",
     "iopub.status.busy": "2022-11-01T02:46:18.582209Z",
     "iopub.status.idle": "2022-11-01T02:46:30.165267Z",
     "shell.execute_reply": "2022-11-01T02:46:30.164210Z"
    },
    "papermill": {
     "duration": 11.592075,
     "end_time": "2022-11-01T02:46:30.167511",
     "exception": false,
     "start_time": "2022-11-01T02:46:18.575436",
     "status": "completed"
    },
    "tags": []
   },
   "outputs": [
    {
     "name": "stdout",
     "output_type": "stream",
     "text": [
      "Minimum Validation Loss: 3.7633\n"
     ]
    },
    {
     "data": {
      "image/png": "[encoded data removed]",
      "text/plain": [
       "<Figure size 432x288 with 1 Axes>"
      ]
     },
     "metadata": {},
     "output_type": "display_data"
    }
   ],
   "source": [
    "model.compile(\n",
    "    optimizer='sgd',\n",
    "    loss='mae',\n",
    "    metrics=['mae'],\n",
    ")\n",
    "EPOCHS = 100\n",
    "history = model.fit(\n",
    "    X_train, y_train,\n",
    "    validation_data=(X_valid, y_valid),\n",
    "    batch_size=64,\n",
    "    epochs=EPOCHS,\n",
    "    verbose=0,\n",
    ")\n",
    "\n",
    "history_df = pd.DataFrame(history.history)\n",
    "history_df.loc[0:, ['loss', 'val_loss']].plot()\n",
    "print((\"Minimum Validation Loss: {:0.4f}\").format(history_df['val_loss'].min()))"
   ]
  },
  {
   "cell_type": "markdown",
   "id": "1c11b94e",
   "metadata": {
    "papermill": {
     "duration": 0.011048,
     "end_time": "2022-11-01T02:46:30.185346",
     "exception": false,
     "start_time": "2022-11-01T02:46:30.174298",
     "status": "completed"
    },
    "tags": []
   },
   "source": [
    "# 4) Evaluate Batch Normalization\n",
    "\n",
    "Did adding batch normalization help?"
   ]
  },
  {
   "cell_type": "code",
   "execution_count": 12,
   "id": "336b106f",
   "metadata": {
    "execution": {
     "iopub.execute_input": "2022-11-01T02:46:30.216026Z",
     "iopub.status.busy": "2022-11-01T02:46:30.215399Z",
     "iopub.status.idle": "2022-11-01T02:46:30.230079Z",
     "shell.execute_reply": "2022-11-01T02:46:30.229094Z"
    },
    "lines_to_next_cell": 0,
    "papermill": {
     "duration": 0.037034,
     "end_time": "2022-11-01T02:46:30.235750",
     "exception": false,
     "start_time": "2022-11-01T02:46:30.198716",
     "status": "completed"
    },
    "tags": []
   },
   "outputs": [
    {
     "data": {
      "application/javascript": [
       "parent.postMessage({\"jupyterEvent\": \"custom.exercise_interaction\", \"data\": {\"outcomeType\": 1, \"valueTowardsCompletion\": 0.25, \"interactionType\": 1, \"questionType\": 4, \"questionId\": \"4_Q4\", \"learnToolsVersion\": \"0.3.4\", \"failureMessage\": \"\", \"exceptionClass\": \"\", \"trace\": \"\"}}, \"*\")"
      ],
      "text/plain": [
       "<IPython.core.display.Javascript object>"
      ]
     },
     "metadata": {},
     "output_type": "display_data"
    },
    {
     "data": {
      "text/markdown": [
       "<span style=\"color:#33cc33\">Correct:</span> \n",
       "\n",
       "\n",
       "You can see that adding batch normalization was a big improvement on the first attempt! By adaptively scaling the data as it passes through the network, batch normalization can let you train models on difficult datasets.\n"
      ],
      "text/plain": [
       "Correct: \n",
       "\n",
       "\n",
       "You can see that adding batch normalization was a big improvement on the first attempt! By adaptively scaling the data as it passes through the network, batch normalization can let you train models on difficult datasets."
      ]
     },
     "metadata": {},
     "output_type": "display_data"
    }
   ],
   "source": [
    "# View the solution (Run this cell to receive credit!)\n",
    "q_4.check()"
   ]
  },
  {
   "cell_type": "markdown",
   "id": "d223cd3d",
   "metadata": {
    "papermill": {
     "duration": 0.01369,
     "end_time": "2022-11-01T02:46:30.271086",
     "exception": false,
     "start_time": "2022-11-01T02:46:30.257396",
     "status": "completed"
    },
    "tags": []
   },
   "source": [
    "# Keep Going #\n",
    "\n",
    "[**Create neural networks**](https://www.kaggle.com/ryanholbrook/binary-classification) for binary classification."
   ]
  },
  {
   "cell_type": "markdown",
   "id": "273073b0",
   "metadata": {
    "papermill": {
     "duration": 0.016296,
     "end_time": "2022-11-01T02:46:30.298491",
     "exception": false,
     "start_time": "2022-11-01T02:46:30.282195",
     "status": "completed"
    },
    "tags": []
   },
   "source": [
    "---\n",
    "\n",
    "\n",
    "\n",
    "\n",
    "*Have questions or comments? Visit the [course discussion forum](https://www.kaggle.com/learn/intro-to-deep-learning/discussion) to chat with other learners.*"
   ]
  }
 ],
 "metadata": {
  "kernelspec": {
   "display_name": "Python 3",
   "language": "python",
   "name": "python3"
  },
  "language_info": {
   "codemirror_mode": {
    "name": "ipython",
    "version": 3
   },
   "file_extension": ".py",
   "mimetype": "text/x-python",
   "name": "python",
   "nbconvert_exporter": "python",
   "pygments_lexer": "ipython3",
   "version": "3.7.12"
  },
  "papermill": {
   "default_parameters": {},
   "duration": 48.300276,
   "end_time": "2022-11-01T02:46:33.434846",
   "environment_variables": {},
   "exception": null,
   "input_path": "__notebook__.ipynb",
   "output_path": "__notebook__.ipynb",
   "parameters": {},
   "start_time": "2022-11-01T02:45:45.134570",
   "version": "2.3.4"
  }
 },
 "nbformat": 4,
 "nbformat_minor": 5
}
