{
 "cells": [
  {
   "cell_type": "markdown",
   "id": "e9b280f5",
   "metadata": {
    "papermill": {
     "duration": 0.007491,
     "end_time": "2022-09-21T18:09:20.552520",
     "exception": false,
     "start_time": "2022-09-21T18:09:20.545029",
     "status": "completed"
    },
    "tags": []
   },
   "source": [
    "**This notebook is an exercise in the [SQL](https://www.kaggle.com/learn/intro-to-sql) course.  You can reference the tutorial at [this link](https://www.kaggle.com/dansbecker/getting-started-with-sql-and-bigquery).**\n",
    "\n",
    "---\n"
   ]
  },
  {
   "cell_type": "markdown",
   "id": "f9b80f9f",
   "metadata": {
    "papermill": {
     "duration": 0.00586,
     "end_time": "2022-09-21T18:09:20.564334",
     "exception": false,
     "start_time": "2022-09-21T18:09:20.558474",
     "status": "completed"
    },
    "tags": []
   },
   "source": [
    "# Introduction\n",
    "\n",
    "The first test of your new data exploration skills uses data describing crime in the city of Chicago.\n",
    "\n",
    "Before you get started, run the following cell. It sets up the automated feedback system to review your answers."
   ]
  },
  {
   "cell_type": "code",
   "execution_count": 1,
   "id": "f8c9fe3e",
   "metadata": {
    "execution": {
     "iopub.execute_input": "2022-09-21T18:09:20.580173Z",
     "iopub.status.busy": "2022-09-21T18:09:20.579507Z",
     "iopub.status.idle": "2022-09-21T18:09:21.412066Z",
     "shell.execute_reply": "2022-09-21T18:09:21.410569Z"
    },
    "papermill": {
     "duration": 0.844258,
     "end_time": "2022-09-21T18:09:21.414908",
     "exception": false,
     "start_time": "2022-09-21T18:09:20.570650",
     "status": "completed"
    },
    "tags": []
   },
   "outputs": [
    {
     "name": "stdout",
     "output_type": "stream",
     "text": [
      "Using Kaggle's public dataset BigQuery integration.\n",
      "Setup Complete\n"
     ]
    }
   ],
   "source": [
    "# Set up feedack system\n",
    "from learntools.core import binder\n",
    "binder.bind(globals())\n",
    "from learntools.sql.ex1 import *\n",
    "print(\"Setup Complete\")"
   ]
  },
  {
   "cell_type": "markdown",
   "id": "27f84f7b",
   "metadata": {
    "papermill": {
     "duration": 0.005452,
     "end_time": "2022-09-21T18:09:21.426192",
     "exception": false,
     "start_time": "2022-09-21T18:09:21.420740",
     "status": "completed"
    },
    "tags": []
   },
   "source": [
    "Use the next code cell to fetch the dataset."
   ]
  },
  {
   "cell_type": "code",
   "execution_count": 2,
   "id": "74bc775b",
   "metadata": {
    "execution": {
     "iopub.execute_input": "2022-09-21T18:09:21.439697Z",
     "iopub.status.busy": "2022-09-21T18:09:21.439208Z",
     "iopub.status.idle": "2022-09-21T18:09:21.742478Z",
     "shell.execute_reply": "2022-09-21T18:09:21.741301Z"
    },
    "papermill": {
     "duration": 0.313423,
     "end_time": "2022-09-21T18:09:21.745323",
     "exception": false,
     "start_time": "2022-09-21T18:09:21.431900",
     "status": "completed"
    },
    "tags": []
   },
   "outputs": [
    {
     "name": "stdout",
     "output_type": "stream",
     "text": [
      "Using Kaggle's public dataset BigQuery integration.\n"
     ]
    }
   ],
   "source": [
    "from google.cloud import bigquery\n",
    "\n",
    "# Create a \"Client\" object\n",
    "client = bigquery.Client()\n",
    "\n",
    "# Construct a reference to the \"chicago_crime\" dataset\n",
    "dataset_ref = client.dataset(\"chicago_crime\", project=\"bigquery-public-data\")\n",
    "\n",
    "# API request - fetch the dataset\n",
    "dataset = client.get_dataset(dataset_ref)"
   ]
  },
  {
   "cell_type": "markdown",
   "id": "a20bebb9",
   "metadata": {
    "papermill": {
     "duration": 0.005775,
     "end_time": "2022-09-21T18:09:21.757003",
     "exception": false,
     "start_time": "2022-09-21T18:09:21.751228",
     "status": "completed"
    },
    "tags": []
   },
   "source": [
    "# Exercises\n",
    "\n",
    "### 1) Count tables in the dataset\n",
    "\n",
    "How many tables are in the Chicago Crime dataset?"
   ]
  },
  {
   "cell_type": "code",
   "execution_count": 3,
   "id": "f7f5ed6a",
   "metadata": {
    "execution": {
     "iopub.execute_input": "2022-09-21T18:09:21.771502Z",
     "iopub.status.busy": "2022-09-21T18:09:21.771008Z",
     "iopub.status.idle": "2022-09-21T18:09:21.999463Z",
     "shell.execute_reply": "2022-09-21T18:09:21.998593Z"
    },
    "papermill": {
     "duration": 0.238431,
     "end_time": "2022-09-21T18:09:22.001655",
     "exception": false,
     "start_time": "2022-09-21T18:09:21.763224",
     "status": "completed"
    },
    "tags": []
   },
   "outputs": [
    {
     "data": {
      "text/plain": [
       "1"
      ]
     },
     "execution_count": 3,
     "metadata": {},
     "output_type": "execute_result"
    }
   ],
   "source": [
    "# Write the code you need here to figure out the answer\n",
    "tables = list(client.list_tables(dataset))\n",
    "len(tables)"
   ]
  },
  {
   "cell_type": "code",
   "execution_count": 4,
   "id": "b0eb65de",
   "metadata": {
    "execution": {
     "iopub.execute_input": "2022-09-21T18:09:22.016101Z",
     "iopub.status.busy": "2022-09-21T18:09:22.014771Z",
     "iopub.status.idle": "2022-09-21T18:09:22.025270Z",
     "shell.execute_reply": "2022-09-21T18:09:22.024254Z"
    },
    "papermill": {
     "duration": 0.020108,
     "end_time": "2022-09-21T18:09:22.027574",
     "exception": false,
     "start_time": "2022-09-21T18:09:22.007466",
     "status": "completed"
    },
    "tags": []
   },
   "outputs": [
    {
     "data": {
      "application/javascript": [
       "parent.postMessage({\"jupyterEvent\": \"custom.exercise_interaction\", \"data\": {\"outcomeType\": 1, \"valueTowardsCompletion\": 0.3333333333333333, \"interactionType\": 1, \"questionType\": 1, \"questionId\": \"1_CountTables\", \"learnToolsVersion\": \"0.3.4\", \"failureMessage\": \"\", \"exceptionClass\": \"\", \"trace\": \"\"}}, \"*\")"
      ],
      "text/plain": [
       "<IPython.core.display.Javascript object>"
      ]
     },
     "metadata": {},
     "output_type": "display_data"
    },
    {
     "data": {
      "text/markdown": [
       "<span style=\"color:#33cc33\">Correct</span>"
      ],
      "text/plain": [
       "Correct"
      ]
     },
     "metadata": {},
     "output_type": "display_data"
    }
   ],
   "source": [
    "num_tables = 1  # Store the answer as num_tables and then run this cell\n",
    "\n",
    "# Check your answer\n",
    "q_1.check()"
   ]
  },
  {
   "cell_type": "markdown",
   "id": "7c42ab32",
   "metadata": {
    "papermill": {
     "duration": 0.005999,
     "end_time": "2022-09-21T18:09:22.039815",
     "exception": false,
     "start_time": "2022-09-21T18:09:22.033816",
     "status": "completed"
    },
    "tags": []
   },
   "source": [
    "For a hint or the solution, uncomment the appropriate line below."
   ]
  },
  {
   "cell_type": "code",
   "execution_count": 5,
   "id": "dbe46993",
   "metadata": {
    "execution": {
     "iopub.execute_input": "2022-09-21T18:09:22.054076Z",
     "iopub.status.busy": "2022-09-21T18:09:22.053372Z",
     "iopub.status.idle": "2022-09-21T18:09:22.058816Z",
     "shell.execute_reply": "2022-09-21T18:09:22.057441Z"
    },
    "papermill": {
     "duration": 0.015713,
     "end_time": "2022-09-21T18:09:22.061374",
     "exception": false,
     "start_time": "2022-09-21T18:09:22.045661",
     "status": "completed"
    },
    "tags": []
   },
   "outputs": [],
   "source": [
    "#q_1.hint()\n",
    "#q_1.solution()"
   ]
  },
  {
   "cell_type": "markdown",
   "id": "34444bce",
   "metadata": {
    "papermill": {
     "duration": 0.005967,
     "end_time": "2022-09-21T18:09:22.073392",
     "exception": false,
     "start_time": "2022-09-21T18:09:22.067425",
     "status": "completed"
    },
    "tags": []
   },
   "source": [
    "### 2) Explore the table schema\n",
    "\n",
    "How many columns in the `crime` table have `TIMESTAMP` data?"
   ]
  },
  {
   "cell_type": "code",
   "execution_count": 6,
   "id": "8a286780",
   "metadata": {
    "execution": {
     "iopub.execute_input": "2022-09-21T18:09:22.088968Z",
     "iopub.status.busy": "2022-09-21T18:09:22.088538Z",
     "iopub.status.idle": "2022-09-21T18:09:22.325665Z",
     "shell.execute_reply": "2022-09-21T18:09:22.323744Z"
    },
    "papermill": {
     "duration": 0.249125,
     "end_time": "2022-09-21T18:09:22.328654",
     "exception": false,
     "start_time": "2022-09-21T18:09:22.079529",
     "status": "completed"
    },
    "tags": []
   },
   "outputs": [
    {
     "name": "stdout",
     "output_type": "stream",
     "text": [
      "[SchemaField('unique_key', 'INTEGER', 'REQUIRED', None, (), None), SchemaField('case_number', 'STRING', 'NULLABLE', None, (), None), SchemaField('date', 'TIMESTAMP', 'NULLABLE', None, (), None), SchemaField('block', 'STRING', 'NULLABLE', None, (), None), SchemaField('iucr', 'STRING', 'NULLABLE', None, (), None), SchemaField('primary_type', 'STRING', 'NULLABLE', None, (), None), SchemaField('description', 'STRING', 'NULLABLE', None, (), None), SchemaField('location_description', 'STRING', 'NULLABLE', None, (), None), SchemaField('arrest', 'BOOLEAN', 'NULLABLE', None, (), None), SchemaField('domestic', 'BOOLEAN', 'NULLABLE', None, (), None), SchemaField('beat', 'INTEGER', 'NULLABLE', None, (), None), SchemaField('district', 'INTEGER', 'NULLABLE', None, (), None), SchemaField('ward', 'INTEGER', 'NULLABLE', None, (), None), SchemaField('community_area', 'INTEGER', 'NULLABLE', None, (), None), SchemaField('fbi_code', 'STRING', 'NULLABLE', None, (), None), SchemaField('x_coordinate', 'FLOAT', 'NULLABLE', None, (), None), SchemaField('y_coordinate', 'FLOAT', 'NULLABLE', None, (), None), SchemaField('year', 'INTEGER', 'NULLABLE', None, (), None), SchemaField('updated_on', 'TIMESTAMP', 'NULLABLE', None, (), None), SchemaField('latitude', 'FLOAT', 'NULLABLE', None, (), None), SchemaField('longitude', 'FLOAT', 'NULLABLE', None, (), None), SchemaField('location', 'STRING', 'NULLABLE', None, (), None)]\n"
     ]
    }
   ],
   "source": [
    "# Write the code to figure out the answer\n",
    "table_ref = dataset_ref.table(\"crime\")\n",
    "\n",
    "# API request - fetch the table\n",
    "table = client.get_table(table_ref)\n",
    "print(table.schema)"
   ]
  },
  {
   "cell_type": "code",
   "execution_count": 7,
   "id": "ac14729c",
   "metadata": {
    "execution": {
     "iopub.execute_input": "2022-09-21T18:09:22.343528Z",
     "iopub.status.busy": "2022-09-21T18:09:22.343060Z",
     "iopub.status.idle": "2022-09-21T18:09:22.352290Z",
     "shell.execute_reply": "2022-09-21T18:09:22.351075Z"
    },
    "papermill": {
     "duration": 0.020058,
     "end_time": "2022-09-21T18:09:22.355012",
     "exception": false,
     "start_time": "2022-09-21T18:09:22.334954",
     "status": "completed"
    },
    "tags": []
   },
   "outputs": [
    {
     "data": {
      "application/javascript": [
       "parent.postMessage({\"jupyterEvent\": \"custom.exercise_interaction\", \"data\": {\"outcomeType\": 1, \"valueTowardsCompletion\": 0.3333333333333333, \"interactionType\": 1, \"questionType\": 1, \"questionId\": \"2_CountTimestampFields\", \"learnToolsVersion\": \"0.3.4\", \"failureMessage\": \"\", \"exceptionClass\": \"\", \"trace\": \"\"}}, \"*\")"
      ],
      "text/plain": [
       "<IPython.core.display.Javascript object>"
      ]
     },
     "metadata": {},
     "output_type": "display_data"
    },
    {
     "data": {
      "text/markdown": [
       "<span style=\"color:#33cc33\">Correct</span>"
      ],
      "text/plain": [
       "Correct"
      ]
     },
     "metadata": {},
     "output_type": "display_data"
    }
   ],
   "source": [
    "num_timestamp_fields = 2 # Put your answer here\n",
    "\n",
    "# Check your answer\n",
    "q_2.check()"
   ]
  },
  {
   "cell_type": "markdown",
   "id": "06c80697",
   "metadata": {
    "papermill": {
     "duration": 0.006243,
     "end_time": "2022-09-21T18:09:22.367971",
     "exception": false,
     "start_time": "2022-09-21T18:09:22.361728",
     "status": "completed"
    },
    "tags": []
   },
   "source": [
    "For a hint or the solution, uncomment the appropriate line below."
   ]
  },
  {
   "cell_type": "code",
   "execution_count": 8,
   "id": "653cb1b4",
   "metadata": {
    "execution": {
     "iopub.execute_input": "2022-09-21T18:09:22.383018Z",
     "iopub.status.busy": "2022-09-21T18:09:22.382578Z",
     "iopub.status.idle": "2022-09-21T18:09:22.387715Z",
     "shell.execute_reply": "2022-09-21T18:09:22.386196Z"
    },
    "papermill": {
     "duration": 0.015545,
     "end_time": "2022-09-21T18:09:22.390069",
     "exception": false,
     "start_time": "2022-09-21T18:09:22.374524",
     "status": "completed"
    },
    "tags": []
   },
   "outputs": [],
   "source": [
    "#q_2.hint()\n",
    "#q_2.solution()"
   ]
  },
  {
   "cell_type": "markdown",
   "id": "6da6dfc5",
   "metadata": {
    "papermill": {
     "duration": 0.00574,
     "end_time": "2022-09-21T18:09:22.402171",
     "exception": false,
     "start_time": "2022-09-21T18:09:22.396431",
     "status": "completed"
    },
    "tags": []
   },
   "source": [
    "### 3) Create a crime map\n",
    "\n",
    "If you wanted to create a map with a dot at the location of each crime, what are the names of the two fields you likely need to pull out of the `crime` table to plot the crimes on a map?"
   ]
  },
  {
   "cell_type": "code",
   "execution_count": 9,
   "id": "11aac569",
   "metadata": {
    "execution": {
     "iopub.execute_input": "2022-09-21T18:09:22.416387Z",
     "iopub.status.busy": "2022-09-21T18:09:22.415933Z",
     "iopub.status.idle": "2022-09-21T18:09:22.424557Z",
     "shell.execute_reply": "2022-09-21T18:09:22.423086Z"
    },
    "papermill": {
     "duration": 0.019348,
     "end_time": "2022-09-21T18:09:22.427449",
     "exception": false,
     "start_time": "2022-09-21T18:09:22.408101",
     "status": "completed"
    },
    "tags": []
   },
   "outputs": [
    {
     "data": {
      "text/plain": [
       "[SchemaField('unique_key', 'INTEGER', 'REQUIRED', None, (), None),\n",
       " SchemaField('case_number', 'STRING', 'NULLABLE', None, (), None),\n",
       " SchemaField('date', 'TIMESTAMP', 'NULLABLE', None, (), None),\n",
       " SchemaField('block', 'STRING', 'NULLABLE', None, (), None),\n",
       " SchemaField('iucr', 'STRING', 'NULLABLE', None, (), None),\n",
       " SchemaField('primary_type', 'STRING', 'NULLABLE', None, (), None),\n",
       " SchemaField('description', 'STRING', 'NULLABLE', None, (), None),\n",
       " SchemaField('location_description', 'STRING', 'NULLABLE', None, (), None),\n",
       " SchemaField('arrest', 'BOOLEAN', 'NULLABLE', None, (), None),\n",
       " SchemaField('domestic', 'BOOLEAN', 'NULLABLE', None, (), None),\n",
       " SchemaField('beat', 'INTEGER', 'NULLABLE', None, (), None),\n",
       " SchemaField('district', 'INTEGER', 'NULLABLE', None, (), None),\n",
       " SchemaField('ward', 'INTEGER', 'NULLABLE', None, (), None),\n",
       " SchemaField('community_area', 'INTEGER', 'NULLABLE', None, (), None),\n",
       " SchemaField('fbi_code', 'STRING', 'NULLABLE', None, (), None),\n",
       " SchemaField('x_coordinate', 'FLOAT', 'NULLABLE', None, (), None),\n",
       " SchemaField('y_coordinate', 'FLOAT', 'NULLABLE', None, (), None),\n",
       " SchemaField('year', 'INTEGER', 'NULLABLE', None, (), None),\n",
       " SchemaField('updated_on', 'TIMESTAMP', 'NULLABLE', None, (), None),\n",
       " SchemaField('latitude', 'FLOAT', 'NULLABLE', None, (), None),\n",
       " SchemaField('longitude', 'FLOAT', 'NULLABLE', None, (), None),\n",
       " SchemaField('location', 'STRING', 'NULLABLE', None, (), None)]"
      ]
     },
     "execution_count": 9,
     "metadata": {},
     "output_type": "execute_result"
    }
   ],
   "source": [
    "# Write the code here to explore the data so you can find the answer\n",
    "table.schema"
   ]
  },
  {
   "cell_type": "code",
   "execution_count": 10,
   "id": "2b6f899b",
   "metadata": {
    "execution": {
     "iopub.execute_input": "2022-09-21T18:09:22.443117Z",
     "iopub.status.busy": "2022-09-21T18:09:22.442650Z",
     "iopub.status.idle": "2022-09-21T18:09:22.452933Z",
     "shell.execute_reply": "2022-09-21T18:09:22.451727Z"
    },
    "papermill": {
     "duration": 0.021424,
     "end_time": "2022-09-21T18:09:22.456001",
     "exception": false,
     "start_time": "2022-09-21T18:09:22.434577",
     "status": "completed"
    },
    "tags": []
   },
   "outputs": [
    {
     "data": {
      "application/javascript": [
       "parent.postMessage({\"jupyterEvent\": \"custom.exercise_interaction\", \"data\": {\"outcomeType\": 1, \"valueTowardsCompletion\": 0.3333333333333333, \"interactionType\": 1, \"questionType\": 2, \"questionId\": \"3_IdentifyFieldsForPlotting\", \"learnToolsVersion\": \"0.3.4\", \"failureMessage\": \"\", \"exceptionClass\": \"\", \"trace\": \"\"}}, \"*\")"
      ],
      "text/plain": [
       "<IPython.core.display.Javascript object>"
      ]
     },
     "metadata": {},
     "output_type": "display_data"
    },
    {
     "data": {
      "text/markdown": [
       "<span style=\"color:#33cc33\">Correct</span>"
      ],
      "text/plain": [
       "Correct"
      ]
     },
     "metadata": {},
     "output_type": "display_data"
    }
   ],
   "source": [
    "fields_for_plotting = ['latitude', 'longitude'] # Put your answers here\n",
    "\n",
    "# Check your answer\n",
    "q_3.check()"
   ]
  },
  {
   "cell_type": "markdown",
   "id": "ed27644e",
   "metadata": {
    "papermill": {
     "duration": 0.006592,
     "end_time": "2022-09-21T18:09:22.469894",
     "exception": false,
     "start_time": "2022-09-21T18:09:22.463302",
     "status": "completed"
    },
    "tags": []
   },
   "source": [
    "For a hint or the solution, uncomment the appropriate line below."
   ]
  },
  {
   "cell_type": "code",
   "execution_count": 11,
   "id": "03437ce5",
   "metadata": {
    "execution": {
     "iopub.execute_input": "2022-09-21T18:09:22.485549Z",
     "iopub.status.busy": "2022-09-21T18:09:22.484892Z",
     "iopub.status.idle": "2022-09-21T18:09:22.489854Z",
     "shell.execute_reply": "2022-09-21T18:09:22.488738Z"
    },
    "papermill": {
     "duration": 0.015761,
     "end_time": "2022-09-21T18:09:22.492429",
     "exception": false,
     "start_time": "2022-09-21T18:09:22.476668",
     "status": "completed"
    },
    "tags": []
   },
   "outputs": [],
   "source": [
    "#q_3.hint()\n",
    "#q_3.solution()"
   ]
  },
  {
   "cell_type": "markdown",
   "id": "2301898b",
   "metadata": {
    "papermill": {
     "duration": 0.006309,
     "end_time": "2022-09-21T18:09:22.505644",
     "exception": false,
     "start_time": "2022-09-21T18:09:22.499335",
     "status": "completed"
    },
    "tags": []
   },
   "source": [
    "Thinking about the question above, there are a few columns that appear to have geographic data. Look at a few values (with the `list_rows()` command) to see if you can determine their relationship.  Two columns will still be hard to interpret. But it should be obvious how the `location` column relates to `latitude` and `longitude`."
   ]
  },
  {
   "cell_type": "code",
   "execution_count": 12,
   "id": "104d9391",
   "metadata": {
    "execution": {
     "iopub.execute_input": "2022-09-21T18:09:22.520766Z",
     "iopub.status.busy": "2022-09-21T18:09:22.520342Z",
     "iopub.status.idle": "2022-09-21T18:09:22.525004Z",
     "shell.execute_reply": "2022-09-21T18:09:22.523808Z"
    },
    "papermill": {
     "duration": 0.014983,
     "end_time": "2022-09-21T18:09:22.527168",
     "exception": false,
     "start_time": "2022-09-21T18:09:22.512185",
     "status": "completed"
    },
    "tags": []
   },
   "outputs": [],
   "source": [
    "# Scratch space for your code"
   ]
  },
  {
   "cell_type": "markdown",
   "id": "c5162c35",
   "metadata": {
    "papermill": {
     "duration": 0.00628,
     "end_time": "2022-09-21T18:09:22.540010",
     "exception": false,
     "start_time": "2022-09-21T18:09:22.533730",
     "status": "completed"
    },
    "tags": []
   },
   "source": [
    "# Keep going\n",
    "\n",
    "You've looked at the schema, but you haven't yet done anything exciting with the data itself. Things get more interesting when you get to the data, so keep going to **[write your first SQL query](https://www.kaggle.com/dansbecker/select-from-where).**"
   ]
  },
  {
   "cell_type": "markdown",
   "id": "7e59dd2d",
   "metadata": {
    "papermill": {
     "duration": 0.006407,
     "end_time": "2022-09-21T18:09:22.553181",
     "exception": false,
     "start_time": "2022-09-21T18:09:22.546774",
     "status": "completed"
    },
    "tags": []
   },
   "source": [
    "---\n",
    "\n",
    "\n",
    "\n",
    "\n",
    "*Have questions or comments? Visit the [course discussion forum](https://www.kaggle.com/learn/intro-to-sql/discussion) to chat with other learners.*"
   ]
  }
 ],
 "metadata": {
  "kernelspec": {
   "display_name": "Python 3",
   "language": "python",
   "name": "python3"
  },
  "language_info": {
   "codemirror_mode": {
    "name": "ipython",
    "version": 3
   },
   "file_extension": ".py",
   "mimetype": "text/x-python",
   "name": "python",
   "nbconvert_exporter": "python",
   "pygments_lexer": "ipython3",
   "version": "3.7.12"
  },
  "papermill": {
   "default_parameters": {},
   "duration": 12.77585,
   "end_time": "2022-09-21T18:09:23.281713",
   "environment_variables": {},
   "exception": null,
   "input_path": "__notebook__.ipynb",
   "output_path": "__notebook__.ipynb",
   "parameters": {},
   "start_time": "2022-09-21T18:09:10.505863",
   "version": "2.3.4"
  }
 },
 "nbformat": 4,
 "nbformat_minor": 5
}
