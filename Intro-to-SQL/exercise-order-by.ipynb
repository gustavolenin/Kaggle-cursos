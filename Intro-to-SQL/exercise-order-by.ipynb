{
 "cells": [
  {
   "cell_type": "markdown",
   "id": "c9568364",
   "metadata": {
    "papermill": {
     "duration": 0.005215,
     "end_time": "2022-09-22T21:44:19.966590",
     "exception": false,
     "start_time": "2022-09-22T21:44:19.961375",
     "status": "completed"
    },
    "tags": []
   },
   "source": [
    "**This notebook is an exercise in the [SQL](https://www.kaggle.com/learn/intro-to-sql) course.  You can reference the tutorial at [this link](https://www.kaggle.com/dansbecker/order-by).**\n",
    "\n",
    "---\n"
   ]
  },
  {
   "cell_type": "markdown",
   "id": "2e75317a",
   "metadata": {
    "papermill": {
     "duration": 0.00353,
     "end_time": "2022-09-22T21:44:19.974311",
     "exception": false,
     "start_time": "2022-09-22T21:44:19.970781",
     "status": "completed"
    },
    "tags": []
   },
   "source": [
    "# Introduction\n",
    "\n",
    "You've built up your SQL skills enough that the remaining hands-on exercises will use different datasets than you see in the explanations. If you need to get to know a new dataset, you can run a couple of **SELECT** queries to extract and review the data you need. \n",
    "\n",
    "The next exercises are also more challenging than what you've done so far. Don't worry, you are ready for it!\n",
    "\n",
    "Run the code in the following cell to get everything set up:"
   ]
  },
  {
   "cell_type": "code",
   "execution_count": 1,
   "id": "83e6efd4",
   "metadata": {
    "execution": {
     "iopub.execute_input": "2022-09-22T21:44:19.984066Z",
     "iopub.status.busy": "2022-09-22T21:44:19.983570Z",
     "iopub.status.idle": "2022-09-22T21:44:22.844572Z",
     "shell.execute_reply": "2022-09-22T21:44:22.842873Z"
    },
    "papermill": {
     "duration": 2.870604,
     "end_time": "2022-09-22T21:44:22.848727",
     "exception": false,
     "start_time": "2022-09-22T21:44:19.978123",
     "status": "completed"
    },
    "tags": []
   },
   "outputs": [
    {
     "name": "stdout",
     "output_type": "stream",
     "text": [
      "Using Kaggle's public dataset BigQuery integration.\n"
     ]
    },
    {
     "name": "stderr",
     "output_type": "stream",
     "text": [
      "/opt/conda/lib/python3.7/site-packages/google/cloud/bigquery/client.py:440: UserWarning: Cannot create BigQuery Storage client, the dependency google-cloud-bigquery-storage is not installed.\n",
      "  \"Cannot create BigQuery Storage client, the dependency \"\n"
     ]
    },
    {
     "name": "stdout",
     "output_type": "stream",
     "text": [
      "Setup Complete\n"
     ]
    }
   ],
   "source": [
    "# Set up feedback system\n",
    "from learntools.core import binder\n",
    "binder.bind(globals())\n",
    "from learntools.sql.ex4 import *\n",
    "print(\"Setup Complete\")"
   ]
  },
  {
   "cell_type": "markdown",
   "id": "475d1ade",
   "metadata": {
    "papermill": {
     "duration": 0.003916,
     "end_time": "2022-09-22T21:44:22.857126",
     "exception": false,
     "start_time": "2022-09-22T21:44:22.853210",
     "status": "completed"
    },
    "tags": []
   },
   "source": [
    "The World Bank has made tons of interesting education data available through BigQuery. Run the following cell to see the first few rows of the `international_education` table from the `world_bank_intl_education` dataset."
   ]
  },
  {
   "cell_type": "code",
   "execution_count": 2,
   "id": "8a0ee874",
   "metadata": {
    "execution": {
     "iopub.execute_input": "2022-09-22T21:44:22.867719Z",
     "iopub.status.busy": "2022-09-22T21:44:22.867269Z",
     "iopub.status.idle": "2022-09-22T21:44:24.087441Z",
     "shell.execute_reply": "2022-09-22T21:44:24.086229Z"
    },
    "papermill": {
     "duration": 1.228874,
     "end_time": "2022-09-22T21:44:24.090169",
     "exception": false,
     "start_time": "2022-09-22T21:44:22.861295",
     "status": "completed"
    },
    "tags": []
   },
   "outputs": [
    {
     "name": "stdout",
     "output_type": "stream",
     "text": [
      "Using Kaggle's public dataset BigQuery integration.\n"
     ]
    },
    {
     "name": "stderr",
     "output_type": "stream",
     "text": [
      "/opt/conda/lib/python3.7/site-packages/ipykernel_launcher.py:19: UserWarning: Cannot use bqstorage_client if max_results is set, reverting to fetching data with the tabledata.list endpoint.\n"
     ]
    },
    {
     "data": {
      "text/html": [
       "<div>\n",
       "<style scoped>\n",
       "    .dataframe tbody tr th:only-of-type {\n",
       "        vertical-align: middle;\n",
       "    }\n",
       "\n",
       "    .dataframe tbody tr th {\n",
       "        vertical-align: top;\n",
       "    }\n",
       "\n",
       "    .dataframe thead th {\n",
       "        text-align: right;\n",
       "    }\n",
       "</style>\n",
       "<table border=\"1\" class=\"dataframe\">\n",
       "  <thead>\n",
       "    <tr style=\"text-align: right;\">\n",
       "      <th></th>\n",
       "      <th>country_name</th>\n",
       "      <th>country_code</th>\n",
       "      <th>indicator_name</th>\n",
       "      <th>indicator_code</th>\n",
       "      <th>value</th>\n",
       "      <th>year</th>\n",
       "    </tr>\n",
       "  </thead>\n",
       "  <tbody>\n",
       "    <tr>\n",
       "      <th>0</th>\n",
       "      <td>Aruba</td>\n",
       "      <td>ABW</td>\n",
       "      <td>Enrolment in lower secondary education, both s...</td>\n",
       "      <td>UIS.E.2</td>\n",
       "      <td>3438.0</td>\n",
       "      <td>2005</td>\n",
       "    </tr>\n",
       "    <tr>\n",
       "      <th>1</th>\n",
       "      <td>Aruba</td>\n",
       "      <td>ABW</td>\n",
       "      <td>Enrolment in lower secondary education, both s...</td>\n",
       "      <td>UIS.E.2</td>\n",
       "      <td>3210.0</td>\n",
       "      <td>2008</td>\n",
       "    </tr>\n",
       "    <tr>\n",
       "      <th>2</th>\n",
       "      <td>Aruba</td>\n",
       "      <td>ABW</td>\n",
       "      <td>Enrolment in lower secondary education, both s...</td>\n",
       "      <td>UIS.E.2</td>\n",
       "      <td>3423.0</td>\n",
       "      <td>2007</td>\n",
       "    </tr>\n",
       "    <tr>\n",
       "      <th>3</th>\n",
       "      <td>Aruba</td>\n",
       "      <td>ABW</td>\n",
       "      <td>Enrolment in lower secondary education, both s...</td>\n",
       "      <td>UIS.E.2</td>\n",
       "      <td>3429.0</td>\n",
       "      <td>2010</td>\n",
       "    </tr>\n",
       "    <tr>\n",
       "      <th>4</th>\n",
       "      <td>Aruba</td>\n",
       "      <td>ABW</td>\n",
       "      <td>Enrolment in lower secondary education, both s...</td>\n",
       "      <td>UIS.E.2</td>\n",
       "      <td>2901.0</td>\n",
       "      <td>1999</td>\n",
       "    </tr>\n",
       "  </tbody>\n",
       "</table>\n",
       "</div>"
      ],
      "text/plain": [
       "  country_name country_code  \\\n",
       "0        Aruba          ABW   \n",
       "1        Aruba          ABW   \n",
       "2        Aruba          ABW   \n",
       "3        Aruba          ABW   \n",
       "4        Aruba          ABW   \n",
       "\n",
       "                                      indicator_name indicator_code   value  \\\n",
       "0  Enrolment in lower secondary education, both s...        UIS.E.2  3438.0   \n",
       "1  Enrolment in lower secondary education, both s...        UIS.E.2  3210.0   \n",
       "2  Enrolment in lower secondary education, both s...        UIS.E.2  3423.0   \n",
       "3  Enrolment in lower secondary education, both s...        UIS.E.2  3429.0   \n",
       "4  Enrolment in lower secondary education, both s...        UIS.E.2  2901.0   \n",
       "\n",
       "   year  \n",
       "0  2005  \n",
       "1  2008  \n",
       "2  2007  \n",
       "3  2010  \n",
       "4  1999  "
      ]
     },
     "execution_count": 2,
     "metadata": {},
     "output_type": "execute_result"
    }
   ],
   "source": [
    "from google.cloud import bigquery\n",
    "\n",
    "# Create a \"Client\" object\n",
    "client = bigquery.Client()\n",
    "\n",
    "# Construct a reference to the \"world_bank_intl_education\" dataset\n",
    "dataset_ref = client.dataset(\"world_bank_intl_education\", project=\"bigquery-public-data\")\n",
    "\n",
    "# API request - fetch the dataset\n",
    "dataset = client.get_dataset(dataset_ref)\n",
    "\n",
    "# Construct a reference to the \"international_education\" table\n",
    "table_ref = dataset_ref.table(\"international_education\")\n",
    "\n",
    "# API request - fetch the table\n",
    "table = client.get_table(table_ref)\n",
    "\n",
    "# Preview the first five lines of the \"international_education\" table\n",
    "client.list_rows(table, max_results=5).to_dataframe()"
   ]
  },
  {
   "cell_type": "markdown",
   "id": "c7c630ae",
   "metadata": {
    "papermill": {
     "duration": 0.004136,
     "end_time": "2022-09-22T21:44:24.098992",
     "exception": false,
     "start_time": "2022-09-22T21:44:24.094856",
     "status": "completed"
    },
    "tags": []
   },
   "source": [
    "# Exercises\n",
    "\n",
    "The value in the `indicator_code` column describes what type of data is shown in a given row.  \n",
    "\n",
    "One interesting indicator code is `SE.XPD.TOTL.GD.ZS`, which corresponds to \"Government expenditure on education as % of GDP (%)\".\n",
    "\n",
    "### 1) Government expenditure on education\n",
    "\n",
    "Which countries spend the largest fraction of GDP on education?  \n",
    "\n",
    "To answer this question, consider only the rows in the dataset corresponding to indicator code `SE.XPD.TOTL.GD.ZS`, and write a query that returns the average value in the `value` column for each country in the dataset between the years 2010-2017 (including 2010 and 2017 in the average). \n",
    "\n",
    "Requirements:\n",
    "- Your results should have the country name rather than the country code. You will have one row for each country.\n",
    "- The aggregate function for average is **AVG()**.  Use the name `avg_ed_spending_pct` for the column created by this aggregation.\n",
    "- Order the results so the countries that spend the largest fraction of GDP on education show up first.\n",
    "\n",
    "In case it's useful to see a sample query, here's a query you saw in the tutorial (using a different dataset):\n",
    "```\n",
    "# Query to find out the number of accidents for each day of the week\n",
    "query = \"\"\"\n",
    "        SELECT COUNT(consecutive_number) AS num_accidents, \n",
    "               EXTRACT(DAYOFWEEK FROM timestamp_of_crash) AS day_of_week\n",
    "        FROM `bigquery-public-data.nhtsa_traffic_fatalities.accident_2015`\n",
    "        GROUP BY day_of_week\n",
    "        ORDER BY num_accidents DESC\n",
    "        \"\"\"\n",
    "```"
   ]
  },
  {
   "cell_type": "code",
   "execution_count": 3,
   "id": "1f88dcd2",
   "metadata": {
    "execution": {
     "iopub.execute_input": "2022-09-22T21:44:24.110388Z",
     "iopub.status.busy": "2022-09-22T21:44:24.109289Z",
     "iopub.status.idle": "2022-09-22T21:44:25.749990Z",
     "shell.execute_reply": "2022-09-22T21:44:25.749140Z"
    },
    "papermill": {
     "duration": 1.64863,
     "end_time": "2022-09-22T21:44:25.752069",
     "exception": false,
     "start_time": "2022-09-22T21:44:24.103439",
     "status": "completed"
    },
    "tags": []
   },
   "outputs": [
    {
     "name": "stderr",
     "output_type": "stream",
     "text": [
      "/opt/conda/lib/python3.7/site-packages/google/cloud/bigquery/client.py:440: UserWarning: Cannot create BigQuery Storage client, the dependency google-cloud-bigquery-storage is not installed.\n",
      "  \"Cannot create BigQuery Storage client, the dependency \"\n"
     ]
    },
    {
     "name": "stdout",
     "output_type": "stream",
     "text": [
      "            country_name  avg_ed_spending_pct\n",
      "0                   Cuba            12.837270\n",
      "1  Micronesia, Fed. Sts.            12.467750\n",
      "2        Solomon Islands            10.001080\n",
      "3                Moldova             8.372153\n",
      "4                Namibia             8.349610\n"
     ]
    },
    {
     "data": {
      "application/javascript": [
       "parent.postMessage({\"jupyterEvent\": \"custom.exercise_interaction\", \"data\": {\"outcomeType\": 1, \"valueTowardsCompletion\": 0.5, \"interactionType\": 1, \"questionType\": 2, \"questionId\": \"1_EducationSpending\", \"learnToolsVersion\": \"0.3.4\", \"failureMessage\": \"\", \"exceptionClass\": \"\", \"trace\": \"\"}}, \"*\")"
      ],
      "text/plain": [
       "<IPython.core.display.Javascript object>"
      ]
     },
     "metadata": {},
     "output_type": "display_data"
    },
    {
     "data": {
      "text/markdown": [
       "<span style=\"color:#33cc33\">Correct</span>"
      ],
      "text/plain": [
       "Correct"
      ]
     },
     "metadata": {},
     "output_type": "display_data"
    }
   ],
   "source": [
    "# Your code goes here\n",
    "country_spend_pct_query = \"\"\"\n",
    "                          SELECT country_name, AVG(value) AS avg_ed_spending_pct\n",
    "                          FROM `bigquery-public-data.world_bank_intl_education.international_education`\n",
    "                          WHERE (year >= 2010) AND (year <= 2017) AND (indicator_code = 'SE.XPD.TOTL.GD.ZS')\n",
    "                          GROUP BY country_name\n",
    "                          ORDER BY AVG(value) DESC\n",
    "                          \"\"\"\n",
    "\n",
    "# Set up the query (cancel the query if it would use too much of \n",
    "# your quota, with the limit set to 1 GB)\n",
    "safe_config = bigquery.QueryJobConfig(maximum_bytes_billed=10**10)\n",
    "country_spend_pct_query_job = client.query(country_spend_pct_query, job_config=safe_config)\n",
    "\n",
    "# API request - run the query, and return a pandas DataFrame\n",
    "country_spending_results = country_spend_pct_query_job.to_dataframe()\n",
    "\n",
    "# View top few rows of results\n",
    "print(country_spending_results.head())\n",
    "\n",
    "# Check your answer\n",
    "q_1.check()"
   ]
  },
  {
   "cell_type": "markdown",
   "id": "88cf3f0c",
   "metadata": {
    "papermill": {
     "duration": 0.004674,
     "end_time": "2022-09-22T21:44:25.761879",
     "exception": false,
     "start_time": "2022-09-22T21:44:25.757205",
     "status": "completed"
    },
    "tags": []
   },
   "source": [
    "For a hint or the solution, uncomment the appropriate line below."
   ]
  },
  {
   "cell_type": "code",
   "execution_count": 4,
   "id": "1f424455",
   "metadata": {
    "execution": {
     "iopub.execute_input": "2022-09-22T21:44:25.773983Z",
     "iopub.status.busy": "2022-09-22T21:44:25.773287Z",
     "iopub.status.idle": "2022-09-22T21:44:25.777291Z",
     "shell.execute_reply": "2022-09-22T21:44:25.776356Z"
    },
    "papermill": {
     "duration": 0.013063,
     "end_time": "2022-09-22T21:44:25.779859",
     "exception": false,
     "start_time": "2022-09-22T21:44:25.766796",
     "status": "completed"
    },
    "tags": []
   },
   "outputs": [],
   "source": [
    "#q_1.hint()\n",
    "#q_1.solution()"
   ]
  },
  {
   "cell_type": "markdown",
   "id": "5f6eaf81",
   "metadata": {
    "papermill": {
     "duration": 0.004504,
     "end_time": "2022-09-22T21:44:25.789420",
     "exception": false,
     "start_time": "2022-09-22T21:44:25.784916",
     "status": "completed"
    },
    "tags": []
   },
   "source": [
    "### 2) Identify interesting codes to explore\n",
    "\n",
    "The last question started by telling you to focus on rows with the code `SE.XPD.TOTL.GD.ZS`. But how would you find more interesting indicator codes to explore?\n",
    "\n",
    "There are 1000s of codes in the dataset, so it would be time consuming to review them all. But many codes are available for only a few countries. When browsing the options for different codes, you might restrict yourself to codes that are reported by many countries.\n",
    "\n",
    "Write a query below that selects the indicator code and indicator name for all codes with at least 175 rows in the year 2016.\n",
    "\n",
    "Requirements:\n",
    "- You should have one row for each indicator code.\n",
    "- The columns in your results should be called `indicator_code`, `indicator_name`, and `num_rows`.\n",
    "- Only select codes with 175 or more rows in the raw database (exactly 175 rows would be included).\n",
    "- To get both the `indicator_code` and `indicator_name` in your resulting DataFrame, you need to include both in your **SELECT** statement (in addition to a **COUNT()** aggregation). This requires you to include both in your **GROUP BY** clause.\n",
    "- Order from results most frequent to least frequent."
   ]
  },
  {
   "cell_type": "code",
   "execution_count": 5,
   "id": "779fb9b3",
   "metadata": {
    "execution": {
     "iopub.execute_input": "2022-09-22T21:44:25.801072Z",
     "iopub.status.busy": "2022-09-22T21:44:25.800637Z",
     "iopub.status.idle": "2022-09-22T21:44:27.014711Z",
     "shell.execute_reply": "2022-09-22T21:44:27.012824Z"
    },
    "papermill": {
     "duration": 1.222924,
     "end_time": "2022-09-22T21:44:27.017154",
     "exception": false,
     "start_time": "2022-09-22T21:44:25.794230",
     "status": "completed"
    },
    "tags": []
   },
   "outputs": [
    {
     "name": "stderr",
     "output_type": "stream",
     "text": [
      "/opt/conda/lib/python3.7/site-packages/google/cloud/bigquery/client.py:440: UserWarning: Cannot create BigQuery Storage client, the dependency google-cloud-bigquery-storage is not installed.\n",
      "  \"Cannot create BigQuery Storage client, the dependency \"\n"
     ]
    },
    {
     "name": "stdout",
     "output_type": "stream",
     "text": [
      "      indicator_code                   indicator_name  num_rows\n",
      "0        SP.POP.TOTL                Population, total       232\n",
      "1        SP.POP.GROW     Population growth (annual %)       232\n",
      "2     IT.NET.USER.P2  Internet users (per 100 people)       223\n",
      "3  SP.POP.1564.MA.IN     Population, ages 15-64, male       213\n",
      "4  SP.POP.0014.FE.IN    Population, ages 0-14, female       213\n"
     ]
    },
    {
     "data": {
      "application/javascript": [
       "parent.postMessage({\"jupyterEvent\": \"custom.exercise_interaction\", \"data\": {\"outcomeType\": 1, \"valueTowardsCompletion\": 0.5, \"interactionType\": 1, \"questionType\": 2, \"questionId\": \"2_FindInterestingCodes\", \"learnToolsVersion\": \"0.3.4\", \"failureMessage\": \"\", \"exceptionClass\": \"\", \"trace\": \"\"}}, \"*\")"
      ],
      "text/plain": [
       "<IPython.core.display.Javascript object>"
      ]
     },
     "metadata": {},
     "output_type": "display_data"
    },
    {
     "data": {
      "text/markdown": [
       "<span style=\"color:#33cc33\">Correct</span>"
      ],
      "text/plain": [
       "Correct"
      ]
     },
     "metadata": {},
     "output_type": "display_data"
    }
   ],
   "source": [
    "# Your code goes here\n",
    "code_count_query =  \"\"\"   \n",
    "                   SELECT indicator_code, indicator_name, COUNT(1) AS num_rows\n",
    "                   FROM `bigquery-public-data.world_bank_intl_education.international_education`\n",
    "                   WHERE year = 2016\n",
    "                   GROUP BY indicator_name, indicator_code\n",
    "                   HAVING num_rows >= 175\n",
    "                   ORDER BY num_rows DESC\n",
    "                    \"\"\"\n",
    "\n",
    "# Set up the query\n",
    "safe_config = bigquery.QueryJobConfig(maximum_bytes_billed=10**10)\n",
    "code_count_query_job = client.query(code_count_query, job_config=safe_config)\n",
    "\n",
    "# API request - run the query, and return a pandas DataFrame\n",
    "code_count_results = code_count_query_job.to_dataframe()\n",
    "\n",
    "# View top few rows of results\n",
    "print(code_count_results.head())\n",
    "\n",
    "# Check your answer\n",
    "q_2.check()"
   ]
  },
  {
   "cell_type": "markdown",
   "id": "974a34e0",
   "metadata": {
    "papermill": {
     "duration": 0.004927,
     "end_time": "2022-09-22T21:44:27.027451",
     "exception": false,
     "start_time": "2022-09-22T21:44:27.022524",
     "status": "completed"
    },
    "tags": []
   },
   "source": [
    "For a hint or the solution, uncomment the appropriate line below."
   ]
  },
  {
   "cell_type": "code",
   "execution_count": 6,
   "id": "9e0a987a",
   "metadata": {
    "execution": {
     "iopub.execute_input": "2022-09-22T21:44:27.039798Z",
     "iopub.status.busy": "2022-09-22T21:44:27.039370Z",
     "iopub.status.idle": "2022-09-22T21:44:27.043843Z",
     "shell.execute_reply": "2022-09-22T21:44:27.042703Z"
    },
    "papermill": {
     "duration": 0.013552,
     "end_time": "2022-09-22T21:44:27.046208",
     "exception": false,
     "start_time": "2022-09-22T21:44:27.032656",
     "status": "completed"
    },
    "tags": []
   },
   "outputs": [],
   "source": [
    "#q_2.hint()\n",
    "#q_2.solution()"
   ]
  },
  {
   "cell_type": "markdown",
   "id": "d658efed",
   "metadata": {
    "papermill": {
     "duration": 0.005077,
     "end_time": "2022-09-22T21:44:27.056737",
     "exception": false,
     "start_time": "2022-09-22T21:44:27.051660",
     "status": "completed"
    },
    "tags": []
   },
   "source": [
    "# Keep Going\n",
    "**[Click here](https://www.kaggle.com/dansbecker/as-with)** to learn how to use **AS** and **WITH** to clean up your code and help you construct more complex queries."
   ]
  },
  {
   "cell_type": "markdown",
   "id": "546eb6d0",
   "metadata": {
    "papermill": {
     "duration": 0.004937,
     "end_time": "2022-09-22T21:44:27.066989",
     "exception": false,
     "start_time": "2022-09-22T21:44:27.062052",
     "status": "completed"
    },
    "tags": []
   },
   "source": [
    "---\n",
    "\n",
    "\n",
    "\n",
    "\n",
    "*Have questions or comments? Visit the [course discussion forum](https://www.kaggle.com/learn/intro-to-sql/discussion) to chat with other learners.*"
   ]
  }
 ],
 "metadata": {
  "kernelspec": {
   "display_name": "Python 3",
   "language": "python",
   "name": "python3"
  },
  "language_info": {
   "codemirror_mode": {
    "name": "ipython",
    "version": 3
   },
   "file_extension": ".py",
   "mimetype": "text/x-python",
   "name": "python",
   "nbconvert_exporter": "python",
   "pygments_lexer": "ipython3",
   "version": "3.7.12"
  },
  "papermill": {
   "default_parameters": {},
   "duration": 18.743963,
   "end_time": "2022-09-22T21:44:27.795779",
   "environment_variables": {},
   "exception": null,
   "input_path": "__notebook__.ipynb",
   "output_path": "__notebook__.ipynb",
   "parameters": {},
   "start_time": "2022-09-22T21:44:09.051816",
   "version": "2.3.4"
  }
 },
 "nbformat": 4,
 "nbformat_minor": 5
}
