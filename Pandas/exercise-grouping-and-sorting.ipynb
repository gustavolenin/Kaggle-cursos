{
 "cells": [
  {
   "cell_type": "markdown",
   "id": "6963ca8d",
   "metadata": {
    "papermill": {
     "duration": 0.00776,
     "end_time": "2022-08-11T14:19:47.329694",
     "exception": false,
     "start_time": "2022-08-11T14:19:47.321934",
     "status": "completed"
    },
    "tags": []
   },
   "source": [
    "**This notebook is an exercise in the [Pandas](https://www.kaggle.com/learn/pandas) course.  You can reference the tutorial at [this link](https://www.kaggle.com/residentmario/grouping-and-sorting).**\n",
    "\n",
    "---\n"
   ]
  },
  {
   "cell_type": "markdown",
   "id": "f399e49a",
   "metadata": {
    "papermill": {
     "duration": 0.0058,
     "end_time": "2022-08-11T14:19:47.341942",
     "exception": false,
     "start_time": "2022-08-11T14:19:47.336142",
     "status": "completed"
    },
    "tags": []
   },
   "source": [
    "# Introduction\n",
    "\n",
    "In these exercises we'll apply groupwise analysis to our dataset.\n",
    "\n",
    "Run the code cell below to load the data before running the exercises."
   ]
  },
  {
   "cell_type": "code",
   "execution_count": 1,
   "id": "48773375",
   "metadata": {
    "execution": {
     "iopub.execute_input": "2022-08-11T14:19:47.356517Z",
     "iopub.status.busy": "2022-08-11T14:19:47.355949Z",
     "iopub.status.idle": "2022-08-11T14:19:50.674332Z",
     "shell.execute_reply": "2022-08-11T14:19:50.672527Z"
    },
    "papermill": {
     "duration": 3.3298,
     "end_time": "2022-08-11T14:19:50.677883",
     "exception": false,
     "start_time": "2022-08-11T14:19:47.348083",
     "status": "completed"
    },
    "tags": []
   },
   "outputs": [
    {
     "name": "stdout",
     "output_type": "stream",
     "text": [
      "Setup complete.\n"
     ]
    }
   ],
   "source": [
    "import pandas as pd\n",
    "\n",
    "reviews = pd.read_csv(\"../input/wine-reviews/winemag-data-130k-v2.csv\", index_col=0)\n",
    "#pd.set_option(\"display.max_rows\", 5)\n",
    "\n",
    "from learntools.core import binder; binder.bind(globals())\n",
    "from learntools.pandas.grouping_and_sorting import *\n",
    "print(\"Setup complete.\")"
   ]
  },
  {
   "cell_type": "markdown",
   "id": "5a9e4091",
   "metadata": {
    "papermill": {
     "duration": 0.006082,
     "end_time": "2022-08-11T14:19:50.691208",
     "exception": false,
     "start_time": "2022-08-11T14:19:50.685126",
     "status": "completed"
    },
    "tags": []
   },
   "source": [
    "# Exercises"
   ]
  },
  {
   "cell_type": "markdown",
   "id": "02d642ea",
   "metadata": {
    "papermill": {
     "duration": 0.005947,
     "end_time": "2022-08-11T14:19:50.703397",
     "exception": false,
     "start_time": "2022-08-11T14:19:50.697450",
     "status": "completed"
    },
    "tags": []
   },
   "source": [
    "## 1.\n",
    "Who are the most common wine reviewers in the dataset? Create a `Series` whose index is the `taster_twitter_handle` category from the dataset, and whose values count how many reviews each person wrote."
   ]
  },
  {
   "cell_type": "code",
   "execution_count": 2,
   "id": "6c76fbd2",
   "metadata": {
    "execution": {
     "iopub.execute_input": "2022-08-11T14:19:50.717807Z",
     "iopub.status.busy": "2022-08-11T14:19:50.717329Z",
     "iopub.status.idle": "2022-08-11T14:19:50.742973Z",
     "shell.execute_reply": "2022-08-11T14:19:50.742061Z"
    },
    "papermill": {
     "duration": 0.035498,
     "end_time": "2022-08-11T14:19:50.745213",
     "exception": false,
     "start_time": "2022-08-11T14:19:50.709715",
     "status": "completed"
    },
    "tags": []
   },
   "outputs": [
    {
     "data": {
      "text/html": [
       "<div>\n",
       "<style scoped>\n",
       "    .dataframe tbody tr th:only-of-type {\n",
       "        vertical-align: middle;\n",
       "    }\n",
       "\n",
       "    .dataframe tbody tr th {\n",
       "        vertical-align: top;\n",
       "    }\n",
       "\n",
       "    .dataframe thead th {\n",
       "        text-align: right;\n",
       "    }\n",
       "</style>\n",
       "<table border=\"1\" class=\"dataframe\">\n",
       "  <thead>\n",
       "    <tr style=\"text-align: right;\">\n",
       "      <th></th>\n",
       "      <th>country</th>\n",
       "      <th>description</th>\n",
       "      <th>designation</th>\n",
       "      <th>points</th>\n",
       "      <th>price</th>\n",
       "      <th>province</th>\n",
       "      <th>region_1</th>\n",
       "      <th>region_2</th>\n",
       "      <th>taster_name</th>\n",
       "      <th>taster_twitter_handle</th>\n",
       "      <th>title</th>\n",
       "      <th>variety</th>\n",
       "      <th>winery</th>\n",
       "    </tr>\n",
       "  </thead>\n",
       "  <tbody>\n",
       "    <tr>\n",
       "      <th>0</th>\n",
       "      <td>Italy</td>\n",
       "      <td>Aromas include tropical fruit, broom, brimston...</td>\n",
       "      <td>Vulkà Bianco</td>\n",
       "      <td>87</td>\n",
       "      <td>NaN</td>\n",
       "      <td>Sicily &amp; Sardinia</td>\n",
       "      <td>Etna</td>\n",
       "      <td>NaN</td>\n",
       "      <td>Kerin O’Keefe</td>\n",
       "      <td>@kerinokeefe</td>\n",
       "      <td>Nicosia 2013 Vulkà Bianco  (Etna)</td>\n",
       "      <td>White Blend</td>\n",
       "      <td>Nicosia</td>\n",
       "    </tr>\n",
       "  </tbody>\n",
       "</table>\n",
       "</div>"
      ],
      "text/plain": [
       "  country                                        description   designation  \\\n",
       "0   Italy  Aromas include tropical fruit, broom, brimston...  Vulkà Bianco   \n",
       "\n",
       "   points  price           province region_1 region_2    taster_name  \\\n",
       "0      87    NaN  Sicily & Sardinia     Etna      NaN  Kerin O’Keefe   \n",
       "\n",
       "  taster_twitter_handle                              title      variety  \\\n",
       "0          @kerinokeefe  Nicosia 2013 Vulkà Bianco  (Etna)  White Blend   \n",
       "\n",
       "    winery  \n",
       "0  Nicosia  "
      ]
     },
     "execution_count": 2,
     "metadata": {},
     "output_type": "execute_result"
    }
   ],
   "source": [
    "reviews.head(1)"
   ]
  },
  {
   "cell_type": "code",
   "execution_count": 3,
   "id": "8d55b2ba",
   "metadata": {
    "execution": {
     "iopub.execute_input": "2022-08-11T14:19:50.761295Z",
     "iopub.status.busy": "2022-08-11T14:19:50.759955Z",
     "iopub.status.idle": "2022-08-11T14:19:50.790017Z",
     "shell.execute_reply": "2022-08-11T14:19:50.789019Z"
    },
    "papermill": {
     "duration": 0.040279,
     "end_time": "2022-08-11T14:19:50.792052",
     "exception": false,
     "start_time": "2022-08-11T14:19:50.751773",
     "status": "completed"
    },
    "tags": []
   },
   "outputs": [
    {
     "data": {
      "application/javascript": [
       "parent.postMessage({\"jupyterEvent\": \"custom.exercise_interaction\", \"data\": {\"outcomeType\": 1, \"valueTowardsCompletion\": 0.16666666666666666, \"interactionType\": 1, \"questionType\": 1, \"questionId\": \"1_ReviewsWritten\", \"learnToolsVersion\": \"0.3.4\", \"failureMessage\": \"\", \"exceptionClass\": \"\", \"trace\": \"\"}}, \"*\")"
      ],
      "text/plain": [
       "<IPython.core.display.Javascript object>"
      ]
     },
     "metadata": {},
     "output_type": "display_data"
    },
    {
     "data": {
      "text/markdown": [
       "<span style=\"color:#33cc33\">Correct:</span> \n",
       "\n",
       "\n",
       "```python\n",
       "reviews_written = reviews.groupby('taster_twitter_handle').size()\n",
       "```\n",
       "or\n",
       "```python\n",
       "reviews_written = reviews.groupby('taster_twitter_handle').taster_twitter_handle.count()\n",
       "```\n"
      ],
      "text/plain": [
       "Correct: \n",
       "\n",
       "\n",
       "```python\n",
       "reviews_written = reviews.groupby('taster_twitter_handle').size()\n",
       "```\n",
       "or\n",
       "```python\n",
       "reviews_written = reviews.groupby('taster_twitter_handle').taster_twitter_handle.count()\n",
       "```"
      ]
     },
     "metadata": {},
     "output_type": "display_data"
    }
   ],
   "source": [
    "# Your code here\n",
    "reviews_written = reviews.groupby(by='taster_twitter_handle').taster_twitter_handle.count()\n",
    "\n",
    "# Check your answer\n",
    "q1.check()"
   ]
  },
  {
   "cell_type": "code",
   "execution_count": 4,
   "id": "1dc69437",
   "metadata": {
    "execution": {
     "iopub.execute_input": "2022-08-11T14:19:50.808717Z",
     "iopub.status.busy": "2022-08-11T14:19:50.807898Z",
     "iopub.status.idle": "2022-08-11T14:19:50.812162Z",
     "shell.execute_reply": "2022-08-11T14:19:50.811166Z"
    },
    "papermill": {
     "duration": 0.015576,
     "end_time": "2022-08-11T14:19:50.814512",
     "exception": false,
     "start_time": "2022-08-11T14:19:50.798936",
     "status": "completed"
    },
    "tags": []
   },
   "outputs": [],
   "source": [
    "#q1.hint()\n",
    "#q1.solution()"
   ]
  },
  {
   "cell_type": "markdown",
   "id": "dbc956f8",
   "metadata": {
    "papermill": {
     "duration": 0.006646,
     "end_time": "2022-08-11T14:19:50.828279",
     "exception": false,
     "start_time": "2022-08-11T14:19:50.821633",
     "status": "completed"
    },
    "tags": []
   },
   "source": [
    "## 2.\n",
    "What is the best wine I can buy for a given amount of money? Create a `Series` whose index is wine prices and whose values is the maximum number of points a wine costing that much was given in a review. Sort the values by price, ascending (so that `4.0` dollars is at the top and `3300.0` dollars is at the bottom)."
   ]
  },
  {
   "cell_type": "code",
   "execution_count": 5,
   "id": "41db35c3",
   "metadata": {
    "execution": {
     "iopub.execute_input": "2022-08-11T14:19:50.844853Z",
     "iopub.status.busy": "2022-08-11T14:19:50.844035Z",
     "iopub.status.idle": "2022-08-11T14:19:50.858771Z",
     "shell.execute_reply": "2022-08-11T14:19:50.857770Z"
    },
    "papermill": {
     "duration": 0.025713,
     "end_time": "2022-08-11T14:19:50.861098",
     "exception": false,
     "start_time": "2022-08-11T14:19:50.835385",
     "status": "completed"
    },
    "tags": []
   },
   "outputs": [
    {
     "data": {
      "application/javascript": [
       "parent.postMessage({\"jupyterEvent\": \"custom.exercise_interaction\", \"data\": {\"outcomeType\": 1, \"valueTowardsCompletion\": 0.16666666666666666, \"interactionType\": 1, \"questionType\": 1, \"questionId\": \"2_BestRatingPerPrice\", \"learnToolsVersion\": \"0.3.4\", \"failureMessage\": \"\", \"exceptionClass\": \"\", \"trace\": \"\"}}, \"*\")"
      ],
      "text/plain": [
       "<IPython.core.display.Javascript object>"
      ]
     },
     "metadata": {},
     "output_type": "display_data"
    },
    {
     "data": {
      "text/markdown": [
       "<span style=\"color:#33cc33\">Correct</span>"
      ],
      "text/plain": [
       "Correct"
      ]
     },
     "metadata": {},
     "output_type": "display_data"
    }
   ],
   "source": [
    "best_rating_per_price = reviews.groupby(by='price').points.max()\n",
    "\n",
    "# Check your answer\n",
    "q2.check()"
   ]
  },
  {
   "cell_type": "code",
   "execution_count": 6,
   "id": "bcda627a",
   "metadata": {
    "execution": {
     "iopub.execute_input": "2022-08-11T14:19:50.877757Z",
     "iopub.status.busy": "2022-08-11T14:19:50.877004Z",
     "iopub.status.idle": "2022-08-11T14:19:50.881173Z",
     "shell.execute_reply": "2022-08-11T14:19:50.880007Z"
    },
    "papermill": {
     "duration": 0.01561,
     "end_time": "2022-08-11T14:19:50.883886",
     "exception": false,
     "start_time": "2022-08-11T14:19:50.868276",
     "status": "completed"
    },
    "tags": []
   },
   "outputs": [],
   "source": [
    "#q2.hint()\n",
    "#q2.solution()"
   ]
  },
  {
   "cell_type": "markdown",
   "id": "2042c822",
   "metadata": {
    "papermill": {
     "duration": 0.006754,
     "end_time": "2022-08-11T14:19:50.898004",
     "exception": false,
     "start_time": "2022-08-11T14:19:50.891250",
     "status": "completed"
    },
    "tags": []
   },
   "source": [
    "## 3.\n",
    "What are the minimum and maximum prices for each `variety` of wine? Create a `DataFrame` whose index is the `variety` category from the dataset and whose values are the `min` and `max` values thereof."
   ]
  },
  {
   "cell_type": "code",
   "execution_count": 7,
   "id": "03c81e27",
   "metadata": {
    "execution": {
     "iopub.execute_input": "2022-08-11T14:19:50.914399Z",
     "iopub.status.busy": "2022-08-11T14:19:50.913620Z",
     "iopub.status.idle": "2022-08-11T14:19:50.939802Z",
     "shell.execute_reply": "2022-08-11T14:19:50.938590Z"
    },
    "papermill": {
     "duration": 0.037137,
     "end_time": "2022-08-11T14:19:50.942256",
     "exception": false,
     "start_time": "2022-08-11T14:19:50.905119",
     "status": "completed"
    },
    "tags": []
   },
   "outputs": [
    {
     "data": {
      "application/javascript": [
       "parent.postMessage({\"jupyterEvent\": \"custom.exercise_interaction\", \"data\": {\"outcomeType\": 1, \"valueTowardsCompletion\": 0.16666666666666666, \"interactionType\": 1, \"questionType\": 1, \"questionId\": \"3_PriceExtremes\", \"learnToolsVersion\": \"0.3.4\", \"failureMessage\": \"\", \"exceptionClass\": \"\", \"trace\": \"\"}}, \"*\")"
      ],
      "text/plain": [
       "<IPython.core.display.Javascript object>"
      ]
     },
     "metadata": {},
     "output_type": "display_data"
    },
    {
     "data": {
      "text/markdown": [
       "<span style=\"color:#33cc33\">Correct</span>"
      ],
      "text/plain": [
       "Correct"
      ]
     },
     "metadata": {},
     "output_type": "display_data"
    }
   ],
   "source": [
    "price_extremes = reviews.groupby('variety').price.agg([min,max])\n",
    "\n",
    "# Check your answer\n",
    "q3.check()"
   ]
  },
  {
   "cell_type": "code",
   "execution_count": 8,
   "id": "1cb241dd",
   "metadata": {
    "execution": {
     "iopub.execute_input": "2022-08-11T14:19:50.960371Z",
     "iopub.status.busy": "2022-08-11T14:19:50.959652Z",
     "iopub.status.idle": "2022-08-11T14:19:50.963566Z",
     "shell.execute_reply": "2022-08-11T14:19:50.962721Z"
    },
    "papermill": {
     "duration": 0.015665,
     "end_time": "2022-08-11T14:19:50.965873",
     "exception": false,
     "start_time": "2022-08-11T14:19:50.950208",
     "status": "completed"
    },
    "tags": []
   },
   "outputs": [],
   "source": [
    "#q3.hint()\n",
    "#q3.solution()"
   ]
  },
  {
   "cell_type": "markdown",
   "id": "ab7ce12b",
   "metadata": {
    "papermill": {
     "duration": 0.007211,
     "end_time": "2022-08-11T14:19:50.980183",
     "exception": false,
     "start_time": "2022-08-11T14:19:50.972972",
     "status": "completed"
    },
    "tags": []
   },
   "source": [
    "## 4.\n",
    "What are the most expensive wine varieties? Create a variable `sorted_varieties` containing a copy of the dataframe from the previous question where varieties are sorted in descending order based on minimum price, then on maximum price (to break ties)."
   ]
  },
  {
   "cell_type": "code",
   "execution_count": 9,
   "id": "08b57fea",
   "metadata": {
    "execution": {
     "iopub.execute_input": "2022-08-11T14:19:50.997912Z",
     "iopub.status.busy": "2022-08-11T14:19:50.997091Z",
     "iopub.status.idle": "2022-08-11T14:19:51.008969Z",
     "shell.execute_reply": "2022-08-11T14:19:51.007674Z"
    },
    "papermill": {
     "duration": 0.023501,
     "end_time": "2022-08-11T14:19:51.011540",
     "exception": false,
     "start_time": "2022-08-11T14:19:50.988039",
     "status": "completed"
    },
    "tags": []
   },
   "outputs": [
    {
     "data": {
      "application/javascript": [
       "parent.postMessage({\"jupyterEvent\": \"custom.exercise_interaction\", \"data\": {\"outcomeType\": 1, \"valueTowardsCompletion\": 0.16666666666666666, \"interactionType\": 1, \"questionType\": 1, \"questionId\": \"4_SortedVarieties\", \"learnToolsVersion\": \"0.3.4\", \"failureMessage\": \"\", \"exceptionClass\": \"\", \"trace\": \"\"}}, \"*\")"
      ],
      "text/plain": [
       "<IPython.core.display.Javascript object>"
      ]
     },
     "metadata": {},
     "output_type": "display_data"
    },
    {
     "data": {
      "text/markdown": [
       "<span style=\"color:#33cc33\">Correct</span>"
      ],
      "text/plain": [
       "Correct"
      ]
     },
     "metadata": {},
     "output_type": "display_data"
    }
   ],
   "source": [
    "sorted_varieties = price_extremes.sort_values(by=['min','max'],ascending=False)\n",
    "\n",
    "# Check your answer\n",
    "q4.check()"
   ]
  },
  {
   "cell_type": "code",
   "execution_count": 10,
   "id": "2103aab2",
   "metadata": {
    "execution": {
     "iopub.execute_input": "2022-08-11T14:19:51.029197Z",
     "iopub.status.busy": "2022-08-11T14:19:51.027762Z",
     "iopub.status.idle": "2022-08-11T14:19:51.032532Z",
     "shell.execute_reply": "2022-08-11T14:19:51.031706Z"
    },
    "papermill": {
     "duration": 0.015998,
     "end_time": "2022-08-11T14:19:51.034778",
     "exception": false,
     "start_time": "2022-08-11T14:19:51.018780",
     "status": "completed"
    },
    "tags": []
   },
   "outputs": [],
   "source": [
    "#q4.hint()\n",
    "#q4.solution()"
   ]
  },
  {
   "cell_type": "markdown",
   "id": "283ae440",
   "metadata": {
    "papermill": {
     "duration": 0.006937,
     "end_time": "2022-08-11T14:19:51.049208",
     "exception": false,
     "start_time": "2022-08-11T14:19:51.042271",
     "status": "completed"
    },
    "tags": []
   },
   "source": [
    "## 5.\n",
    "Create a `Series` whose index is reviewers and whose values is the average review score given out by that reviewer. Hint: you will need the `taster_name` and `points` columns."
   ]
  },
  {
   "cell_type": "code",
   "execution_count": 11,
   "id": "f0e7d2f0",
   "metadata": {
    "execution": {
     "iopub.execute_input": "2022-08-11T14:19:51.066982Z",
     "iopub.status.busy": "2022-08-11T14:19:51.066238Z",
     "iopub.status.idle": "2022-08-11T14:19:51.089174Z",
     "shell.execute_reply": "2022-08-11T14:19:51.087604Z"
    },
    "papermill": {
     "duration": 0.034843,
     "end_time": "2022-08-11T14:19:51.091870",
     "exception": false,
     "start_time": "2022-08-11T14:19:51.057027",
     "status": "completed"
    },
    "tags": []
   },
   "outputs": [
    {
     "data": {
      "application/javascript": [
       "parent.postMessage({\"jupyterEvent\": \"custom.exercise_interaction\", \"data\": {\"outcomeType\": 1, \"valueTowardsCompletion\": 0.16666666666666666, \"interactionType\": 1, \"questionType\": 1, \"questionId\": \"5_ReviewerMeanRatings\", \"learnToolsVersion\": \"0.3.4\", \"failureMessage\": \"\", \"exceptionClass\": \"\", \"trace\": \"\"}}, \"*\")"
      ],
      "text/plain": [
       "<IPython.core.display.Javascript object>"
      ]
     },
     "metadata": {},
     "output_type": "display_data"
    },
    {
     "data": {
      "text/markdown": [
       "<span style=\"color:#33cc33\">Correct</span>"
      ],
      "text/plain": [
       "Correct"
      ]
     },
     "metadata": {},
     "output_type": "display_data"
    }
   ],
   "source": [
    "reviewer_mean_ratings = reviews.groupby('taster_name').points.mean()\n",
    "\n",
    "# Check your answer\n",
    "q5.check()"
   ]
  },
  {
   "cell_type": "code",
   "execution_count": 12,
   "id": "6f82f1ef",
   "metadata": {
    "execution": {
     "iopub.execute_input": "2022-08-11T14:19:51.109396Z",
     "iopub.status.busy": "2022-08-11T14:19:51.108393Z",
     "iopub.status.idle": "2022-08-11T14:19:51.113634Z",
     "shell.execute_reply": "2022-08-11T14:19:51.112044Z"
    },
    "papermill": {
     "duration": 0.016863,
     "end_time": "2022-08-11T14:19:51.116327",
     "exception": false,
     "start_time": "2022-08-11T14:19:51.099464",
     "status": "completed"
    },
    "tags": []
   },
   "outputs": [],
   "source": [
    "#q5.hint()\n",
    "#q5.solution()"
   ]
  },
  {
   "cell_type": "markdown",
   "id": "a3dfe7a6",
   "metadata": {
    "papermill": {
     "duration": 0.007975,
     "end_time": "2022-08-11T14:19:51.131888",
     "exception": false,
     "start_time": "2022-08-11T14:19:51.123913",
     "status": "completed"
    },
    "tags": []
   },
   "source": [
    "Are there significant differences in the average scores assigned by the various reviewers? Run the cell below to use the `describe()` method to see a summary of the range of values."
   ]
  },
  {
   "cell_type": "code",
   "execution_count": 13,
   "id": "bd577731",
   "metadata": {
    "execution": {
     "iopub.execute_input": "2022-08-11T14:19:51.149638Z",
     "iopub.status.busy": "2022-08-11T14:19:51.149169Z",
     "iopub.status.idle": "2022-08-11T14:19:51.162625Z",
     "shell.execute_reply": "2022-08-11T14:19:51.161394Z"
    },
    "papermill": {
     "duration": 0.025162,
     "end_time": "2022-08-11T14:19:51.165192",
     "exception": false,
     "start_time": "2022-08-11T14:19:51.140030",
     "status": "completed"
    },
    "tags": []
   },
   "outputs": [
    {
     "data": {
      "text/plain": [
       "count    19.000000\n",
       "mean     88.233026\n",
       "std       1.243610\n",
       "min      85.855422\n",
       "25%      87.323501\n",
       "50%      88.536235\n",
       "75%      88.975256\n",
       "max      90.562551\n",
       "Name: points, dtype: float64"
      ]
     },
     "execution_count": 13,
     "metadata": {},
     "output_type": "execute_result"
    }
   ],
   "source": [
    "reviewer_mean_ratings.describe()"
   ]
  },
  {
   "cell_type": "markdown",
   "id": "007ea590",
   "metadata": {
    "papermill": {
     "duration": 0.00754,
     "end_time": "2022-08-11T14:19:51.180797",
     "exception": false,
     "start_time": "2022-08-11T14:19:51.173257",
     "status": "completed"
    },
    "tags": []
   },
   "source": [
    "## 6.\n",
    "What combination of countries and varieties are most common? Create a `Series` whose index is a `MultiIndex`of `{country, variety}` pairs. For example, a pinot noir produced in the US should map to `{\"US\", \"Pinot Noir\"}`. Sort the values in the `Series` in descending order based on wine count."
   ]
  },
  {
   "cell_type": "code",
   "execution_count": 14,
   "id": "88801380",
   "metadata": {
    "execution": {
     "iopub.execute_input": "2022-08-11T14:19:51.199309Z",
     "iopub.status.busy": "2022-08-11T14:19:51.198478Z",
     "iopub.status.idle": "2022-08-11T14:19:51.234582Z",
     "shell.execute_reply": "2022-08-11T14:19:51.233313Z"
    },
    "papermill": {
     "duration": 0.048638,
     "end_time": "2022-08-11T14:19:51.237632",
     "exception": false,
     "start_time": "2022-08-11T14:19:51.188994",
     "status": "completed"
    },
    "tags": []
   },
   "outputs": [
    {
     "data": {
      "application/javascript": [
       "parent.postMessage({\"jupyterEvent\": \"custom.exercise_interaction\", \"data\": {\"outcomeType\": 1, \"valueTowardsCompletion\": 0.16666666666666666, \"interactionType\": 1, \"questionType\": 1, \"questionId\": \"6_GroupbyCountryVariety\", \"learnToolsVersion\": \"0.3.4\", \"failureMessage\": \"\", \"exceptionClass\": \"\", \"trace\": \"\"}}, \"*\")"
      ],
      "text/plain": [
       "<IPython.core.display.Javascript object>"
      ]
     },
     "metadata": {},
     "output_type": "display_data"
    },
    {
     "data": {
      "text/markdown": [
       "<span style=\"color:#33cc33\">Correct</span>"
      ],
      "text/plain": [
       "Correct"
      ]
     },
     "metadata": {},
     "output_type": "display_data"
    }
   ],
   "source": [
    "country_variety_counts = reviews.groupby(['country','variety']).size().sort_values(ascending=False)\n",
    "\n",
    "# Check your answer\n",
    "q6.check()"
   ]
  },
  {
   "cell_type": "code",
   "execution_count": 15,
   "id": "e8ce029a",
   "metadata": {
    "execution": {
     "iopub.execute_input": "2022-08-11T14:19:51.255838Z",
     "iopub.status.busy": "2022-08-11T14:19:51.255024Z",
     "iopub.status.idle": "2022-08-11T14:19:51.264162Z",
     "shell.execute_reply": "2022-08-11T14:19:51.263267Z"
    },
    "papermill": {
     "duration": 0.020905,
     "end_time": "2022-08-11T14:19:51.266479",
     "exception": false,
     "start_time": "2022-08-11T14:19:51.245574",
     "status": "completed"
    },
    "tags": []
   },
   "outputs": [
    {
     "data": {
      "application/javascript": [
       "parent.postMessage({\"jupyterEvent\": \"custom.exercise_interaction\", \"data\": {\"interactionType\": 2, \"questionType\": 1, \"questionId\": \"6_GroupbyCountryVariety\", \"learnToolsVersion\": \"0.3.4\", \"valueTowardsCompletion\": 0.0, \"failureMessage\": \"\", \"exceptionClass\": \"\", \"trace\": \"\", \"outcomeType\": 4}}, \"*\")"
      ],
      "text/plain": [
       "<IPython.core.display.Javascript object>"
      ]
     },
     "metadata": {},
     "output_type": "display_data"
    },
    {
     "data": {
      "text/markdown": [
       "<span style=\"color:#3366cc\">Hint:</span> Use `groupby()`, and provide a list of columns to group by.  You may also find `size()` and `sort_values()` to be useful!"
      ],
      "text/plain": [
       "Hint: Use `groupby()`, and provide a list of columns to group by.  You may also find `size()` and `sort_values()` to be useful!"
      ]
     },
     "metadata": {},
     "output_type": "display_data"
    }
   ],
   "source": [
    "q6.hint()\n",
    "#q6.solution()"
   ]
  },
  {
   "cell_type": "markdown",
   "id": "29e0f5fd",
   "metadata": {
    "papermill": {
     "duration": 0.007724,
     "end_time": "2022-08-11T14:19:51.282245",
     "exception": false,
     "start_time": "2022-08-11T14:19:51.274521",
     "status": "completed"
    },
    "tags": []
   },
   "source": [
    "# Keep going\n",
    "\n",
    "Move on to the [**data types and missing data**](https://www.kaggle.com/residentmario/data-types-and-missing-values)."
   ]
  },
  {
   "cell_type": "markdown",
   "id": "c9fbe89b",
   "metadata": {
    "papermill": {
     "duration": 0.007851,
     "end_time": "2022-08-11T14:19:51.298172",
     "exception": false,
     "start_time": "2022-08-11T14:19:51.290321",
     "status": "completed"
    },
    "tags": []
   },
   "source": [
    "---\n",
    "\n",
    "\n",
    "\n",
    "\n",
    "*Have questions or comments? Visit the [course discussion forum](https://www.kaggle.com/learn/pandas/discussion) to chat with other learners.*"
   ]
  }
 ],
 "metadata": {
  "kernelspec": {
   "display_name": "Python 3",
   "language": "python",
   "name": "python3"
  },
  "language_info": {
   "codemirror_mode": {
    "name": "ipython",
    "version": 3
   },
   "file_extension": ".py",
   "mimetype": "text/x-python",
   "name": "python",
   "nbconvert_exporter": "python",
   "pygments_lexer": "ipython3",
   "version": "3.7.12"
  },
  "papermill": {
   "default_parameters": {},
   "duration": 15.847748,
   "end_time": "2022-08-11T14:19:52.232581",
   "environment_variables": {},
   "exception": null,
   "input_path": "__notebook__.ipynb",
   "output_path": "__notebook__.ipynb",
   "parameters": {},
   "start_time": "2022-08-11T14:19:36.384833",
   "version": "2.3.4"
  }
 },
 "nbformat": 4,
 "nbformat_minor": 5
}
