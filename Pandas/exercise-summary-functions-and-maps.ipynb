{
 "cells": [
  {
   "cell_type": "markdown",
   "id": "917b9545",
   "metadata": {
    "papermill": {
     "duration": 0.007672,
     "end_time": "2022-08-11T14:11:09.478155",
     "exception": false,
     "start_time": "2022-08-11T14:11:09.470483",
     "status": "completed"
    },
    "tags": []
   },
   "source": [
    "**This notebook is an exercise in the [Pandas](https://www.kaggle.com/learn/pandas) course.  You can reference the tutorial at [this link](https://www.kaggle.com/residentmario/summary-functions-and-maps).**\n",
    "\n",
    "---\n"
   ]
  },
  {
   "cell_type": "markdown",
   "id": "d4a12f9b",
   "metadata": {
    "papermill": {
     "duration": 0.006011,
     "end_time": "2022-08-11T14:11:09.490798",
     "exception": false,
     "start_time": "2022-08-11T14:11:09.484787",
     "status": "completed"
    },
    "tags": []
   },
   "source": [
    "# Introduction\n",
    "\n",
    "Now you are ready to get a deeper understanding of your data.\n",
    "\n",
    "Run the following cell to load your data and some utility functions (including code to check your answers)."
   ]
  },
  {
   "cell_type": "code",
   "execution_count": 1,
   "id": "6f716032",
   "metadata": {
    "execution": {
     "iopub.execute_input": "2022-08-11T14:11:09.505860Z",
     "iopub.status.busy": "2022-08-11T14:11:09.505005Z",
     "iopub.status.idle": "2022-08-11T14:11:16.493563Z",
     "shell.execute_reply": "2022-08-11T14:11:16.491956Z"
    },
    "papermill": {
     "duration": 7.000657,
     "end_time": "2022-08-11T14:11:16.497622",
     "exception": false,
     "start_time": "2022-08-11T14:11:09.496965",
     "status": "completed"
    },
    "tags": []
   },
   "outputs": [
    {
     "name": "stdout",
     "output_type": "stream",
     "text": [
      "Setup complete.\n"
     ]
    },
    {
     "data": {
      "text/html": [
       "<div>\n",
       "<style scoped>\n",
       "    .dataframe tbody tr th:only-of-type {\n",
       "        vertical-align: middle;\n",
       "    }\n",
       "\n",
       "    .dataframe tbody tr th {\n",
       "        vertical-align: top;\n",
       "    }\n",
       "\n",
       "    .dataframe thead th {\n",
       "        text-align: right;\n",
       "    }\n",
       "</style>\n",
       "<table border=\"1\" class=\"dataframe\">\n",
       "  <thead>\n",
       "    <tr style=\"text-align: right;\">\n",
       "      <th></th>\n",
       "      <th>country</th>\n",
       "      <th>description</th>\n",
       "      <th>designation</th>\n",
       "      <th>points</th>\n",
       "      <th>price</th>\n",
       "      <th>province</th>\n",
       "      <th>region_1</th>\n",
       "      <th>region_2</th>\n",
       "      <th>taster_name</th>\n",
       "      <th>taster_twitter_handle</th>\n",
       "      <th>title</th>\n",
       "      <th>variety</th>\n",
       "      <th>winery</th>\n",
       "    </tr>\n",
       "  </thead>\n",
       "  <tbody>\n",
       "    <tr>\n",
       "      <th>0</th>\n",
       "      <td>Italy</td>\n",
       "      <td>Aromas include tropical fruit, broom, brimston...</td>\n",
       "      <td>Vulkà Bianco</td>\n",
       "      <td>87</td>\n",
       "      <td>NaN</td>\n",
       "      <td>Sicily &amp; Sardinia</td>\n",
       "      <td>Etna</td>\n",
       "      <td>NaN</td>\n",
       "      <td>Kerin O’Keefe</td>\n",
       "      <td>@kerinokeefe</td>\n",
       "      <td>Nicosia 2013 Vulkà Bianco  (Etna)</td>\n",
       "      <td>White Blend</td>\n",
       "      <td>Nicosia</td>\n",
       "    </tr>\n",
       "    <tr>\n",
       "      <th>1</th>\n",
       "      <td>Portugal</td>\n",
       "      <td>This is ripe and fruity, a wine that is smooth...</td>\n",
       "      <td>Avidagos</td>\n",
       "      <td>87</td>\n",
       "      <td>15.0</td>\n",
       "      <td>Douro</td>\n",
       "      <td>NaN</td>\n",
       "      <td>NaN</td>\n",
       "      <td>Roger Voss</td>\n",
       "      <td>@vossroger</td>\n",
       "      <td>Quinta dos Avidagos 2011 Avidagos Red (Douro)</td>\n",
       "      <td>Portuguese Red</td>\n",
       "      <td>Quinta dos Avidagos</td>\n",
       "    </tr>\n",
       "    <tr>\n",
       "      <th>2</th>\n",
       "      <td>US</td>\n",
       "      <td>Tart and snappy, the flavors of lime flesh and...</td>\n",
       "      <td>NaN</td>\n",
       "      <td>87</td>\n",
       "      <td>14.0</td>\n",
       "      <td>Oregon</td>\n",
       "      <td>Willamette Valley</td>\n",
       "      <td>Willamette Valley</td>\n",
       "      <td>Paul Gregutt</td>\n",
       "      <td>@paulgwine</td>\n",
       "      <td>Rainstorm 2013 Pinot Gris (Willamette Valley)</td>\n",
       "      <td>Pinot Gris</td>\n",
       "      <td>Rainstorm</td>\n",
       "    </tr>\n",
       "    <tr>\n",
       "      <th>3</th>\n",
       "      <td>US</td>\n",
       "      <td>Pineapple rind, lemon pith and orange blossom ...</td>\n",
       "      <td>Reserve Late Harvest</td>\n",
       "      <td>87</td>\n",
       "      <td>13.0</td>\n",
       "      <td>Michigan</td>\n",
       "      <td>Lake Michigan Shore</td>\n",
       "      <td>NaN</td>\n",
       "      <td>Alexander Peartree</td>\n",
       "      <td>NaN</td>\n",
       "      <td>St. Julian 2013 Reserve Late Harvest Riesling ...</td>\n",
       "      <td>Riesling</td>\n",
       "      <td>St. Julian</td>\n",
       "    </tr>\n",
       "    <tr>\n",
       "      <th>4</th>\n",
       "      <td>US</td>\n",
       "      <td>Much like the regular bottling from 2012, this...</td>\n",
       "      <td>Vintner's Reserve Wild Child Block</td>\n",
       "      <td>87</td>\n",
       "      <td>65.0</td>\n",
       "      <td>Oregon</td>\n",
       "      <td>Willamette Valley</td>\n",
       "      <td>Willamette Valley</td>\n",
       "      <td>Paul Gregutt</td>\n",
       "      <td>@paulgwine</td>\n",
       "      <td>Sweet Cheeks 2012 Vintner's Reserve Wild Child...</td>\n",
       "      <td>Pinot Noir</td>\n",
       "      <td>Sweet Cheeks</td>\n",
       "    </tr>\n",
       "  </tbody>\n",
       "</table>\n",
       "</div>"
      ],
      "text/plain": [
       "    country                                        description  \\\n",
       "0     Italy  Aromas include tropical fruit, broom, brimston...   \n",
       "1  Portugal  This is ripe and fruity, a wine that is smooth...   \n",
       "2        US  Tart and snappy, the flavors of lime flesh and...   \n",
       "3        US  Pineapple rind, lemon pith and orange blossom ...   \n",
       "4        US  Much like the regular bottling from 2012, this...   \n",
       "\n",
       "                          designation  points  price           province  \\\n",
       "0                        Vulkà Bianco      87    NaN  Sicily & Sardinia   \n",
       "1                            Avidagos      87   15.0              Douro   \n",
       "2                                 NaN      87   14.0             Oregon   \n",
       "3                Reserve Late Harvest      87   13.0           Michigan   \n",
       "4  Vintner's Reserve Wild Child Block      87   65.0             Oregon   \n",
       "\n",
       "              region_1           region_2         taster_name  \\\n",
       "0                 Etna                NaN       Kerin O’Keefe   \n",
       "1                  NaN                NaN          Roger Voss   \n",
       "2    Willamette Valley  Willamette Valley        Paul Gregutt   \n",
       "3  Lake Michigan Shore                NaN  Alexander Peartree   \n",
       "4    Willamette Valley  Willamette Valley        Paul Gregutt   \n",
       "\n",
       "  taster_twitter_handle                                              title  \\\n",
       "0          @kerinokeefe                  Nicosia 2013 Vulkà Bianco  (Etna)   \n",
       "1            @vossroger      Quinta dos Avidagos 2011 Avidagos Red (Douro)   \n",
       "2           @paulgwine       Rainstorm 2013 Pinot Gris (Willamette Valley)   \n",
       "3                   NaN  St. Julian 2013 Reserve Late Harvest Riesling ...   \n",
       "4           @paulgwine   Sweet Cheeks 2012 Vintner's Reserve Wild Child...   \n",
       "\n",
       "          variety               winery  \n",
       "0     White Blend              Nicosia  \n",
       "1  Portuguese Red  Quinta dos Avidagos  \n",
       "2      Pinot Gris            Rainstorm  \n",
       "3        Riesling           St. Julian  \n",
       "4      Pinot Noir         Sweet Cheeks  "
      ]
     },
     "execution_count": 1,
     "metadata": {},
     "output_type": "execute_result"
    }
   ],
   "source": [
    "import pandas as pd\n",
    "pd.set_option(\"display.max_rows\", 5)\n",
    "reviews = pd.read_csv(\"../input/wine-reviews/winemag-data-130k-v2.csv\", index_col=0)\n",
    "\n",
    "from learntools.core import binder; binder.bind(globals())\n",
    "from learntools.pandas.summary_functions_and_maps import *\n",
    "print(\"Setup complete.\")\n",
    "\n",
    "reviews.head()"
   ]
  },
  {
   "cell_type": "markdown",
   "id": "ed6cc054",
   "metadata": {
    "papermill": {
     "duration": 0.00642,
     "end_time": "2022-08-11T14:11:16.511214",
     "exception": false,
     "start_time": "2022-08-11T14:11:16.504794",
     "status": "completed"
    },
    "tags": []
   },
   "source": [
    "# Exercises"
   ]
  },
  {
   "cell_type": "markdown",
   "id": "79e5c4d1",
   "metadata": {
    "papermill": {
     "duration": 0.006444,
     "end_time": "2022-08-11T14:11:16.524361",
     "exception": false,
     "start_time": "2022-08-11T14:11:16.517917",
     "status": "completed"
    },
    "tags": []
   },
   "source": [
    "## 1.\n",
    "\n",
    "What is the median of the `points` column in the `reviews` DataFrame?"
   ]
  },
  {
   "cell_type": "code",
   "execution_count": 2,
   "id": "08c7c476",
   "metadata": {
    "execution": {
     "iopub.execute_input": "2022-08-11T14:11:16.539448Z",
     "iopub.status.busy": "2022-08-11T14:11:16.539009Z",
     "iopub.status.idle": "2022-08-11T14:11:16.550528Z",
     "shell.execute_reply": "2022-08-11T14:11:16.549367Z"
    },
    "papermill": {
     "duration": 0.021818,
     "end_time": "2022-08-11T14:11:16.552782",
     "exception": false,
     "start_time": "2022-08-11T14:11:16.530964",
     "status": "completed"
    },
    "tags": []
   },
   "outputs": [
    {
     "data": {
      "application/javascript": [
       "parent.postMessage({\"jupyterEvent\": \"custom.exercise_interaction\", \"data\": {\"outcomeType\": 1, \"valueTowardsCompletion\": 0.14285714285714285, \"interactionType\": 1, \"questionType\": 1, \"questionId\": \"1_MedianPoints\", \"learnToolsVersion\": \"0.3.4\", \"failureMessage\": \"\", \"exceptionClass\": \"\", \"trace\": \"\"}}, \"*\")"
      ],
      "text/plain": [
       "<IPython.core.display.Javascript object>"
      ]
     },
     "metadata": {},
     "output_type": "display_data"
    },
    {
     "data": {
      "text/markdown": [
       "<span style=\"color:#33cc33\">Correct</span>"
      ],
      "text/plain": [
       "Correct"
      ]
     },
     "metadata": {},
     "output_type": "display_data"
    }
   ],
   "source": [
    "median_points = reviews.points.median()\n",
    "\n",
    "# Check your answer\n",
    "q1.check()"
   ]
  },
  {
   "cell_type": "code",
   "execution_count": 3,
   "id": "9f92f132",
   "metadata": {
    "execution": {
     "iopub.execute_input": "2022-08-11T14:11:16.568526Z",
     "iopub.status.busy": "2022-08-11T14:11:16.568115Z",
     "iopub.status.idle": "2022-08-11T14:11:16.572691Z",
     "shell.execute_reply": "2022-08-11T14:11:16.571495Z"
    },
    "papermill": {
     "duration": 0.015357,
     "end_time": "2022-08-11T14:11:16.574988",
     "exception": false,
     "start_time": "2022-08-11T14:11:16.559631",
     "status": "completed"
    },
    "tags": []
   },
   "outputs": [],
   "source": [
    "#q1.hint()\n",
    "#q1.solution()"
   ]
  },
  {
   "cell_type": "markdown",
   "id": "fe4f350f",
   "metadata": {
    "papermill": {
     "duration": 0.006623,
     "end_time": "2022-08-11T14:11:16.588696",
     "exception": false,
     "start_time": "2022-08-11T14:11:16.582073",
     "status": "completed"
    },
    "tags": []
   },
   "source": [
    "## 2. \n",
    "What countries are represented in the dataset? (Your answer should not include any duplicates.)"
   ]
  },
  {
   "cell_type": "code",
   "execution_count": 4,
   "id": "0d46233a",
   "metadata": {
    "execution": {
     "iopub.execute_input": "2022-08-11T14:11:16.604007Z",
     "iopub.status.busy": "2022-08-11T14:11:16.603606Z",
     "iopub.status.idle": "2022-08-11T14:11:16.620484Z",
     "shell.execute_reply": "2022-08-11T14:11:16.619227Z"
    },
    "papermill": {
     "duration": 0.027294,
     "end_time": "2022-08-11T14:11:16.622816",
     "exception": false,
     "start_time": "2022-08-11T14:11:16.595522",
     "status": "completed"
    },
    "tags": []
   },
   "outputs": [
    {
     "data": {
      "application/javascript": [
       "parent.postMessage({\"jupyterEvent\": \"custom.exercise_interaction\", \"data\": {\"outcomeType\": 1, \"valueTowardsCompletion\": 0.14285714285714285, \"interactionType\": 1, \"questionType\": 2, \"questionId\": \"2_UniqueCountries\", \"learnToolsVersion\": \"0.3.4\", \"failureMessage\": \"\", \"exceptionClass\": \"\", \"trace\": \"\"}}, \"*\")"
      ],
      "text/plain": [
       "<IPython.core.display.Javascript object>"
      ]
     },
     "metadata": {},
     "output_type": "display_data"
    },
    {
     "data": {
      "text/markdown": [
       "<span style=\"color:#33cc33\">Correct</span>"
      ],
      "text/plain": [
       "Correct"
      ]
     },
     "metadata": {},
     "output_type": "display_data"
    }
   ],
   "source": [
    "countries = reviews.country.unique()\n",
    "\n",
    "# Check your answer\n",
    "q2.check()"
   ]
  },
  {
   "cell_type": "code",
   "execution_count": 5,
   "id": "704c3f8d",
   "metadata": {
    "execution": {
     "iopub.execute_input": "2022-08-11T14:11:16.639374Z",
     "iopub.status.busy": "2022-08-11T14:11:16.638446Z",
     "iopub.status.idle": "2022-08-11T14:11:16.643309Z",
     "shell.execute_reply": "2022-08-11T14:11:16.642415Z"
    },
    "papermill": {
     "duration": 0.015344,
     "end_time": "2022-08-11T14:11:16.645353",
     "exception": false,
     "start_time": "2022-08-11T14:11:16.630009",
     "status": "completed"
    },
    "tags": []
   },
   "outputs": [],
   "source": [
    "#q2.hint()\n",
    "#q2.solution()"
   ]
  },
  {
   "cell_type": "markdown",
   "id": "c17bd0fe",
   "metadata": {
    "papermill": {
     "duration": 0.006848,
     "end_time": "2022-08-11T14:11:16.659373",
     "exception": false,
     "start_time": "2022-08-11T14:11:16.652525",
     "status": "completed"
    },
    "tags": []
   },
   "source": [
    "## 3.\n",
    "How often does each country appear in the dataset? Create a Series `reviews_per_country` mapping countries to the count of reviews of wines from that country."
   ]
  },
  {
   "cell_type": "code",
   "execution_count": 6,
   "id": "27e477d8",
   "metadata": {
    "execution": {
     "iopub.execute_input": "2022-08-11T14:11:16.675686Z",
     "iopub.status.busy": "2022-08-11T14:11:16.675241Z",
     "iopub.status.idle": "2022-08-11T14:11:16.693348Z",
     "shell.execute_reply": "2022-08-11T14:11:16.692426Z"
    },
    "papermill": {
     "duration": 0.02923,
     "end_time": "2022-08-11T14:11:16.695709",
     "exception": false,
     "start_time": "2022-08-11T14:11:16.666479",
     "status": "completed"
    },
    "tags": []
   },
   "outputs": [
    {
     "data": {
      "application/javascript": [
       "parent.postMessage({\"jupyterEvent\": \"custom.exercise_interaction\", \"data\": {\"outcomeType\": 1, \"valueTowardsCompletion\": 0.14285714285714285, \"interactionType\": 1, \"questionType\": 1, \"questionId\": \"3_ReviewsPerCountry\", \"learnToolsVersion\": \"0.3.4\", \"failureMessage\": \"\", \"exceptionClass\": \"\", \"trace\": \"\"}}, \"*\")"
      ],
      "text/plain": [
       "<IPython.core.display.Javascript object>"
      ]
     },
     "metadata": {},
     "output_type": "display_data"
    },
    {
     "data": {
      "text/markdown": [
       "<span style=\"color:#33cc33\">Correct</span>"
      ],
      "text/plain": [
       "Correct"
      ]
     },
     "metadata": {},
     "output_type": "display_data"
    }
   ],
   "source": [
    "reviews_per_country = reviews.country.value_counts()\n",
    "\n",
    "# Check your answer\n",
    "q3.check()"
   ]
  },
  {
   "cell_type": "code",
   "execution_count": 7,
   "id": "5ae04e67",
   "metadata": {
    "execution": {
     "iopub.execute_input": "2022-08-11T14:11:16.713627Z",
     "iopub.status.busy": "2022-08-11T14:11:16.713181Z",
     "iopub.status.idle": "2022-08-11T14:11:16.717696Z",
     "shell.execute_reply": "2022-08-11T14:11:16.716583Z"
    },
    "papermill": {
     "duration": 0.016855,
     "end_time": "2022-08-11T14:11:16.720149",
     "exception": false,
     "start_time": "2022-08-11T14:11:16.703294",
     "status": "completed"
    },
    "tags": []
   },
   "outputs": [],
   "source": [
    "#q3.hint()\n",
    "#q3.solution()"
   ]
  },
  {
   "cell_type": "markdown",
   "id": "f480a63d",
   "metadata": {
    "papermill": {
     "duration": 0.007036,
     "end_time": "2022-08-11T14:11:16.734600",
     "exception": false,
     "start_time": "2022-08-11T14:11:16.727564",
     "status": "completed"
    },
    "tags": []
   },
   "source": [
    "## 4.\n",
    "Create variable `centered_price` containing a version of the `price` column with the mean price subtracted.\n",
    "\n",
    "(Note: this 'centering' transformation is a common preprocessing step before applying various machine learning algorithms.) "
   ]
  },
  {
   "cell_type": "code",
   "execution_count": 8,
   "id": "f305b843",
   "metadata": {
    "execution": {
     "iopub.execute_input": "2022-08-11T14:11:16.751202Z",
     "iopub.status.busy": "2022-08-11T14:11:16.750717Z",
     "iopub.status.idle": "2022-08-11T14:11:16.761696Z",
     "shell.execute_reply": "2022-08-11T14:11:16.760779Z"
    },
    "papermill": {
     "duration": 0.021941,
     "end_time": "2022-08-11T14:11:16.763882",
     "exception": false,
     "start_time": "2022-08-11T14:11:16.741941",
     "status": "completed"
    },
    "tags": []
   },
   "outputs": [
    {
     "data": {
      "application/javascript": [
       "parent.postMessage({\"jupyterEvent\": \"custom.exercise_interaction\", \"data\": {\"outcomeType\": 1, \"valueTowardsCompletion\": 0.14285714285714285, \"interactionType\": 1, \"questionType\": 1, \"questionId\": \"4_CenteredPrice\", \"learnToolsVersion\": \"0.3.4\", \"failureMessage\": \"\", \"exceptionClass\": \"\", \"trace\": \"\"}}, \"*\")"
      ],
      "text/plain": [
       "<IPython.core.display.Javascript object>"
      ]
     },
     "metadata": {},
     "output_type": "display_data"
    },
    {
     "data": {
      "text/markdown": [
       "<span style=\"color:#33cc33\">Correct</span>"
      ],
      "text/plain": [
       "Correct"
      ]
     },
     "metadata": {},
     "output_type": "display_data"
    }
   ],
   "source": [
    "centered_price = reviews.price - reviews.price.mean()\n",
    "\n",
    "# Check your answer\n",
    "q4.check()"
   ]
  },
  {
   "cell_type": "code",
   "execution_count": 9,
   "id": "23742100",
   "metadata": {
    "execution": {
     "iopub.execute_input": "2022-08-11T14:11:16.783473Z",
     "iopub.status.busy": "2022-08-11T14:11:16.782988Z",
     "iopub.status.idle": "2022-08-11T14:11:16.788202Z",
     "shell.execute_reply": "2022-08-11T14:11:16.786787Z"
    },
    "papermill": {
     "duration": 0.018634,
     "end_time": "2022-08-11T14:11:16.790733",
     "exception": false,
     "start_time": "2022-08-11T14:11:16.772099",
     "status": "completed"
    },
    "tags": []
   },
   "outputs": [],
   "source": [
    "#q4.hint()\n",
    "#q4.solution()"
   ]
  },
  {
   "cell_type": "markdown",
   "id": "0b0b0f24",
   "metadata": {
    "papermill": {
     "duration": 0.00803,
     "end_time": "2022-08-11T14:11:16.806661",
     "exception": false,
     "start_time": "2022-08-11T14:11:16.798631",
     "status": "completed"
    },
    "tags": []
   },
   "source": [
    "## 5.\n",
    "I'm an economical wine buyer. Which wine is the \"best bargain\"? Create a variable `bargain_wine` with the title of the wine with the highest points-to-price ratio in the dataset."
   ]
  },
  {
   "cell_type": "code",
   "execution_count": 10,
   "id": "cffb7a9b",
   "metadata": {
    "execution": {
     "iopub.execute_input": "2022-08-11T14:11:16.827145Z",
     "iopub.status.busy": "2022-08-11T14:11:16.826325Z",
     "iopub.status.idle": "2022-08-11T14:11:16.839612Z",
     "shell.execute_reply": "2022-08-11T14:11:16.838441Z"
    },
    "papermill": {
     "duration": 0.0258,
     "end_time": "2022-08-11T14:11:16.841749",
     "exception": false,
     "start_time": "2022-08-11T14:11:16.815949",
     "status": "completed"
    },
    "tags": []
   },
   "outputs": [
    {
     "data": {
      "application/javascript": [
       "parent.postMessage({\"jupyterEvent\": \"custom.exercise_interaction\", \"data\": {\"outcomeType\": 1, \"valueTowardsCompletion\": 0.14285714285714285, \"interactionType\": 1, \"questionType\": 2, \"questionId\": \"5_BargainWine\", \"learnToolsVersion\": \"0.3.4\", \"failureMessage\": \"\", \"exceptionClass\": \"\", \"trace\": \"\"}}, \"*\")"
      ],
      "text/plain": [
       "<IPython.core.display.Javascript object>"
      ]
     },
     "metadata": {},
     "output_type": "display_data"
    },
    {
     "data": {
      "text/markdown": [
       "<span style=\"color:#33cc33\">Correct</span>"
      ],
      "text/plain": [
       "Correct"
      ]
     },
     "metadata": {},
     "output_type": "display_data"
    }
   ],
   "source": [
    "bargain_wine = reviews.loc[(reviews.points / reviews.price).idxmax(),'title']\n",
    "\n",
    "# Check your answer\n",
    "q5.check()"
   ]
  },
  {
   "cell_type": "code",
   "execution_count": 11,
   "id": "7daa0c1c",
   "metadata": {
    "execution": {
     "iopub.execute_input": "2022-08-11T14:11:16.859518Z",
     "iopub.status.busy": "2022-08-11T14:11:16.858850Z",
     "iopub.status.idle": "2022-08-11T14:11:16.862963Z",
     "shell.execute_reply": "2022-08-11T14:11:16.861751Z"
    },
    "papermill": {
     "duration": 0.015619,
     "end_time": "2022-08-11T14:11:16.865270",
     "exception": false,
     "start_time": "2022-08-11T14:11:16.849651",
     "status": "completed"
    },
    "tags": []
   },
   "outputs": [],
   "source": [
    "#q5.hint()\n",
    "#q5.solution()"
   ]
  },
  {
   "cell_type": "markdown",
   "id": "a18c62b2",
   "metadata": {
    "papermill": {
     "duration": 0.00781,
     "end_time": "2022-08-11T14:11:16.881430",
     "exception": false,
     "start_time": "2022-08-11T14:11:16.873620",
     "status": "completed"
    },
    "tags": []
   },
   "source": [
    "## 6.\n",
    "There are only so many words you can use when describing a bottle of wine. Is a wine more likely to be \"tropical\" or \"fruity\"? Create a Series `descriptor_counts` counting how many times each of these two words appears in the `description` column in the dataset. (For simplicity, let's ignore the capitalized versions of these words.)"
   ]
  },
  {
   "cell_type": "code",
   "execution_count": 12,
   "id": "c6b6f9c1",
   "metadata": {
    "execution": {
     "iopub.execute_input": "2022-08-11T14:11:16.899253Z",
     "iopub.status.busy": "2022-08-11T14:11:16.898837Z",
     "iopub.status.idle": "2022-08-11T14:11:17.043198Z",
     "shell.execute_reply": "2022-08-11T14:11:17.042020Z"
    },
    "papermill": {
     "duration": 0.156517,
     "end_time": "2022-08-11T14:11:17.046053",
     "exception": false,
     "start_time": "2022-08-11T14:11:16.889536",
     "status": "completed"
    },
    "tags": []
   },
   "outputs": [
    {
     "data": {
      "application/javascript": [
       "parent.postMessage({\"jupyterEvent\": \"custom.exercise_interaction\", \"data\": {\"outcomeType\": 1, \"valueTowardsCompletion\": 0.14285714285714285, \"interactionType\": 1, \"questionType\": 1, \"questionId\": \"6_DescriptorCounts\", \"learnToolsVersion\": \"0.3.4\", \"failureMessage\": \"\", \"exceptionClass\": \"\", \"trace\": \"\"}}, \"*\")"
      ],
      "text/plain": [
       "<IPython.core.display.Javascript object>"
      ]
     },
     "metadata": {},
     "output_type": "display_data"
    },
    {
     "data": {
      "text/markdown": [
       "<span style=\"color:#33cc33\">Correct</span>"
      ],
      "text/plain": [
       "Correct"
      ]
     },
     "metadata": {},
     "output_type": "display_data"
    }
   ],
   "source": [
    "n_trop = reviews.description.map(lambda desc: \"tropical\" in desc).sum()\n",
    "n_fruity = reviews.description.map(lambda desc: \"fruity\" in desc).sum()\n",
    "descriptor_counts = pd.Series([n_trop, n_fruity], index=['tropical', 'fruity'])\n",
    "\n",
    "# Check your answer\n",
    "q6.check()"
   ]
  },
  {
   "cell_type": "code",
   "execution_count": 13,
   "id": "8af411ea",
   "metadata": {
    "execution": {
     "iopub.execute_input": "2022-08-11T14:11:17.064668Z",
     "iopub.status.busy": "2022-08-11T14:11:17.063710Z",
     "iopub.status.idle": "2022-08-11T14:11:17.072419Z",
     "shell.execute_reply": "2022-08-11T14:11:17.071226Z"
    },
    "papermill": {
     "duration": 0.020388,
     "end_time": "2022-08-11T14:11:17.074682",
     "exception": false,
     "start_time": "2022-08-11T14:11:17.054294",
     "status": "completed"
    },
    "tags": []
   },
   "outputs": [
    {
     "data": {
      "text/plain": [
       "tropical    3607\n",
       "fruity      9090\n",
       "dtype: int64"
      ]
     },
     "execution_count": 13,
     "metadata": {},
     "output_type": "execute_result"
    }
   ],
   "source": [
    "descriptor_counts"
   ]
  },
  {
   "cell_type": "code",
   "execution_count": 14,
   "id": "a0ad9b70",
   "metadata": {
    "execution": {
     "iopub.execute_input": "2022-08-11T14:11:17.093121Z",
     "iopub.status.busy": "2022-08-11T14:11:17.092341Z",
     "iopub.status.idle": "2022-08-11T14:11:17.096621Z",
     "shell.execute_reply": "2022-08-11T14:11:17.095834Z"
    },
    "papermill": {
     "duration": 0.015623,
     "end_time": "2022-08-11T14:11:17.098613",
     "exception": false,
     "start_time": "2022-08-11T14:11:17.082990",
     "status": "completed"
    },
    "tags": []
   },
   "outputs": [],
   "source": [
    "#q6.hint()\n",
    "#q6.solution()"
   ]
  },
  {
   "cell_type": "markdown",
   "id": "33f692da",
   "metadata": {
    "papermill": {
     "duration": 0.007645,
     "end_time": "2022-08-11T14:11:17.114391",
     "exception": false,
     "start_time": "2022-08-11T14:11:17.106746",
     "status": "completed"
    },
    "tags": []
   },
   "source": [
    "## 7.\n",
    "We'd like to host these wine reviews on our website, but a rating system ranging from 80 to 100 points is too hard to understand - we'd like to translate them into simple star ratings. A score of 95 or higher counts as 3 stars, a score of at least 85 but less than 95 is 2 stars. Any other score is 1 star.\n",
    "\n",
    "Also, the Canadian Vintners Association bought a lot of ads on the site, so any wines from Canada should automatically get 3 stars, regardless of points.\n",
    "\n",
    "Create a series `star_ratings` with the number of stars corresponding to each review in the dataset."
   ]
  },
  {
   "cell_type": "code",
   "execution_count": 15,
   "id": "cea406c2",
   "metadata": {
    "execution": {
     "iopub.execute_input": "2022-08-11T14:11:17.132714Z",
     "iopub.status.busy": "2022-08-11T14:11:17.131917Z",
     "iopub.status.idle": "2022-08-11T14:11:22.006789Z",
     "shell.execute_reply": "2022-08-11T14:11:22.005323Z"
    },
    "papermill": {
     "duration": 4.887105,
     "end_time": "2022-08-11T14:11:22.009481",
     "exception": false,
     "start_time": "2022-08-11T14:11:17.122376",
     "status": "completed"
    },
    "tags": []
   },
   "outputs": [
    {
     "data": {
      "application/javascript": [
       "parent.postMessage({\"jupyterEvent\": \"custom.exercise_interaction\", \"data\": {\"outcomeType\": 1, \"valueTowardsCompletion\": 0.14285714285714285, \"interactionType\": 1, \"questionType\": 1, \"questionId\": \"7_StarRatings\", \"learnToolsVersion\": \"0.3.4\", \"failureMessage\": \"\", \"exceptionClass\": \"\", \"trace\": \"\"}}, \"*\")"
      ],
      "text/plain": [
       "<IPython.core.display.Javascript object>"
      ]
     },
     "metadata": {},
     "output_type": "display_data"
    },
    {
     "data": {
      "text/markdown": [
       "<span style=\"color:#33cc33\">Correct</span>"
      ],
      "text/plain": [
       "Correct"
      ]
     },
     "metadata": {},
     "output_type": "display_data"
    }
   ],
   "source": [
    "def function(row):\n",
    "    if row.country == 'Canada' or row.points >= 95:\n",
    "        n = 3\n",
    "    elif row.points >= 85 and row.points < 95:\n",
    "        n = 2\n",
    "    else:\n",
    "        n = 1\n",
    "    return n\n",
    "        \n",
    "star_ratings = reviews.apply(function,axis='columns')\n",
    "\n",
    "# Check your answer\n",
    "q7.check()"
   ]
  },
  {
   "cell_type": "code",
   "execution_count": 16,
   "id": "b60e7198",
   "metadata": {
    "execution": {
     "iopub.execute_input": "2022-08-11T14:11:22.029110Z",
     "iopub.status.busy": "2022-08-11T14:11:22.028402Z",
     "iopub.status.idle": "2022-08-11T14:11:22.032329Z",
     "shell.execute_reply": "2022-08-11T14:11:22.031461Z"
    },
    "papermill": {
     "duration": 0.016228,
     "end_time": "2022-08-11T14:11:22.034472",
     "exception": false,
     "start_time": "2022-08-11T14:11:22.018244",
     "status": "completed"
    },
    "tags": []
   },
   "outputs": [],
   "source": [
    "#q7.hint()\n",
    "#q7.solution()"
   ]
  },
  {
   "cell_type": "markdown",
   "id": "7a7ce968",
   "metadata": {
    "papermill": {
     "duration": 0.008175,
     "end_time": "2022-08-11T14:11:22.051227",
     "exception": false,
     "start_time": "2022-08-11T14:11:22.043052",
     "status": "completed"
    },
    "tags": []
   },
   "source": [
    "# Keep going\n",
    "Continue to **[grouping and sorting](https://www.kaggle.com/residentmario/grouping-and-sorting)**."
   ]
  },
  {
   "cell_type": "markdown",
   "id": "f21255ec",
   "metadata": {
    "papermill": {
     "duration": 0.008866,
     "end_time": "2022-08-11T14:11:22.068438",
     "exception": false,
     "start_time": "2022-08-11T14:11:22.059572",
     "status": "completed"
    },
    "tags": []
   },
   "source": [
    "---\n",
    "\n",
    "\n",
    "\n",
    "\n",
    "*Have questions or comments? Visit the [course discussion forum](https://www.kaggle.com/learn/pandas/discussion) to chat with other learners.*"
   ]
  }
 ],
 "metadata": {
  "kernelspec": {
   "display_name": "Python 3",
   "language": "python",
   "name": "python3"
  },
  "language_info": {
   "codemirror_mode": {
    "name": "ipython",
    "version": 3
   },
   "file_extension": ".py",
   "mimetype": "text/x-python",
   "name": "python",
   "nbconvert_exporter": "python",
   "pygments_lexer": "ipython3",
   "version": "3.7.12"
  },
  "papermill": {
   "default_parameters": {},
   "duration": 22.787632,
   "end_time": "2022-08-11T14:11:22.798394",
   "environment_variables": {},
   "exception": null,
   "input_path": "__notebook__.ipynb",
   "output_path": "__notebook__.ipynb",
   "parameters": {},
   "start_time": "2022-08-11T14:11:00.010762",
   "version": "2.3.4"
  }
 },
 "nbformat": 4,
 "nbformat_minor": 5
}
