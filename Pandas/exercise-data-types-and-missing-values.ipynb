{
 "cells": [
  {
   "cell_type": "markdown",
   "id": "f6c2d3e6",
   "metadata": {
    "papermill": {
     "duration": 0.005383,
     "end_time": "2022-08-11T14:11:33.568122",
     "exception": false,
     "start_time": "2022-08-11T14:11:33.562739",
     "status": "completed"
    },
    "tags": []
   },
   "source": [
    "**This notebook is an exercise in the [Pandas](https://www.kaggle.com/learn/pandas) course.  You can reference the tutorial at [this link](https://www.kaggle.com/residentmario/data-types-and-missing-values).**\n",
    "\n",
    "---\n"
   ]
  },
  {
   "cell_type": "markdown",
   "id": "ad91bcd6",
   "metadata": {
    "papermill": {
     "duration": 0.003907,
     "end_time": "2022-08-11T14:11:33.576640",
     "exception": false,
     "start_time": "2022-08-11T14:11:33.572733",
     "status": "completed"
    },
    "tags": []
   },
   "source": [
    "# Introduction\n",
    "\n",
    "Run the following cell to load your data and some utility functions."
   ]
  },
  {
   "cell_type": "code",
   "execution_count": 1,
   "id": "1ab97c6f",
   "metadata": {
    "execution": {
     "iopub.execute_input": "2022-08-11T14:11:33.587479Z",
     "iopub.status.busy": "2022-08-11T14:11:33.586782Z",
     "iopub.status.idle": "2022-08-11T14:11:36.674273Z",
     "shell.execute_reply": "2022-08-11T14:11:36.672660Z"
    },
    "papermill": {
     "duration": 3.096441,
     "end_time": "2022-08-11T14:11:36.677297",
     "exception": false,
     "start_time": "2022-08-11T14:11:33.580856",
     "status": "completed"
    },
    "tags": []
   },
   "outputs": [
    {
     "name": "stdout",
     "output_type": "stream",
     "text": [
      "Setup complete.\n"
     ]
    }
   ],
   "source": [
    "import pandas as pd\n",
    "\n",
    "reviews = pd.read_csv(\"../input/wine-reviews/winemag-data-130k-v2.csv\", index_col=0)\n",
    "\n",
    "from learntools.core import binder; binder.bind(globals())\n",
    "from learntools.pandas.data_types_and_missing_data import *\n",
    "print(\"Setup complete.\")"
   ]
  },
  {
   "cell_type": "markdown",
   "id": "1064cdad",
   "metadata": {
    "papermill": {
     "duration": 0.004355,
     "end_time": "2022-08-11T14:11:36.686278",
     "exception": false,
     "start_time": "2022-08-11T14:11:36.681923",
     "status": "completed"
    },
    "tags": []
   },
   "source": [
    "# Exercises"
   ]
  },
  {
   "cell_type": "markdown",
   "id": "20656569",
   "metadata": {
    "papermill": {
     "duration": 0.004238,
     "end_time": "2022-08-11T14:11:36.695047",
     "exception": false,
     "start_time": "2022-08-11T14:11:36.690809",
     "status": "completed"
    },
    "tags": []
   },
   "source": [
    "## 1. \n",
    "What is the data type of the `points` column in the dataset?"
   ]
  },
  {
   "cell_type": "code",
   "execution_count": 2,
   "id": "d906aa79",
   "metadata": {
    "execution": {
     "iopub.execute_input": "2022-08-11T14:11:36.707014Z",
     "iopub.status.busy": "2022-08-11T14:11:36.705522Z",
     "iopub.status.idle": "2022-08-11T14:11:36.718219Z",
     "shell.execute_reply": "2022-08-11T14:11:36.716635Z"
    },
    "papermill": {
     "duration": 0.021942,
     "end_time": "2022-08-11T14:11:36.721449",
     "exception": false,
     "start_time": "2022-08-11T14:11:36.699507",
     "status": "completed"
    },
    "tags": []
   },
   "outputs": [
    {
     "data": {
      "application/javascript": [
       "parent.postMessage({\"jupyterEvent\": \"custom.exercise_interaction\", \"data\": {\"outcomeType\": 1, \"valueTowardsCompletion\": 0.25, \"interactionType\": 1, \"questionType\": 1, \"questionId\": \"1_PointsDtype\", \"learnToolsVersion\": \"0.3.4\", \"failureMessage\": \"\", \"exceptionClass\": \"\", \"trace\": \"\"}}, \"*\")"
      ],
      "text/plain": [
       "<IPython.core.display.Javascript object>"
      ]
     },
     "metadata": {},
     "output_type": "display_data"
    },
    {
     "data": {
      "text/markdown": [
       "<span style=\"color:#33cc33\">Correct</span>"
      ],
      "text/plain": [
       "Correct"
      ]
     },
     "metadata": {},
     "output_type": "display_data"
    }
   ],
   "source": [
    "# Your code here\n",
    "dtype = reviews.points.dtype\n",
    "\n",
    "# Check your answer\n",
    "q1.check()"
   ]
  },
  {
   "cell_type": "code",
   "execution_count": 3,
   "id": "9f28a14d",
   "metadata": {
    "execution": {
     "iopub.execute_input": "2022-08-11T14:11:36.733469Z",
     "iopub.status.busy": "2022-08-11T14:11:36.733019Z",
     "iopub.status.idle": "2022-08-11T14:11:36.738196Z",
     "shell.execute_reply": "2022-08-11T14:11:36.736814Z"
    },
    "papermill": {
     "duration": 0.014504,
     "end_time": "2022-08-11T14:11:36.740893",
     "exception": false,
     "start_time": "2022-08-11T14:11:36.726389",
     "status": "completed"
    },
    "tags": []
   },
   "outputs": [],
   "source": [
    "#q1.hint()\n",
    "#q1.solution()"
   ]
  },
  {
   "cell_type": "markdown",
   "id": "657a703a",
   "metadata": {
    "papermill": {
     "duration": 0.004509,
     "end_time": "2022-08-11T14:11:36.750239",
     "exception": false,
     "start_time": "2022-08-11T14:11:36.745730",
     "status": "completed"
    },
    "tags": []
   },
   "source": [
    "## 2. \n",
    "Create a Series from entries in the `points` column, but convert the entries to strings. Hint: strings are `str` in native Python."
   ]
  },
  {
   "cell_type": "code",
   "execution_count": 4,
   "id": "f3d41b93",
   "metadata": {
    "execution": {
     "iopub.execute_input": "2022-08-11T14:11:36.762590Z",
     "iopub.status.busy": "2022-08-11T14:11:36.761302Z",
     "iopub.status.idle": "2022-08-11T14:11:36.847358Z",
     "shell.execute_reply": "2022-08-11T14:11:36.846181Z"
    },
    "papermill": {
     "duration": 0.094925,
     "end_time": "2022-08-11T14:11:36.849935",
     "exception": false,
     "start_time": "2022-08-11T14:11:36.755010",
     "status": "completed"
    },
    "tags": []
   },
   "outputs": [
    {
     "data": {
      "application/javascript": [
       "parent.postMessage({\"jupyterEvent\": \"custom.exercise_interaction\", \"data\": {\"outcomeType\": 1, \"valueTowardsCompletion\": 0.25, \"interactionType\": 1, \"questionType\": 1, \"questionId\": \"2_StrPoints\", \"learnToolsVersion\": \"0.3.4\", \"failureMessage\": \"\", \"exceptionClass\": \"\", \"trace\": \"\"}}, \"*\")"
      ],
      "text/plain": [
       "<IPython.core.display.Javascript object>"
      ]
     },
     "metadata": {},
     "output_type": "display_data"
    },
    {
     "data": {
      "text/markdown": [
       "<span style=\"color:#33cc33\">Correct</span>"
      ],
      "text/plain": [
       "Correct"
      ]
     },
     "metadata": {},
     "output_type": "display_data"
    }
   ],
   "source": [
    "point_strings = reviews.points.astype('str')\n",
    "\n",
    "# Check your answer\n",
    "q2.check()"
   ]
  },
  {
   "cell_type": "code",
   "execution_count": 5,
   "id": "8ca219a3",
   "metadata": {
    "execution": {
     "iopub.execute_input": "2022-08-11T14:11:36.862040Z",
     "iopub.status.busy": "2022-08-11T14:11:36.861601Z",
     "iopub.status.idle": "2022-08-11T14:11:36.866913Z",
     "shell.execute_reply": "2022-08-11T14:11:36.865645Z"
    },
    "papermill": {
     "duration": 0.014389,
     "end_time": "2022-08-11T14:11:36.869457",
     "exception": false,
     "start_time": "2022-08-11T14:11:36.855068",
     "status": "completed"
    },
    "tags": []
   },
   "outputs": [],
   "source": [
    "#q2.hint()\n",
    "#q2.solution()"
   ]
  },
  {
   "cell_type": "markdown",
   "id": "bdd14206",
   "metadata": {
    "papermill": {
     "duration": 0.00569,
     "end_time": "2022-08-11T14:11:36.880448",
     "exception": false,
     "start_time": "2022-08-11T14:11:36.874758",
     "status": "completed"
    },
    "tags": []
   },
   "source": [
    "## 3.\n",
    "Sometimes the price column is null. How many reviews in the dataset are missing a price?"
   ]
  },
  {
   "cell_type": "code",
   "execution_count": 6,
   "id": "a0e8794f",
   "metadata": {
    "execution": {
     "iopub.execute_input": "2022-08-11T14:11:36.894243Z",
     "iopub.status.busy": "2022-08-11T14:11:36.893052Z",
     "iopub.status.idle": "2022-08-11T14:11:36.903485Z",
     "shell.execute_reply": "2022-08-11T14:11:36.902147Z"
    },
    "papermill": {
     "duration": 0.020522,
     "end_time": "2022-08-11T14:11:36.906095",
     "exception": false,
     "start_time": "2022-08-11T14:11:36.885573",
     "status": "completed"
    },
    "tags": []
   },
   "outputs": [
    {
     "data": {
      "application/javascript": [
       "parent.postMessage({\"jupyterEvent\": \"custom.exercise_interaction\", \"data\": {\"outcomeType\": 1, \"valueTowardsCompletion\": 0.25, \"interactionType\": 1, \"questionType\": 1, \"questionId\": \"3_CountMissingPrices\", \"learnToolsVersion\": \"0.3.4\", \"failureMessage\": \"\", \"exceptionClass\": \"\", \"trace\": \"\"}}, \"*\")"
      ],
      "text/plain": [
       "<IPython.core.display.Javascript object>"
      ]
     },
     "metadata": {},
     "output_type": "display_data"
    },
    {
     "data": {
      "text/markdown": [
       "<span style=\"color:#33cc33\">Correct</span>"
      ],
      "text/plain": [
       "Correct"
      ]
     },
     "metadata": {},
     "output_type": "display_data"
    }
   ],
   "source": [
    "n_missing_prices = pd.isnull(reviews.price).sum()\n",
    "\n",
    "# Check your answer\n",
    "q3.check()"
   ]
  },
  {
   "cell_type": "code",
   "execution_count": 7,
   "id": "83c083cf",
   "metadata": {
    "execution": {
     "iopub.execute_input": "2022-08-11T14:11:36.919158Z",
     "iopub.status.busy": "2022-08-11T14:11:36.918688Z",
     "iopub.status.idle": "2022-08-11T14:11:36.923429Z",
     "shell.execute_reply": "2022-08-11T14:11:36.922283Z"
    },
    "papermill": {
     "duration": 0.01424,
     "end_time": "2022-08-11T14:11:36.925947",
     "exception": false,
     "start_time": "2022-08-11T14:11:36.911707",
     "status": "completed"
    },
    "tags": []
   },
   "outputs": [],
   "source": [
    "#q3.hint()\n",
    "#q3.solution()"
   ]
  },
  {
   "cell_type": "markdown",
   "id": "6a27e674",
   "metadata": {
    "papermill": {
     "duration": 0.005015,
     "end_time": "2022-08-11T14:11:36.936529",
     "exception": false,
     "start_time": "2022-08-11T14:11:36.931514",
     "status": "completed"
    },
    "tags": []
   },
   "source": [
    "## 4.\n",
    "What are the most common wine-producing regions? Create a Series counting the number of times each value occurs in the `region_1` field. This field is often missing data, so replace missing values with `Unknown`. Sort in descending order.  Your output should look something like this:\n",
    "\n",
    "```\n",
    "Unknown                    21247\n",
    "Napa Valley                 4480\n",
    "                           ...  \n",
    "Bardolino Superiore            1\n",
    "Primitivo del Tarantino        1\n",
    "Name: region_1, Length: 1230, dtype: int64\n",
    "```"
   ]
  },
  {
   "cell_type": "code",
   "execution_count": 8,
   "id": "32844737",
   "metadata": {
    "execution": {
     "iopub.execute_input": "2022-08-11T14:11:36.949539Z",
     "iopub.status.busy": "2022-08-11T14:11:36.949064Z",
     "iopub.status.idle": "2022-08-11T14:11:36.963070Z",
     "shell.execute_reply": "2022-08-11T14:11:36.962174Z"
    },
    "papermill": {
     "duration": 0.02359,
     "end_time": "2022-08-11T14:11:36.965580",
     "exception": false,
     "start_time": "2022-08-11T14:11:36.941990",
     "status": "completed"
    },
    "tags": []
   },
   "outputs": [],
   "source": [
    "reviews.region_1.fillna(\"Unknown\",inplace=True)"
   ]
  },
  {
   "cell_type": "code",
   "execution_count": 9,
   "id": "20b8f06d",
   "metadata": {
    "execution": {
     "iopub.execute_input": "2022-08-11T14:11:36.978753Z",
     "iopub.status.busy": "2022-08-11T14:11:36.977797Z",
     "iopub.status.idle": "2022-08-11T14:11:36.999564Z",
     "shell.execute_reply": "2022-08-11T14:11:36.998234Z"
    },
    "papermill": {
     "duration": 0.031199,
     "end_time": "2022-08-11T14:11:37.002240",
     "exception": false,
     "start_time": "2022-08-11T14:11:36.971041",
     "status": "completed"
    },
    "tags": []
   },
   "outputs": [
    {
     "data": {
      "text/plain": [
       "Unknown                    21247\n",
       "Napa Valley                 4480\n",
       "Columbia Valley (WA)        4124\n",
       "Russian River Valley        3091\n",
       "California                  2629\n",
       "                           ...  \n",
       "Lamezia                        1\n",
       "Trentino Superiore             1\n",
       "Grave del Friuli               1\n",
       "Vin Santo di Carmignano        1\n",
       "Paestum                        1\n",
       "Name: region_1, Length: 1230, dtype: int64"
      ]
     },
     "execution_count": 9,
     "metadata": {},
     "output_type": "execute_result"
    }
   ],
   "source": [
    "reviews.region_1.value_counts()"
   ]
  },
  {
   "cell_type": "code",
   "execution_count": 10,
   "id": "723e2366",
   "metadata": {
    "execution": {
     "iopub.execute_input": "2022-08-11T14:11:37.015554Z",
     "iopub.status.busy": "2022-08-11T14:11:37.015122Z",
     "iopub.status.idle": "2022-08-11T14:11:37.024668Z",
     "shell.execute_reply": "2022-08-11T14:11:37.023357Z"
    },
    "papermill": {
     "duration": 0.019298,
     "end_time": "2022-08-11T14:11:37.027198",
     "exception": false,
     "start_time": "2022-08-11T14:11:37.007900",
     "status": "completed"
    },
    "tags": []
   },
   "outputs": [
    {
     "data": {
      "application/javascript": [
       "parent.postMessage({\"jupyterEvent\": \"custom.exercise_interaction\", \"data\": {\"outcomeType\": 4, \"interactionType\": 1, \"questionType\": 2, \"questionId\": \"4_ReviewsPerRegion\", \"learnToolsVersion\": \"0.3.4\", \"valueTowardsCompletion\": 0.0, \"failureMessage\": \"\", \"exceptionClass\": \"\", \"trace\": \"\"}}, \"*\")"
      ],
      "text/plain": [
       "<IPython.core.display.Javascript object>"
      ]
     },
     "metadata": {},
     "output_type": "display_data"
    },
    {
     "data": {
      "text/markdown": [
       "<span style=\"color:#ccaa33\">Check:</span> When you've updated the starter code, `check()` will tell you whether your code is correct. You need to update the code that creates variable `reviews_per_region`"
      ],
      "text/plain": [
       "Check: When you've updated the starter code, `check()` will tell you whether your code is correct. You need to update the code that creates variable `reviews_per_region`"
      ]
     },
     "metadata": {},
     "output_type": "display_data"
    }
   ],
   "source": [
    "reviews_per_region = ____\n",
    "\n",
    "# Check your answer\n",
    "q4.check()"
   ]
  },
  {
   "cell_type": "code",
   "execution_count": 11,
   "id": "9588d840",
   "metadata": {
    "execution": {
     "iopub.execute_input": "2022-08-11T14:11:37.041782Z",
     "iopub.status.busy": "2022-08-11T14:11:37.041386Z",
     "iopub.status.idle": "2022-08-11T14:11:37.046367Z",
     "shell.execute_reply": "2022-08-11T14:11:37.044996Z"
    },
    "papermill": {
     "duration": 0.014892,
     "end_time": "2022-08-11T14:11:37.048914",
     "exception": false,
     "start_time": "2022-08-11T14:11:37.034022",
     "status": "completed"
    },
    "tags": []
   },
   "outputs": [],
   "source": [
    "#q4.hint()\n",
    "#q4.solution()"
   ]
  },
  {
   "cell_type": "markdown",
   "id": "27ec3c02",
   "metadata": {
    "papermill": {
     "duration": 0.005706,
     "end_time": "2022-08-11T14:11:37.060723",
     "exception": false,
     "start_time": "2022-08-11T14:11:37.055017",
     "status": "completed"
    },
    "tags": []
   },
   "source": [
    "# Keep going\n",
    "\n",
    "Move on to **[renaming and combining](https://www.kaggle.com/residentmario/renaming-and-combining)**."
   ]
  },
  {
   "cell_type": "markdown",
   "id": "b885bee0",
   "metadata": {
    "papermill": {
     "duration": 0.005622,
     "end_time": "2022-08-11T14:11:37.072296",
     "exception": false,
     "start_time": "2022-08-11T14:11:37.066674",
     "status": "completed"
    },
    "tags": []
   },
   "source": [
    "---\n",
    "\n",
    "\n",
    "\n",
    "\n",
    "*Have questions or comments? Visit the [course discussion forum](https://www.kaggle.com/learn/pandas/discussion) to chat with other learners.*"
   ]
  }
 ],
 "metadata": {
  "kernelspec": {
   "display_name": "Python 3",
   "language": "python",
   "name": "python3"
  },
  "language_info": {
   "codemirror_mode": {
    "name": "ipython",
    "version": 3
   },
   "file_extension": ".py",
   "mimetype": "text/x-python",
   "name": "python",
   "nbconvert_exporter": "python",
   "pygments_lexer": "ipython3",
   "version": "3.7.12"
  },
  "papermill": {
   "default_parameters": {},
   "duration": 15.688354,
   "end_time": "2022-08-11T14:11:37.800724",
   "environment_variables": {},
   "exception": null,
   "input_path": "__notebook__.ipynb",
   "output_path": "__notebook__.ipynb",
   "parameters": {},
   "start_time": "2022-08-11T14:11:22.112370",
   "version": "2.3.4"
  }
 },
 "nbformat": 4,
 "nbformat_minor": 5
}
